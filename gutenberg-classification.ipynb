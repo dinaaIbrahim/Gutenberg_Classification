{
 "cells": [
  {
   "cell_type": "markdown",
   "id": "c9e6af43",
   "metadata": {
    "id": "n9RDcUk8WtNz",
    "papermill": {
     "duration": 0.016711,
     "end_time": "2022-08-20T06:32:25.971455",
     "exception": false,
     "start_time": "2022-08-20T06:32:25.954744",
     "status": "completed"
    },
    "tags": []
   },
   "source": [
    "# Gutenberg\n",
    "\n",
    "\n",
    "**Project Gutenberg is a library of over 60,000 free eBooks**\n",
    "\n",
    "![Gutenberg](https://drive.google.com/uc?export=view&id=1bOd8Hiv-sU8Skj1gYR-2cxLUEBIretyZ)\n",
    "\n",
    "\n",
    "**Recommended to use GPU to run much faster.\n",
    "But it works well with the CPU also.**\n",
    "- GPU takes around 40 mins, while CPU may take hours."
   ]
  },
  {
   "cell_type": "markdown",
   "id": "bb73615d",
   "metadata": {
    "id": "83f43hJ-99_G",
    "papermill": {
     "duration": 0.015028,
     "end_time": "2022-08-20T06:32:26.001756",
     "exception": false,
     "start_time": "2022-08-20T06:32:25.986728",
     "status": "completed"
    },
    "tags": []
   },
   "source": [
    "# Project Methodology\n",
    "\n",
    "![Gutenberg](https://drive.google.com/uc?export=view&id=1-YX8_vqTOSjudFe5AiovLCDzA6SEOhLm)"
   ]
  },
  {
   "cell_type": "markdown",
   "id": "e26bca04",
   "metadata": {
    "id": "6Dx8P3FptvqN",
    "papermill": {
     "duration": 0.015423,
     "end_time": "2022-08-20T06:32:26.032544",
     "exception": false,
     "start_time": "2022-08-20T06:32:26.017121",
     "status": "completed"
    },
    "tags": []
   },
   "source": [
    "# Project Main Steps\n",
    "\n",
    "\n",
    "- [Data Exploration](#1)\n",
    "- [Data Preprocessing](#2)\n",
    "- [Word Embedding](#3)\n",
    "  - [BOW](#4)\n",
    "  - [TF-IDF](#5)\n",
    "  - [Doc2Vec](#6)\n",
    "  - [Bert Embedding](#7)\n",
    "  - [Glove](#8)\n",
    "  - [Fast text](#9)\n",
    "  - [Word2Vec](#10)\n",
    "  - [LDA (Linear Discriminant Analysis)](#11)\n",
    "- [Word embedding dictionary](#12)\n",
    "- [Training](#13)\n",
    "- [BERT classifier](#14)\n",
    "- [Validation](#15)\n",
    "- [Error analysis](#16)\n",
    "  - [Reduce the samples' word number](#17)\n",
    "  - [Word Counts](#18)\n",
    "- [Grid Search](#19)\n",
    "- [Conclusion](#20)"
   ]
  },
  {
   "cell_type": "markdown",
   "id": "3859ad1f",
   "metadata": {
    "id": "c3nT3QAEXL2b",
    "papermill": {
     "duration": 0.015002,
     "end_time": "2022-08-20T06:32:26.063238",
     "exception": false,
     "start_time": "2022-08-20T06:32:26.048236",
     "status": "completed"
    },
    "tags": []
   },
   "source": [
    "### Install nltk library and download Gutenberg's digital books"
   ]
  },
  {
   "cell_type": "code",
   "execution_count": 1,
   "id": "f31419f9",
   "metadata": {
    "execution": {
     "iopub.execute_input": "2022-08-20T06:32:26.096569Z",
     "iopub.status.busy": "2022-08-20T06:32:26.095689Z",
     "iopub.status.idle": "2022-08-20T06:32:37.319949Z",
     "shell.execute_reply": "2022-08-20T06:32:37.318593Z"
    },
    "id": "RoYsC_A8W0wb",
    "outputId": "c29fb52f-a0a9-4d13-afe8-99e7bcc2acc5",
    "papermill": {
     "duration": 11.24454,
     "end_time": "2022-08-20T06:32:37.322907",
     "exception": false,
     "start_time": "2022-08-20T06:32:26.078367",
     "status": "completed"
    },
    "tags": []
   },
   "outputs": [
    {
     "name": "stdout",
     "output_type": "stream",
     "text": [
      "Requirement already satisfied: nltk in /opt/conda/lib/python3.7/site-packages (3.7)\r\n",
      "Requirement already satisfied: tqdm in /opt/conda/lib/python3.7/site-packages (from nltk) (4.64.0)\r\n",
      "Requirement already satisfied: joblib in /opt/conda/lib/python3.7/site-packages (from nltk) (1.0.1)\r\n",
      "Requirement already satisfied: regex>=2021.8.3 in /opt/conda/lib/python3.7/site-packages (from nltk) (2021.11.10)\r\n",
      "Requirement already satisfied: click in /opt/conda/lib/python3.7/site-packages (from nltk) (8.0.4)\r\n",
      "Requirement already satisfied: importlib-metadata in /opt/conda/lib/python3.7/site-packages (from click->nltk) (4.12.0)\r\n",
      "Requirement already satisfied: typing-extensions>=3.6.4 in /opt/conda/lib/python3.7/site-packages (from importlib-metadata->click->nltk) (4.1.1)\r\n",
      "Requirement already satisfied: zipp>=0.5 in /opt/conda/lib/python3.7/site-packages (from importlib-metadata->click->nltk) (3.8.0)\r\n",
      "\u001b[33mWARNING: Running pip as the 'root' user can result in broken permissions and conflicting behaviour with the system package manager. It is recommended to use a virtual environment instead: https://pip.pypa.io/warnings/venv\u001b[0m\u001b[33m\r\n",
      "\u001b[0m"
     ]
    }
   ],
   "source": [
    "!pip install nltk"
   ]
  },
  {
   "cell_type": "code",
   "execution_count": 2,
   "id": "d97fa0a7",
   "metadata": {
    "execution": {
     "iopub.execute_input": "2022-08-20T06:32:37.359906Z",
     "iopub.status.busy": "2022-08-20T06:32:37.359541Z",
     "iopub.status.idle": "2022-08-20T06:32:38.980917Z",
     "shell.execute_reply": "2022-08-20T06:32:38.979781Z"
    },
    "id": "VrQ4jB3lXKe9",
    "outputId": "a86be3ba-1546-417f-a986-6c7aea4cc27a",
    "papermill": {
     "duration": 1.642385,
     "end_time": "2022-08-20T06:32:38.983447",
     "exception": false,
     "start_time": "2022-08-20T06:32:37.341062",
     "status": "completed"
    },
    "tags": []
   },
   "outputs": [
    {
     "name": "stderr",
     "output_type": "stream",
     "text": [
      "[nltk_data] Downloading package gutenberg to /usr/share/nltk_data...\n",
      "[nltk_data]   Package gutenberg is already up-to-date!\n"
     ]
    },
    {
     "data": {
      "text/plain": [
       "['austen-emma.txt',\n",
       " 'austen-persuasion.txt',\n",
       " 'austen-sense.txt',\n",
       " 'bible-kjv.txt',\n",
       " 'blake-poems.txt',\n",
       " 'bryant-stories.txt',\n",
       " 'burgess-busterbrown.txt',\n",
       " 'carroll-alice.txt',\n",
       " 'chesterton-ball.txt',\n",
       " 'chesterton-brown.txt',\n",
       " 'chesterton-thursday.txt',\n",
       " 'edgeworth-parents.txt',\n",
       " 'melville-moby_dick.txt',\n",
       " 'milton-paradise.txt',\n",
       " 'shakespeare-caesar.txt',\n",
       " 'shakespeare-hamlet.txt',\n",
       " 'shakespeare-macbeth.txt',\n",
       " 'whitman-leaves.txt']"
      ]
     },
     "execution_count": 2,
     "metadata": {},
     "output_type": "execute_result"
    }
   ],
   "source": [
    "import numpy as np\n",
    "import pandas as pd\n",
    "import nltk\n",
    "\n",
    "nltk.download('gutenberg')\n",
    "books_names=nltk.corpus.gutenberg.fileids()\n",
    "books_names"
   ]
  },
  {
   "cell_type": "markdown",
   "id": "1acc248c",
   "metadata": {
    "id": "koMUjpqrPa6E",
    "papermill": {
     "duration": 0.016932,
     "end_time": "2022-08-20T06:32:39.018153",
     "exception": false,
     "start_time": "2022-08-20T06:32:39.001221",
     "status": "completed"
    },
    "tags": []
   },
   "source": [
    "# <a id=\"1\">Data Exploration</a>"
   ]
  },
  {
   "cell_type": "markdown",
   "id": "04a30793",
   "metadata": {
    "id": "HgiiNEOJaWlY",
    "papermill": {
     "duration": 0.016894,
     "end_time": "2022-08-20T06:32:39.052453",
     "exception": false,
     "start_time": "2022-08-20T06:32:39.035559",
     "status": "completed"
    },
    "tags": []
   },
   "source": [
    "<h3>Choose 5 books from the same category and different authors<h3>"
   ]
  },
  {
   "cell_type": "code",
   "execution_count": 3,
   "id": "c0baf6cb",
   "metadata": {
    "execution": {
     "iopub.execute_input": "2022-08-20T06:32:39.089140Z",
     "iopub.status.busy": "2022-08-20T06:32:39.088109Z",
     "iopub.status.idle": "2022-08-20T06:32:39.094908Z",
     "shell.execute_reply": "2022-08-20T06:32:39.093791Z"
    },
    "id": "A85qBx_4aXD6",
    "outputId": "841f8f11-ebc6-4698-a9f6-7974c2708b7d",
    "papermill": {
     "duration": 0.028389,
     "end_time": "2022-08-20T06:32:39.098191",
     "exception": false,
     "start_time": "2022-08-20T06:32:39.069802",
     "status": "completed"
    },
    "tags": []
   },
   "outputs": [
    {
     "name": "stdout",
     "output_type": "stream",
     "text": [
      "['melville-moby_dick.txt', 'chesterton-ball.txt', 'edgeworth-parents.txt', 'austen-emma.txt', 'bryant-stories.txt']\n"
     ]
    }
   ],
   "source": [
    "books_idx=[12,8,11,0,5]\n",
    "selected_books=[]\n",
    "for idx in books_idx :\n",
    "  selected_books.append(books_names[idx])\n",
    "print(selected_books)"
   ]
  },
  {
   "cell_type": "markdown",
   "id": "7ec2a14d",
   "metadata": {
    "id": "Wsxn0umnafMS",
    "papermill": {
     "duration": 0.016745,
     "end_time": "2022-08-20T06:32:39.132190",
     "exception": false,
     "start_time": "2022-08-20T06:32:39.115445",
     "status": "completed"
    },
    "tags": []
   },
   "source": [
    "### Discover these books' content"
   ]
  },
  {
   "cell_type": "code",
   "execution_count": 4,
   "id": "c46b9234",
   "metadata": {
    "execution": {
     "iopub.execute_input": "2022-08-20T06:32:39.168369Z",
     "iopub.status.busy": "2022-08-20T06:32:39.167818Z",
     "iopub.status.idle": "2022-08-20T06:32:39.197889Z",
     "shell.execute_reply": "2022-08-20T06:32:39.196883Z"
    },
    "id": "qQi4FsJcaaUW",
    "outputId": "bb30d217-f529-49e7-b66a-0ca174fd76ef",
    "papermill": {
     "duration": 0.050896,
     "end_time": "2022-08-20T06:32:39.200261",
     "exception": false,
     "start_time": "2022-08-20T06:32:39.149365",
     "status": "completed"
    },
    "tags": []
   },
   "outputs": [
    {
     "data": {
      "text/plain": [
       "'Moby Dick by Herman Melville 1851]\\r\\n\\r\\n\\r\\nETYMOLOGY.\\r\\n\\r\\n(Supplied by a Late Consumptive Usher to a Gr'"
      ]
     },
     "execution_count": 4,
     "metadata": {},
     "output_type": "execute_result"
    }
   ],
   "source": [
    "book_contents=[]\n",
    "for book_name in selected_books:\n",
    "  book_contents.append(nltk.corpus.gutenberg.raw(book_name))\n",
    "book_contents[0][1:100]"
   ]
  },
  {
   "cell_type": "markdown",
   "id": "81a12845",
   "metadata": {
    "id": "OZ6hTaYzakuL",
    "papermill": {
     "duration": 0.017112,
     "end_time": "2022-08-20T06:32:39.235148",
     "exception": false,
     "start_time": "2022-08-20T06:32:39.218036",
     "status": "completed"
    },
    "tags": []
   },
   "source": [
    "> - Many problems have been found in books' content, so we should deal with them."
   ]
  },
  {
   "cell_type": "markdown",
   "id": "c87234f1",
   "metadata": {
    "id": "WzMQt6rPPh5q",
    "papermill": {
     "duration": 0.017177,
     "end_time": "2022-08-20T06:32:39.270149",
     "exception": false,
     "start_time": "2022-08-20T06:32:39.252972",
     "status": "completed"
    },
    "tags": []
   },
   "source": [
    "# <a id=\"2\">Data Preprocessing</a>"
   ]
  },
  {
   "cell_type": "markdown",
   "id": "7c33ca7b",
   "metadata": {
    "id": "xJuq89a5amd_",
    "papermill": {
     "duration": 0.017234,
     "end_time": "2022-08-20T06:32:39.304759",
     "exception": false,
     "start_time": "2022-08-20T06:32:39.287525",
     "status": "completed"
    },
    "tags": []
   },
   "source": [
    "### Clean the content of the books by:\n",
    "- Removing the word capitalization, unwanted characters, white spaces, and stop words.\n",
    "- Replacing some patterns.\n",
    "- Applying lemmatization and tokenization."
   ]
  },
  {
   "cell_type": "code",
   "execution_count": 5,
   "id": "178360fe",
   "metadata": {
    "execution": {
     "iopub.execute_input": "2022-08-20T06:32:39.341503Z",
     "iopub.status.busy": "2022-08-20T06:32:39.340504Z",
     "iopub.status.idle": "2022-08-20T06:32:39.725984Z",
     "shell.execute_reply": "2022-08-20T06:32:39.721682Z"
    },
    "id": "3wF0EfVPahP1",
    "outputId": "f39bd9ac-e38c-4287-e383-7afccf18d49b",
    "papermill": {
     "duration": 0.414565,
     "end_time": "2022-08-20T06:32:39.736679",
     "exception": false,
     "start_time": "2022-08-20T06:32:39.322114",
     "status": "completed"
    },
    "tags": []
   },
   "outputs": [
    {
     "name": "stderr",
     "output_type": "stream",
     "text": [
      "[nltk_data] Downloading package punkt to /usr/share/nltk_data...\n",
      "[nltk_data]   Package punkt is already up-to-date!\n",
      "[nltk_data] Downloading package stopwords to /usr/share/nltk_data...\n",
      "[nltk_data]   Package stopwords is already up-to-date!\n",
      "[nltk_data] Downloading package omw-1.4 to /usr/share/nltk_data...\n",
      "[nltk_data] Downloading package averaged_perceptron_tagger to\n",
      "[nltk_data]     /usr/share/nltk_data...\n",
      "[nltk_data]   Package averaged_perceptron_tagger is already up-to-\n",
      "[nltk_data]       date!\n",
      "[nltk_data] Downloading package wordnet to /usr/share/nltk_data...\n",
      "[nltk_data]   Package wordnet is already up-to-date!\n"
     ]
    }
   ],
   "source": [
    "import nltk\n",
    "nltk.download('punkt')\n",
    "nltk.download('stopwords')\n",
    "nltk.download('omw-1.4')\n",
    "nltk.download('averaged_perceptron_tagger')\n",
    "nltk.download('wordnet')\n",
    "from nltk.corpus import stopwords, wordnet\n",
    "from nltk.tokenize import word_tokenize\n",
    "from nltk.stem import WordNetLemmatizer\n",
    "from nltk import pos_tag"
   ]
  },
  {
   "cell_type": "code",
   "execution_count": 6,
   "id": "e1185b88",
   "metadata": {
    "execution": {
     "iopub.execute_input": "2022-08-20T06:32:39.828712Z",
     "iopub.status.busy": "2022-08-20T06:32:39.828151Z",
     "iopub.status.idle": "2022-08-20T06:32:39.840232Z",
     "shell.execute_reply": "2022-08-20T06:32:39.839192Z"
    },
    "id": "qzTXO-a-wAT9",
    "papermill": {
     "duration": 0.060035,
     "end_time": "2022-08-20T06:32:39.844457",
     "exception": false,
     "start_time": "2022-08-20T06:32:39.784422",
     "status": "completed"
    },
    "tags": []
   },
   "outputs": [],
   "source": [
    "import re\n",
    "\n",
    "def get_wordnet_pos(word):\n",
    "    \"\"\"Map POS tag to first character lemmatize() accepts\"\"\"\n",
    "    tag = pos_tag([word])[0][1][0].upper()\n",
    "    tag_dict = {\"J\": wordnet.ADJ,\n",
    "                \"N\": wordnet.NOUN,\n",
    "                \"V\": wordnet.VERB,\n",
    "                \"R\": wordnet.ADV}\n",
    "\n",
    "    return tag_dict.get(tag, wordnet.NOUN)\n",
    "\n",
    "def clean_text(text):\n",
    "    #remove punctuation and strange characters\n",
    "    lemmatizer = WordNetLemmatizer()\n",
    "    sub_pattern = r'[^A-Za-z]'\n",
    "    split_pattern = r\"\\s+\"\n",
    "    #remove stop words\n",
    "    stop_words = stopwords.words('english') + ['never','ever','couldnot','wouldnot','could','would','us',\"i'm\",\"you'd\"]\n",
    "    lower_book = text.lower()                                              # Converting all words into lower case.\n",
    "    filtered_book = re.sub(sub_pattern,' ',lower_book).lstrip().rstrip()   # Replacing all characters except those in the pattern into spaces.\n",
    "    filtered_book = word_tokenize(filtered_book)                      # tokenizethe whole book into words in a list.\n",
    "    filtered_book = [lemmatizer.lemmatize(word, get_wordnet_pos(word)) for word in filtered_book if word not in stop_words]\n",
    "    return filtered_book\n"
   ]
  },
  {
   "cell_type": "code",
   "execution_count": 7,
   "id": "90e667da",
   "metadata": {
    "execution": {
     "iopub.execute_input": "2022-08-20T06:32:39.900604Z",
     "iopub.status.busy": "2022-08-20T06:32:39.900238Z",
     "iopub.status.idle": "2022-08-20T06:33:43.362003Z",
     "shell.execute_reply": "2022-08-20T06:33:43.360943Z"
    },
    "id": "4VWBOKU_asLU",
    "outputId": "e4c850a6-6a4e-4ca7-f01f-56e900fceaef",
    "papermill": {
     "duration": 63.505028,
     "end_time": "2022-08-20T06:33:43.377773",
     "exception": false,
     "start_time": "2022-08-20T06:32:39.872745",
     "status": "completed"
    },
    "tags": []
   },
   "outputs": [
    {
     "data": {
      "text/plain": [
       "['dick',\n",
       " 'herman',\n",
       " 'melville',\n",
       " 'etymology',\n",
       " 'supply',\n",
       " 'late',\n",
       " 'consumptive',\n",
       " 'usher',\n",
       " 'grammar',\n",
       " 'school',\n",
       " 'pale',\n",
       " 'usher',\n",
       " 'threadbare',\n",
       " 'coat',\n",
       " 'heart',\n",
       " 'body',\n",
       " 'brain',\n",
       " 'see',\n",
       " 'dust',\n",
       " 'old',\n",
       " 'lexicon',\n",
       " 'grammar',\n",
       " 'queer',\n",
       " 'handkerchief',\n",
       " 'mockingly',\n",
       " 'embellish',\n",
       " 'gay',\n",
       " 'flag',\n",
       " 'know']"
      ]
     },
     "execution_count": 7,
     "metadata": {},
     "output_type": "execute_result"
    }
   ],
   "source": [
    "cleaned_books_contents=[]\n",
    "for book in book_contents :\n",
    "  cleaned_books_contents.append(clean_text(book))\n",
    "cleaned_books_contents[0][1:30]"
   ]
  },
  {
   "cell_type": "markdown",
   "id": "1c67353e",
   "metadata": {
    "id": "ahm3bpkJayW8",
    "papermill": {
     "duration": 0.016633,
     "end_time": "2022-08-20T06:33:43.410438",
     "exception": false,
     "start_time": "2022-08-20T06:33:43.393805",
     "status": "completed"
    },
    "tags": []
   },
   "source": [
    "### Create 200 random samples from each book, where each sample contains 100 words."
   ]
  },
  {
   "cell_type": "code",
   "execution_count": 8,
   "id": "ec3114b1",
   "metadata": {
    "execution": {
     "iopub.execute_input": "2022-08-20T06:33:43.443980Z",
     "iopub.status.busy": "2022-08-20T06:33:43.443611Z",
     "iopub.status.idle": "2022-08-20T06:33:43.456748Z",
     "shell.execute_reply": "2022-08-20T06:33:43.455801Z"
    },
    "id": "ie0V1QaHauji",
    "papermill": {
     "duration": 0.032366,
     "end_time": "2022-08-20T06:33:43.458798",
     "exception": false,
     "start_time": "2022-08-20T06:33:43.426432",
     "status": "completed"
    },
    "tags": []
   },
   "outputs": [],
   "source": [
    "def book_samples(book,n_samples) :\n",
    "    import random\n",
    "    samples=[]\n",
    "    start=0\n",
    "    while start +100 < len(book)-1:\n",
    "        temp1=\"\"\n",
    "        for j in range(start,start+n_samples):\n",
    "            temp1+= book[j] + \" \"\n",
    "        samples.append(temp1)\n",
    "        start+=100\n",
    "    random_samples_index=random.sample(range(0,len(samples)),k=min(200,len(samples)))\n",
    "    partitions=[]\n",
    "    for idx in random_samples_index :\n",
    "        partitions.append(samples[idx])\n",
    "    return partitions"
   ]
  },
  {
   "cell_type": "code",
   "execution_count": 9,
   "id": "5ece84e9",
   "metadata": {
    "execution": {
     "iopub.execute_input": "2022-08-20T06:33:43.492542Z",
     "iopub.status.busy": "2022-08-20T06:33:43.492250Z",
     "iopub.status.idle": "2022-08-20T06:33:43.561727Z",
     "shell.execute_reply": "2022-08-20T06:33:43.560812Z"
    },
    "id": "t537f4J_a011",
    "outputId": "e39694af-aca6-4a80-c49a-15e0f57867ff",
    "papermill": {
     "duration": 0.088773,
     "end_time": "2022-08-20T06:33:43.563744",
     "exception": false,
     "start_time": "2022-08-20T06:33:43.474971",
     "status": "completed"
    },
    "tags": []
   },
   "outputs": [
    {
     "data": {
      "text/plain": [
       "'watchmaker sailor put hone porpoise meat good eat know may occur porpoise spout indeed spout small readily discernible next time chance watch see great sperm whale miniature book iii duodecimo chapter ii algerine porpoise pirate savage found think pacific somewhat large huzza porpoise much general make provoke buckle shark lower many time yet saw capture book iii duodecimo chapter iii mealy mouth porpoise large kind porpoise found pacific far know english name hitherto designate fisher right whale porpoise circumstance chiefly found vicinity folio shape differs degree huzza porpoise less rotund jolly girth indeed quite neat gentleman like figure fin back '"
      ]
     },
     "execution_count": 9,
     "metadata": {},
     "output_type": "execute_result"
    }
   ],
   "source": [
    "samples_of_books=[]\n",
    "for cleaned_book in cleaned_books_contents :\n",
    "  samples_of_books.append(book_samples(cleaned_book,100))\n",
    "samples_of_books[0][0]"
   ]
  },
  {
   "cell_type": "markdown",
   "id": "e5c269a0",
   "metadata": {
    "id": "C5FeoLMsa7qn",
    "papermill": {
     "duration": 0.016627,
     "end_time": "2022-08-20T06:33:43.596893",
     "exception": false,
     "start_time": "2022-08-20T06:33:43.580266",
     "status": "completed"
    },
    "tags": []
   },
   "source": [
    "### Create a data frame containing 2 columns and 1000 rows representing the books' samples (Sample) and the book name (Label).\n",
    "\n",
    "|id|book sample | book name (label)|\n",
    "|--|--|--|\n",
    "||||"
   ]
  },
  {
   "cell_type": "code",
   "execution_count": 10,
   "id": "414ab0a3",
   "metadata": {
    "execution": {
     "iopub.execute_input": "2022-08-20T06:33:43.631002Z",
     "iopub.status.busy": "2022-08-20T06:33:43.630659Z",
     "iopub.status.idle": "2022-08-20T06:33:43.651777Z",
     "shell.execute_reply": "2022-08-20T06:33:43.650643Z"
    },
    "id": "5e-0Q3wSa3CK",
    "outputId": "8cd3824e-d3a0-43bf-ca1c-3b64a87e5212",
    "papermill": {
     "duration": 0.040732,
     "end_time": "2022-08-20T06:33:43.654271",
     "exception": false,
     "start_time": "2022-08-20T06:33:43.613539",
     "status": "completed"
    },
    "tags": []
   },
   "outputs": [
    {
     "data": {
      "text/plain": [
       "array(['melville-moby_dick.txt', 'chesterton-ball.txt',\n",
       "       'edgeworth-parents.txt', 'austen-emma.txt', 'bryant-stories.txt'],\n",
       "      dtype=object)"
      ]
     },
     "execution_count": 10,
     "metadata": {},
     "output_type": "execute_result"
    }
   ],
   "source": [
    "import pandas as pd\n",
    "data_frame =pd.DataFrame()\n",
    "data_frame['Sample of the book']=[item for sublist in samples_of_books for item in sublist]\n",
    "target=[[selected_books[i]]*min(200,len(samples_of_books[i])) for i in range(len(selected_books)) ]\n",
    "data_frame['Book_name']=[item for sublist in target for item in sublist]\n",
    "data_frame['Book_name'].unique()"
   ]
  },
  {
   "cell_type": "markdown",
   "id": "393e9a13",
   "metadata": {
    "id": "kgmn6_nlbBhk",
    "papermill": {
     "duration": 0.015885,
     "end_time": "2022-08-20T06:33:43.686491",
     "exception": false,
     "start_time": "2022-08-20T06:33:43.670606",
     "status": "completed"
    },
    "tags": []
   },
   "source": [
    "<h3>Shuffling the dataset"
   ]
  },
  {
   "cell_type": "code",
   "execution_count": 11,
   "id": "cf396d5f",
   "metadata": {
    "execution": {
     "iopub.execute_input": "2022-08-20T06:33:43.721045Z",
     "iopub.status.busy": "2022-08-20T06:33:43.720723Z",
     "iopub.status.idle": "2022-08-20T06:33:43.737473Z",
     "shell.execute_reply": "2022-08-20T06:33:43.736416Z"
    },
    "id": "7kE3-K9ja-7K",
    "outputId": "ba915074-7e8e-4f3a-c65d-debed8b9dd7f",
    "papermill": {
     "duration": 0.036415,
     "end_time": "2022-08-20T06:33:43.739990",
     "exception": false,
     "start_time": "2022-08-20T06:33:43.703575",
     "status": "completed"
    },
    "tags": []
   },
   "outputs": [
    {
     "data": {
      "text/html": [
       "<div>\n",
       "<style scoped>\n",
       "    .dataframe tbody tr th:only-of-type {\n",
       "        vertical-align: middle;\n",
       "    }\n",
       "\n",
       "    .dataframe tbody tr th {\n",
       "        vertical-align: top;\n",
       "    }\n",
       "\n",
       "    .dataframe thead th {\n",
       "        text-align: right;\n",
       "    }\n",
       "</style>\n",
       "<table border=\"1\" class=\"dataframe\">\n",
       "  <thead>\n",
       "    <tr style=\"text-align: right;\">\n",
       "      <th></th>\n",
       "      <th>Sample of the book</th>\n",
       "      <th>Book_name</th>\n",
       "    </tr>\n",
       "  </thead>\n",
       "  <tbody>\n",
       "    <tr>\n",
       "      <th>169</th>\n",
       "      <td>whence come eyed real phantom ask sun moon cre...</td>\n",
       "      <td>melville-moby_dick.txt</td>\n",
       "    </tr>\n",
       "    <tr>\n",
       "      <th>172</th>\n",
       "      <td>encounter sperm whale whose sole knowledge lev...</td>\n",
       "      <td>melville-moby_dick.txt</td>\n",
       "    </tr>\n",
       "    <tr>\n",
       "      <th>967</th>\n",
       "      <td>take command piccola poor sweet piccola hear h...</td>\n",
       "      <td>bryant-stories.txt</td>\n",
       "    </tr>\n",
       "    <tr>\n",
       "      <th>899</th>\n",
       "      <td>inside story heard little shiver bird sparrow ...</td>\n",
       "      <td>bryant-stories.txt</td>\n",
       "    </tr>\n",
       "    <tr>\n",
       "      <th>2</th>\n",
       "      <td>rising say stay eleven minute jet seventy time...</td>\n",
       "      <td>melville-moby_dick.txt</td>\n",
       "    </tr>\n",
       "    <tr>\n",
       "      <th>...</th>\n",
       "      <td>...</td>\n",
       "      <td>...</td>\n",
       "    </tr>\n",
       "    <tr>\n",
       "      <th>97</th>\n",
       "      <td>prepared great fish swallow jonah jonah go shi...</td>\n",
       "      <td>melville-moby_dick.txt</td>\n",
       "    </tr>\n",
       "    <tr>\n",
       "      <th>627</th>\n",
       "      <td>felt certain preference preference believe des...</td>\n",
       "      <td>austen-emma.txt</td>\n",
       "    </tr>\n",
       "    <tr>\n",
       "      <th>207</th>\n",
       "      <td>science one think protoplasm naturally prefer ...</td>\n",
       "      <td>chesterton-ball.txt</td>\n",
       "    </tr>\n",
       "    <tr>\n",
       "      <th>893</th>\n",
       "      <td>pioneer atlantic coast cross mississippi river...</td>\n",
       "      <td>bryant-stories.txt</td>\n",
       "    </tr>\n",
       "    <tr>\n",
       "      <th>447</th>\n",
       "      <td>back friend basket woman anne moment saw gentl...</td>\n",
       "      <td>edgeworth-parents.txt</td>\n",
       "    </tr>\n",
       "  </tbody>\n",
       "</table>\n",
       "<p>1000 rows × 2 columns</p>\n",
       "</div>"
      ],
      "text/plain": [
       "                                    Sample of the book               Book_name\n",
       "169  whence come eyed real phantom ask sun moon cre...  melville-moby_dick.txt\n",
       "172  encounter sperm whale whose sole knowledge lev...  melville-moby_dick.txt\n",
       "967  take command piccola poor sweet piccola hear h...      bryant-stories.txt\n",
       "899  inside story heard little shiver bird sparrow ...      bryant-stories.txt\n",
       "2    rising say stay eleven minute jet seventy time...  melville-moby_dick.txt\n",
       "..                                                 ...                     ...\n",
       "97   prepared great fish swallow jonah jonah go shi...  melville-moby_dick.txt\n",
       "627  felt certain preference preference believe des...         austen-emma.txt\n",
       "207  science one think protoplasm naturally prefer ...     chesterton-ball.txt\n",
       "893  pioneer atlantic coast cross mississippi river...      bryant-stories.txt\n",
       "447  back friend basket woman anne moment saw gentl...   edgeworth-parents.txt\n",
       "\n",
       "[1000 rows x 2 columns]"
      ]
     },
     "execution_count": 11,
     "metadata": {},
     "output_type": "execute_result"
    }
   ],
   "source": [
    "from sklearn.utils import shuffle\n",
    "data_frame = shuffle(data_frame)\n",
    "data_frame"
   ]
  },
  {
   "cell_type": "code",
   "execution_count": 12,
   "id": "4e382620",
   "metadata": {
    "execution": {
     "iopub.execute_input": "2022-08-20T06:33:43.774736Z",
     "iopub.status.busy": "2022-08-20T06:33:43.774347Z",
     "iopub.status.idle": "2022-08-20T06:33:43.780708Z",
     "shell.execute_reply": "2022-08-20T06:33:43.779687Z"
    },
    "id": "aYMBLJb8qoPS",
    "papermill": {
     "duration": 0.026468,
     "end_time": "2022-08-20T06:33:43.783158",
     "exception": false,
     "start_time": "2022-08-20T06:33:43.756690",
     "status": "completed"
    },
    "tags": []
   },
   "outputs": [],
   "source": [
    "from sklearn.preprocessing import LabelEncoder\n",
    "label_encoder=LabelEncoder()\n",
    "y= label_encoder.fit_transform(data_frame['Book_name'])\n",
    "data_frame['Book_name']=y"
   ]
  },
  {
   "cell_type": "code",
   "execution_count": 13,
   "id": "bd8ecd60",
   "metadata": {
    "execution": {
     "iopub.execute_input": "2022-08-20T06:33:43.818396Z",
     "iopub.status.busy": "2022-08-20T06:33:43.818030Z",
     "iopub.status.idle": "2022-08-20T06:33:43.822238Z",
     "shell.execute_reply": "2022-08-20T06:33:43.821172Z"
    },
    "id": "xyPsZ46XO99z",
    "papermill": {
     "duration": 0.024277,
     "end_time": "2022-08-20T06:33:43.824593",
     "exception": false,
     "start_time": "2022-08-20T06:33:43.800316",
     "status": "completed"
    },
    "tags": []
   },
   "outputs": [],
   "source": [
    "# you can save the data as a dataset.csv file by run this line\n",
    "# data_frame.to_csv('dataset.csv')"
   ]
  },
  {
   "cell_type": "markdown",
   "id": "c8aa0aaa",
   "metadata": {
    "id": "B0O0BUByO990",
    "papermill": {
     "duration": 0.016499,
     "end_time": "2022-08-20T06:33:43.857471",
     "exception": false,
     "start_time": "2022-08-20T06:33:43.840972",
     "status": "completed"
    },
    "tags": []
   },
   "source": [
    "----------------------------------------"
   ]
  },
  {
   "cell_type": "markdown",
   "id": "28c6a4c4",
   "metadata": {
    "id": "K6UUBCnWPvPP",
    "papermill": {
     "duration": 0.016379,
     "end_time": "2022-08-20T06:33:43.890814",
     "exception": false,
     "start_time": "2022-08-20T06:33:43.874435",
     "status": "completed"
    },
    "tags": []
   },
   "source": [
    "## Train Test Split"
   ]
  },
  {
   "cell_type": "code",
   "execution_count": 14,
   "id": "295c45d7",
   "metadata": {
    "execution": {
     "iopub.execute_input": "2022-08-20T06:33:43.926006Z",
     "iopub.status.busy": "2022-08-20T06:33:43.924976Z",
     "iopub.status.idle": "2022-08-20T06:33:43.941766Z",
     "shell.execute_reply": "2022-08-20T06:33:43.940724Z"
    },
    "id": "SMDYiFgspzWe",
    "outputId": "bc96926a-5697-4bc8-e259-f9af6db75782",
    "papermill": {
     "duration": 0.03661,
     "end_time": "2022-08-20T06:33:43.944053",
     "exception": false,
     "start_time": "2022-08-20T06:33:43.907443",
     "status": "completed"
    },
    "tags": []
   },
   "outputs": [
    {
     "data": {
      "text/html": [
       "<div>\n",
       "<style scoped>\n",
       "    .dataframe tbody tr th:only-of-type {\n",
       "        vertical-align: middle;\n",
       "    }\n",
       "\n",
       "    .dataframe tbody tr th {\n",
       "        vertical-align: top;\n",
       "    }\n",
       "\n",
       "    .dataframe thead th {\n",
       "        text-align: right;\n",
       "    }\n",
       "</style>\n",
       "<table border=\"1\" class=\"dataframe\">\n",
       "  <thead>\n",
       "    <tr style=\"text-align: right;\">\n",
       "      <th></th>\n",
       "      <th>Sample of the book</th>\n",
       "      <th>Book_name</th>\n",
       "    </tr>\n",
       "  </thead>\n",
       "  <tbody>\n",
       "    <tr>\n",
       "      <th>606</th>\n",
       "      <td>elton one whose assistance ask invite contribu...</td>\n",
       "      <td>0</td>\n",
       "    </tr>\n",
       "    <tr>\n",
       "      <th>38</th>\n",
       "      <td>observe eye ear side head nearly one third ent...</td>\n",
       "      <td>4</td>\n",
       "    </tr>\n",
       "    <tr>\n",
       "      <th>462</th>\n",
       "      <td>sixpence jem heard say get amongst neighbour r...</td>\n",
       "      <td>3</td>\n",
       "    </tr>\n",
       "    <tr>\n",
       "      <th>378</th>\n",
       "      <td>head foremost private cell private room till d...</td>\n",
       "      <td>2</td>\n",
       "    </tr>\n",
       "    <tr>\n",
       "      <th>271</th>\n",
       "      <td>upright slender rigid figure grip side seat fi...</td>\n",
       "      <td>2</td>\n",
       "    </tr>\n",
       "    <tr>\n",
       "      <th>...</th>\n",
       "      <td>...</td>\n",
       "      <td>...</td>\n",
       "    </tr>\n",
       "    <tr>\n",
       "      <th>495</th>\n",
       "      <td>sir intend poison dog save life lord bless say...</td>\n",
       "      <td>3</td>\n",
       "    </tr>\n",
       "    <tr>\n",
       "      <th>194</th>\n",
       "      <td>afterwards take fish ergo aforesaid article co...</td>\n",
       "      <td>4</td>\n",
       "    </tr>\n",
       "    <tr>\n",
       "      <th>470</th>\n",
       "      <td>must help one another sure add betty susan tho...</td>\n",
       "      <td>3</td>\n",
       "    </tr>\n",
       "    <tr>\n",
       "      <th>252</th>\n",
       "      <td>go say evan burning eye sight sin offends god ...</td>\n",
       "      <td>2</td>\n",
       "    </tr>\n",
       "    <tr>\n",
       "      <th>895</th>\n",
       "      <td>great statue set public square duesseldorf rea...</td>\n",
       "      <td>1</td>\n",
       "    </tr>\n",
       "  </tbody>\n",
       "</table>\n",
       "<p>800 rows × 2 columns</p>\n",
       "</div>"
      ],
      "text/plain": [
       "                                    Sample of the book  Book_name\n",
       "606  elton one whose assistance ask invite contribu...          0\n",
       "38   observe eye ear side head nearly one third ent...          4\n",
       "462  sixpence jem heard say get amongst neighbour r...          3\n",
       "378  head foremost private cell private room till d...          2\n",
       "271  upright slender rigid figure grip side seat fi...          2\n",
       "..                                                 ...        ...\n",
       "495  sir intend poison dog save life lord bless say...          3\n",
       "194  afterwards take fish ergo aforesaid article co...          4\n",
       "470  must help one another sure add betty susan tho...          3\n",
       "252  go say evan burning eye sight sin offends god ...          2\n",
       "895  great statue set public square duesseldorf rea...          1\n",
       "\n",
       "[800 rows x 2 columns]"
      ]
     },
     "execution_count": 14,
     "metadata": {},
     "output_type": "execute_result"
    }
   ],
   "source": [
    "from sklearn.model_selection import train_test_split\n",
    "df_train, df_test= train_test_split(data_frame,test_size=0.2,random_state = 0)\n",
    "X_train, X_test, y_train, y_test = train_test_split(data_frame['Sample of the book'], data_frame['Book_name'], random_state = 0,test_size=0.2)\n",
    "df_train"
   ]
  },
  {
   "cell_type": "markdown",
   "id": "c474dcc3",
   "metadata": {
    "id": "36zkIvOcbKQP",
    "papermill": {
     "duration": 0.016911,
     "end_time": "2022-08-20T06:33:43.978057",
     "exception": false,
     "start_time": "2022-08-20T06:33:43.961146",
     "status": "completed"
    },
    "tags": []
   },
   "source": [
    "# <a id=\"3\">Word Embedding</a>"
   ]
  },
  {
   "cell_type": "markdown",
   "id": "724f20f6",
   "metadata": {
    "id": "9U-BjmsaZrTF",
    "papermill": {
     "duration": 0.017549,
     "end_time": "2022-08-20T06:33:44.013287",
     "exception": false,
     "start_time": "2022-08-20T06:33:43.995738",
     "status": "completed"
    },
    "tags": []
   },
   "source": [
    "It is one of the trivial steps to be followed for a better understanding of the context of what we are dealing with. After the initial text is cleaned and normalized, we need to transform it into its features to be used for modeling.\n",
    "\n",
    "We used some methods to assign weights to particular words, sentences, or documents within our data before modeling them. We go for numerical representation for individual words as it’s easy for the computer to process numbers."
   ]
  },
  {
   "cell_type": "markdown",
   "id": "b0e703a3",
   "metadata": {
    "id": "dakpvI_QthMC",
    "papermill": {
     "duration": 0.016471,
     "end_time": "2022-08-20T06:33:44.046392",
     "exception": false,
     "start_time": "2022-08-20T06:33:44.029921",
     "status": "completed"
    },
    "tags": []
   },
   "source": [
    "## <a id=\"4\">BOW</a>"
   ]
  },
  {
   "cell_type": "markdown",
   "id": "e8daa5a8",
   "metadata": {
    "id": "KQ8NR4IJcdEw",
    "papermill": {
     "duration": 0.01712,
     "end_time": "2022-08-20T06:33:44.080126",
     "exception": false,
     "start_time": "2022-08-20T06:33:44.063006",
     "status": "completed"
    },
    "tags": []
   },
   "source": [
    "A bag of words is a representation of text that describes the occurrence of words within a document, that just keeps track of word counts and disregards the grammatical details and the word order.\n",
    "As we said that we split the data. So, we applied BOW to training and testing data.\n",
    "So, it transforms each sentence into an array of occurrences in this sentence."
   ]
  },
  {
   "cell_type": "code",
   "execution_count": 15,
   "id": "d975c753",
   "metadata": {
    "execution": {
     "iopub.execute_input": "2022-08-20T06:33:44.115960Z",
     "iopub.status.busy": "2022-08-20T06:33:44.115572Z",
     "iopub.status.idle": "2022-08-20T06:33:44.216334Z",
     "shell.execute_reply": "2022-08-20T06:33:44.215134Z"
    },
    "id": "_6J9BeMfthMD",
    "outputId": "b74e85cf-f0e2-43df-e05e-bfc3828b9487",
    "papermill": {
     "duration": 0.122462,
     "end_time": "2022-08-20T06:33:44.219052",
     "exception": false,
     "start_time": "2022-08-20T06:33:44.096590",
     "status": "completed"
    },
    "tags": []
   },
   "outputs": [
    {
     "data": {
      "text/plain": [
       "(800, 9300)"
      ]
     },
     "execution_count": 15,
     "metadata": {},
     "output_type": "execute_result"
    }
   ],
   "source": [
    "from sklearn.feature_extraction.text import CountVectorizer\n",
    "\n",
    "BOW = CountVectorizer()\n",
    "BOW_train = BOW.fit_transform(X_train)\n",
    "BOW_test = BOW.transform(X_test)\n",
    "BOW_train.shape"
   ]
  },
  {
   "cell_type": "markdown",
   "id": "740eaddb",
   "metadata": {
    "id": "SmwuUZBzmJG0",
    "papermill": {
     "duration": 0.016832,
     "end_time": "2022-08-20T06:33:44.253055",
     "exception": false,
     "start_time": "2022-08-20T06:33:44.236223",
     "status": "completed"
    },
    "tags": []
   },
   "source": [
    "Apply Linear discriminant analysis (LDA) on Bow to reduce its dimensions. as it's vector shape very large."
   ]
  },
  {
   "cell_type": "code",
   "execution_count": 16,
   "id": "424b2781",
   "metadata": {
    "execution": {
     "iopub.execute_input": "2022-08-20T06:33:44.289040Z",
     "iopub.status.busy": "2022-08-20T06:33:44.288672Z",
     "iopub.status.idle": "2022-08-20T06:33:48.633589Z",
     "shell.execute_reply": "2022-08-20T06:33:48.632383Z"
    },
    "id": "wqg6-wsumHx1",
    "papermill": {
     "duration": 4.367373,
     "end_time": "2022-08-20T06:33:48.637413",
     "exception": false,
     "start_time": "2022-08-20T06:33:44.270040",
     "status": "completed"
    },
    "tags": []
   },
   "outputs": [
    {
     "data": {
      "text/plain": [
       "(200, 4)"
      ]
     },
     "execution_count": 16,
     "metadata": {},
     "output_type": "execute_result"
    }
   ],
   "source": [
    "from sklearn.discriminant_analysis import LinearDiscriminantAnalysis as LDA\n",
    "\n",
    "lda = LDA()\n",
    "lda_train = lda.fit_transform(BOW_train.toarray(), y_train)\n",
    "lda_test = lda.transform(BOW_test.toarray())\n",
    "lda_test.shape"
   ]
  },
  {
   "cell_type": "markdown",
   "id": "6b8a209d",
   "metadata": {
    "id": "7rIAsF-086Rd",
    "papermill": {
     "duration": 0.049782,
     "end_time": "2022-08-20T06:33:48.741440",
     "exception": false,
     "start_time": "2022-08-20T06:33:48.691658",
     "status": "completed"
    },
    "tags": []
   },
   "source": [
    "## <a id=\"5\">TF-IDF</a>\n"
   ]
  },
  {
   "cell_type": "markdown",
   "id": "949aad0b",
   "metadata": {
    "id": "-78YEcBujWmU",
    "papermill": {
     "duration": 0.016541,
     "end_time": "2022-08-20T06:33:48.786504",
     "exception": false,
     "start_time": "2022-08-20T06:33:48.769963",
     "status": "completed"
    },
    "tags": []
   },
   "source": [
    "TF-IDF (term frequency-inverse document frequency) is a statistical measure that evaluates how relevant a word is to a document in a collection of documents. This is done by multiplying two metrics: how many times a word appears in a document, and the inverse document frequency of the word across a set of documents.\n",
    "\n",
    "In addition, to understand the relation between each consecutive pair of words, tfidf with bigram has applied.\n",
    "Furthermore, we applied tfidf with trigram to find out wether there is a relation between each consecutive three words."
   ]
  },
  {
   "cell_type": "code",
   "execution_count": 17,
   "id": "d72897bc",
   "metadata": {
    "execution": {
     "iopub.execute_input": "2022-08-20T06:33:48.822970Z",
     "iopub.status.busy": "2022-08-20T06:33:48.821967Z",
     "iopub.status.idle": "2022-08-20T06:33:48.827974Z",
     "shell.execute_reply": "2022-08-20T06:33:48.826933Z"
    },
    "id": "HKdiBzMD82j1",
    "papermill": {
     "duration": 0.02652,
     "end_time": "2022-08-20T06:33:48.830007",
     "exception": false,
     "start_time": "2022-08-20T06:33:48.803487",
     "status": "completed"
    },
    "tags": []
   },
   "outputs": [],
   "source": [
    "from sklearn.feature_extraction.text import TfidfVectorizer\n",
    "\n",
    "def tfidf_ngram(n_gram,X_train=X_train,X_test=X_test):\n",
    "    vectorizer = TfidfVectorizer(ngram_range=(1,n_gram))\n",
    "    x_train_vec = vectorizer.fit_transform(X_train)\n",
    "    x_test_vec = vectorizer.transform(X_test)\n",
    "    return x_train_vec,x_test_vec "
   ]
  },
  {
   "cell_type": "markdown",
   "id": "df45ec6a",
   "metadata": {
    "id": "tSLwj1XijPpn",
    "papermill": {
     "duration": 0.017344,
     "end_time": "2022-08-20T06:33:48.864489",
     "exception": false,
     "start_time": "2022-08-20T06:33:48.847145",
     "status": "completed"
    },
    "tags": []
   },
   "source": [
    "### Applying tfidf with Uni-gram, and BI-gram"
   ]
  },
  {
   "cell_type": "code",
   "execution_count": 18,
   "id": "c7af58a7",
   "metadata": {
    "execution": {
     "iopub.execute_input": "2022-08-20T06:33:48.901679Z",
     "iopub.status.busy": "2022-08-20T06:33:48.900735Z",
     "iopub.status.idle": "2022-08-20T06:33:49.324312Z",
     "shell.execute_reply": "2022-08-20T06:33:49.323329Z"
    },
    "id": "omxzi3IB8-0D",
    "papermill": {
     "duration": 0.444891,
     "end_time": "2022-08-20T06:33:49.326815",
     "exception": false,
     "start_time": "2022-08-20T06:33:48.881924",
     "status": "completed"
    },
    "tags": []
   },
   "outputs": [],
   "source": [
    "X_trained1g_cv,X_test1g_cv = tfidf_ngram(1,X_train=X_train,X_test=X_test)\n",
    "X_trained2g_cv,X_test2g_cv = tfidf_ngram(2,X_train=X_train,X_test=X_test)"
   ]
  },
  {
   "cell_type": "markdown",
   "id": "729fa681",
   "metadata": {
    "id": "sIcm9_aRthMG",
    "papermill": {
     "duration": 0.017372,
     "end_time": "2022-08-20T06:33:49.361949",
     "exception": false,
     "start_time": "2022-08-20T06:33:49.344577",
     "status": "completed"
    },
    "tags": []
   },
   "source": [
    "## <a id=\"6\">Doc2Vec</a>\n",
    "- Doc2Vec is a method for representing a document as a vector and is built on the word2vec approach.\n",
    "- I have trained a model from scratch to embed each sentence or paragraph of the data frame as a vector of 50 elements."
   ]
  },
  {
   "cell_type": "code",
   "execution_count": 19,
   "id": "318b285c",
   "metadata": {
    "execution": {
     "iopub.execute_input": "2022-08-20T06:33:49.398131Z",
     "iopub.status.busy": "2022-08-20T06:33:49.397797Z",
     "iopub.status.idle": "2022-08-20T06:33:49.833062Z",
     "shell.execute_reply": "2022-08-20T06:33:49.831142Z"
    },
    "id": "Gv-CkcdkthMG",
    "outputId": "c661c485-e19a-463a-de6a-731b6a53b161",
    "papermill": {
     "duration": 0.455999,
     "end_time": "2022-08-20T06:33:49.835235",
     "exception": false,
     "start_time": "2022-08-20T06:33:49.379236",
     "status": "completed"
    },
    "tags": []
   },
   "outputs": [
    {
     "data": {
      "text/plain": [
       "TaggedDocument(words=['elton', 'one', 'whose', 'assistance', 'ask', 'invite', 'contribute', 'really', 'good', 'enigma', 'charade', 'conundrum', 'might', 'recollect', 'pleasure', 'see', 'intently', 'work', 'recollection', 'time', 'perceive', 'earnestly', 'careful', 'nothing', 'ungallant', 'nothing', 'breathe', 'compliment', 'sex', 'pas', 'lip', 'owe', 'two', 'three', 'politest', 'puzzle', 'joy', 'exultation', 'last', 'recall', 'rather', 'sentimentally', 'recite', 'well', 'know', 'charade', 'first', 'doth', 'affliction', 'denote', 'second', 'destin', 'feel', 'whole', 'best', 'antidote', 'affliction', 'soften', 'heal', 'make', 'quite', 'sorry', 'acknowledge', 'transcribed', 'page', 'ago', 'already', 'write', 'one', 'mr', 'elton', 'say', 'security', 'freshness', 'nothing', 'easy', 'oh', 'write', 'hardly', 'thing', 'kind', 'life', 'stupidest', 'fellow', 'afraid', 'even', 'miss', 'woodhouse', 'stopt', 'moment', 'miss', 'smith', 'inspire', 'next', 'day', 'however', 'produce', 'proof', 'inspiration', 'call'], tags=[0])"
      ]
     },
     "execution_count": 19,
     "metadata": {},
     "output_type": "execute_result"
    }
   ],
   "source": [
    "#Import packages\n",
    "from gensim.models.doc2vec import Doc2Vec, TaggedDocument\n",
    "from nltk.tokenize import word_tokenize\n",
    "# Tokenization of each document\n",
    "tokenized_doc = []\n",
    "for d in df_train['Sample of the book']:\n",
    "    tokenized_doc.append(word_tokenize(d.lower()))\n",
    "\n",
    "# Convert tokenized document into gensim formated tagged data\n",
    "tagged_data = [TaggedDocument(d, [i]) for i, d in enumerate(tokenized_doc)]\n",
    "tagged_data[0]"
   ]
  },
  {
   "cell_type": "code",
   "execution_count": 20,
   "id": "3a60b4ce",
   "metadata": {
    "execution": {
     "iopub.execute_input": "2022-08-20T06:33:49.871736Z",
     "iopub.status.busy": "2022-08-20T06:33:49.871433Z",
     "iopub.status.idle": "2022-08-20T06:34:06.508341Z",
     "shell.execute_reply": "2022-08-20T06:34:06.507402Z"
    },
    "id": "5b-P5QTnthMH",
    "outputId": "81cd5c4b-bda6-4759-c542-a8bf06d4a335",
    "papermill": {
     "duration": 16.657622,
     "end_time": "2022-08-20T06:34:06.510714",
     "exception": false,
     "start_time": "2022-08-20T06:33:49.853092",
     "status": "completed"
    },
    "tags": []
   },
   "outputs": [],
   "source": [
    "## Train doc2vec model\n",
    "model = Doc2Vec(tagged_data, vector_size=50, window=2, min_count=1, workers=4, epochs = 100)\n",
    "# Save trained doc2vec model\n",
    "# model.save(\"test_doc2vec.model\")"
   ]
  },
  {
   "cell_type": "code",
   "execution_count": 21,
   "id": "4eb884ea",
   "metadata": {
    "execution": {
     "iopub.execute_input": "2022-08-20T06:34:06.547833Z",
     "iopub.status.busy": "2022-08-20T06:34:06.547538Z",
     "iopub.status.idle": "2022-08-20T06:34:25.295728Z",
     "shell.execute_reply": "2022-08-20T06:34:25.294845Z"
    },
    "id": "6nEiu484thMH",
    "outputId": "d81e2fa8-da06-4115-e09d-ed32d003bf20",
    "papermill": {
     "duration": 18.769021,
     "end_time": "2022-08-20T06:34:25.298049",
     "exception": false,
     "start_time": "2022-08-20T06:34:06.529028",
     "status": "completed"
    },
    "tags": []
   },
   "outputs": [
    {
     "data": {
      "text/plain": [
       "800"
      ]
     },
     "execution_count": 21,
     "metadata": {},
     "output_type": "execute_result"
    }
   ],
   "source": [
    "## Load saved doc2vec model\n",
    "# model= Doc2Vec.load(\"test_doc2vec.model\")\n",
    "## Print model vocabulary\n",
    "def get_doc2vec_vector(df):\n",
    "    doc2vec_vectors=[]\n",
    "    for sentence in df['Sample of the book']:\n",
    "        doc2vec_vectors.append(model.infer_vector(word_tokenize(sentence.lower())))\n",
    "    return doc2vec_vectors\n",
    "train_doc2vec_vectors=get_doc2vec_vector(df_train)\n",
    "test_doc2vec_vectors=get_doc2vec_vector(df_test)\n",
    "len(train_doc2vec_vectors)"
   ]
  },
  {
   "cell_type": "markdown",
   "id": "2ceed29d",
   "metadata": {
    "id": "JR3MeoCDmBHw",
    "papermill": {
     "duration": 0.017489,
     "end_time": "2022-08-20T06:34:25.333247",
     "exception": false,
     "start_time": "2022-08-20T06:34:25.315758",
     "status": "completed"
    },
    "tags": []
   },
   "source": [
    "## <a id=\"7\">Using BERT as pretrained model</a>"
   ]
  },
  {
   "cell_type": "markdown",
   "id": "5d87e506",
   "metadata": {
    "id": "8EEChftgmMqb",
    "papermill": {
     "duration": 0.017574,
     "end_time": "2022-08-20T06:34:25.368288",
     "exception": false,
     "start_time": "2022-08-20T06:34:25.350714",
     "status": "completed"
    },
    "tags": []
   },
   "source": [
    "Bert can be used as a word embedding pretrained model and then use these embedded vectors to train another model like SVM or Naive bayes and DL models like RNN or LSTM \n",
    "\n",
    "- BERT (Bidirectional Encoder Representations from Transformers) is a highly complex and advanced language model that helps people automate language understanding.\n",
    "- BERT is the encoder of transformers, and it consists of 12 layers in the base model, and 24 layers for the large model. So, we can take the output of these layers as an embedding vector from the pre-trained model.\n",
    "- There are three approaches to the embedding vectors: concatenate the last four layers, the sum of the last four layers, or embed the full sentence by taking the mean of the embedding vectors of the tokenized words\n",
    "- As the first two methods require computational power, we used the third one which takes the mean of columns of each word and each word is represented as a 768x1 vector. so, the whole sentence at the end is represented as a 768x1 vector"
   ]
  },
  {
   "cell_type": "code",
   "execution_count": 22,
   "id": "712f0635",
   "metadata": {
    "execution": {
     "iopub.execute_input": "2022-08-20T06:34:25.404719Z",
     "iopub.status.busy": "2022-08-20T06:34:25.404360Z",
     "iopub.status.idle": "2022-08-20T06:34:34.907343Z",
     "shell.execute_reply": "2022-08-20T06:34:34.905940Z"
    },
    "id": "z-VkBn7XbEy6",
    "outputId": "14b3361e-ed2d-4551-99e0-687eb42f39a3",
    "papermill": {
     "duration": 9.524511,
     "end_time": "2022-08-20T06:34:34.909861",
     "exception": false,
     "start_time": "2022-08-20T06:34:25.385350",
     "status": "completed"
    },
    "tags": []
   },
   "outputs": [
    {
     "name": "stdout",
     "output_type": "stream",
     "text": [
      "Requirement already satisfied: transformers in /opt/conda/lib/python3.7/site-packages (4.20.1)\r\n",
      "Requirement already satisfied: importlib-metadata in /opt/conda/lib/python3.7/site-packages (from transformers) (4.12.0)\r\n",
      "Requirement already satisfied: numpy>=1.17 in /opt/conda/lib/python3.7/site-packages (from transformers) (1.21.6)\r\n",
      "Requirement already satisfied: filelock in /opt/conda/lib/python3.7/site-packages (from transformers) (3.7.1)\r\n",
      "Requirement already satisfied: tqdm>=4.27 in /opt/conda/lib/python3.7/site-packages (from transformers) (4.64.0)\r\n",
      "Requirement already satisfied: huggingface-hub<1.0,>=0.1.0 in /opt/conda/lib/python3.7/site-packages (from transformers) (0.8.1)\r\n",
      "Requirement already satisfied: regex!=2019.12.17 in /opt/conda/lib/python3.7/site-packages (from transformers) (2021.11.10)\r\n",
      "Requirement already satisfied: pyyaml>=5.1 in /opt/conda/lib/python3.7/site-packages (from transformers) (6.0)\r\n",
      "Requirement already satisfied: packaging>=20.0 in /opt/conda/lib/python3.7/site-packages (from transformers) (21.3)\r\n",
      "Requirement already satisfied: requests in /opt/conda/lib/python3.7/site-packages (from transformers) (2.28.1)\r\n",
      "Requirement already satisfied: tokenizers!=0.11.3,<0.13,>=0.11.1 in /opt/conda/lib/python3.7/site-packages (from transformers) (0.12.1)\r\n",
      "Requirement already satisfied: typing-extensions>=3.7.4.3 in /opt/conda/lib/python3.7/site-packages (from huggingface-hub<1.0,>=0.1.0->transformers) (4.1.1)\r\n",
      "Requirement already satisfied: pyparsing!=3.0.5,>=2.0.2 in /opt/conda/lib/python3.7/site-packages (from packaging>=20.0->transformers) (3.0.9)\r\n",
      "Requirement already satisfied: zipp>=0.5 in /opt/conda/lib/python3.7/site-packages (from importlib-metadata->transformers) (3.8.0)\r\n",
      "Requirement already satisfied: charset-normalizer<3,>=2 in /opt/conda/lib/python3.7/site-packages (from requests->transformers) (2.1.0)\r\n",
      "Requirement already satisfied: certifi>=2017.4.17 in /opt/conda/lib/python3.7/site-packages (from requests->transformers) (2022.6.15)\r\n",
      "Requirement already satisfied: idna<4,>=2.5 in /opt/conda/lib/python3.7/site-packages (from requests->transformers) (3.3)\r\n",
      "Requirement already satisfied: urllib3<1.27,>=1.21.1 in /opt/conda/lib/python3.7/site-packages (from requests->transformers) (1.26.9)\r\n",
      "\u001b[33mWARNING: Running pip as the 'root' user can result in broken permissions and conflicting behaviour with the system package manager. It is recommended to use a virtual environment instead: https://pip.pypa.io/warnings/venv\u001b[0m\u001b[33m\r\n",
      "\u001b[0m"
     ]
    }
   ],
   "source": [
    "!pip install transformers"
   ]
  },
  {
   "cell_type": "markdown",
   "id": "f88c132e",
   "metadata": {
    "id": "c6OoCcekbdkv",
    "papermill": {
     "duration": 0.018074,
     "end_time": "2022-08-20T06:34:34.946366",
     "exception": false,
     "start_time": "2022-08-20T06:34:34.928292",
     "status": "completed"
    },
    "tags": []
   },
   "source": [
    "**Check the GPU**"
   ]
  },
  {
   "cell_type": "code",
   "execution_count": 23,
   "id": "69d78eaf",
   "metadata": {
    "execution": {
     "iopub.execute_input": "2022-08-20T06:34:34.984377Z",
     "iopub.status.busy": "2022-08-20T06:34:34.983315Z",
     "iopub.status.idle": "2022-08-20T06:34:36.595816Z",
     "shell.execute_reply": "2022-08-20T06:34:36.593906Z"
    },
    "id": "FjRdp3X2thMB",
    "outputId": "68b12a48-fc0a-407a-bba9-5f65c39003ba",
    "papermill": {
     "duration": 1.634452,
     "end_time": "2022-08-20T06:34:36.598750",
     "exception": false,
     "start_time": "2022-08-20T06:34:34.964298",
     "status": "completed"
    },
    "tags": []
   },
   "outputs": [
    {
     "name": "stdout",
     "output_type": "stream",
     "text": [
      "There are 1 GPU(s) available.\n",
      "We will use the GPU: Tesla P100-PCIE-16GB\n"
     ]
    }
   ],
   "source": [
    "import torch\n",
    "\n",
    "# If there's a GPU available...\n",
    "if torch.cuda.is_available():\n",
    "    # Tell PyTorch to use the GPU.\n",
    "    device = torch.device(\"cuda\")\n",
    "    print('There are %d GPU(s) available.' % torch.cuda.device_count())\n",
    "    print('We will use the GPU:', torch.cuda.get_device_name(0))\n",
    "# If not...\n",
    "else:\n",
    "    print('No GPU available, using the CPU instead.')\n",
    "    device = torch.device(\"cpu\")"
   ]
  },
  {
   "cell_type": "code",
   "execution_count": 24,
   "id": "90cab8af",
   "metadata": {
    "execution": {
     "iopub.execute_input": "2022-08-20T06:34:36.638303Z",
     "iopub.status.busy": "2022-08-20T06:34:36.637543Z",
     "iopub.status.idle": "2022-08-20T06:34:41.640775Z",
     "shell.execute_reply": "2022-08-20T06:34:41.639647Z"
    },
    "id": "3U1WM-X4O993",
    "papermill": {
     "duration": 5.025884,
     "end_time": "2022-08-20T06:34:41.643590",
     "exception": false,
     "start_time": "2022-08-20T06:34:36.617706",
     "status": "completed"
    },
    "tags": []
   },
   "outputs": [],
   "source": [
    "# Import Libraries\n",
    "import tensorflow as tf\n",
    "import torch\n",
    "from torch.utils.data import TensorDataset, DataLoader, RandomSampler, SequentialSampler\n",
    "from transformers import BertTokenizer, BertModel\n",
    "from keras_preprocessing.sequence import pad_sequences\n",
    "import pandas as pd\n",
    "import io\n",
    "import numpy as np\n",
    "import matplotlib.pyplot as plt\n",
    "%matplotlib inline\n",
    "\n",
    "def sentence_embedding_BERT(sentences):\n",
    "    # Create sentence and label lists\n",
    "    # We need to add special tokens at the beginning and end of each sentence for BERT to work properly\n",
    "    sentences = [\"[CLS] \" + sentence + \" [SEP]\" for sentence in sentences]\n",
    "    labels = data_frame.Book_name.values\n",
    "\n",
    "    # Initialize the tokenizer\n",
    "    tokenizer = BertTokenizer.from_pretrained('bert-base-uncased')\n",
    "    # Tokenize the sentences and put them in the list tokenized_texts\n",
    "    tokenized_texts = [tokenizer.tokenize(sent) for sent in sentences]\n",
    "    # Set the maximum sequence length. The longest sequence in our training set is 47, but we'll leave room on the end anyway.\n",
    "    # In the original paper, the authors used a length of 512.\n",
    "    MAX_LEN = 128\n",
    "    # Use the BERT tokenizer to convert the tokens to their index numbers in the BERT vocabulary\n",
    "    input_ids = [tokenizer.convert_tokens_to_ids(x) for x in tokenized_texts]\n",
    "    # Pad our input tokens\n",
    "    input_ids = pad_sequences(input_ids, maxlen=MAX_LEN, dtype=\"long\", truncating=\"post\", padding=\"post\")\n",
    "    # Create attention masks\n",
    "    attention_masks = []\n",
    "    hidden_states=[]\n",
    "    # Create a mask of 1s for each token followed by 0s for padding\n",
    "    for seq in input_ids:\n",
    "      seq_mask = [float(i>0) for i in seq]\n",
    "      attention_masks.append(seq_mask)\n",
    "    # Conver the ids into a tensor representation\n",
    "    batch_size = 4\n",
    "    input_tensor = torch.tensor(input_ids)\n",
    "    masks_tensor = torch.tensor(attention_masks)\n",
    "    train_data = TensorDataset(input_tensor, masks_tensor)\n",
    "    dataloader = DataLoader(train_data, batch_size=batch_size)\n",
    "    # Initialize the model\n",
    "    if torch.cuda.is_available():\n",
    "        model = BertModel.from_pretrained(\"bert-base-uncased\",output_hidden_states = True,).to('cuda')\n",
    "    else:\n",
    "        model = BertModel.from_pretrained(\"bert-base-uncased\",output_hidden_states = True,).to('cpu')\n",
    "    model.eval()\n",
    "    outputs = []\n",
    "    for input, masks in dataloader:\n",
    "        torch.cuda.empty_cache() # empty the gpu memory\n",
    "        # Transfer the batch to gp\n",
    "        if torch.cuda.is_available():\n",
    "            input = input.to('cuda')\n",
    "            masks = masks.to('cuda')\n",
    "        # Run inference on the batch\n",
    "        output = model(input, attention_mask=masks)\n",
    "        # Transfer the output to CPU again and convert to numpy\n",
    "        output = output[0].cpu().detach().numpy()\n",
    "        # Store the output in a list\n",
    "        outputs.append(output)\n",
    "\n",
    "    # Concatenate all the lists within the list into one list\n",
    "    outputs = [x for y in outputs for x in y]\n",
    "    outputs=np.array(outputs)\n",
    "    return outputs.mean(axis=1)"
   ]
  },
  {
   "cell_type": "markdown",
   "id": "c18c0c22",
   "metadata": {
    "id": "SaW53kpOO993",
    "papermill": {
     "duration": 0.017799,
     "end_time": "2022-08-20T06:34:41.679965",
     "exception": false,
     "start_time": "2022-08-20T06:34:41.662166",
     "status": "completed"
    },
    "tags": []
   },
   "source": [
    "**Embed the full sectence by taking the mean of the embedding vectors of the tokenized words**"
   ]
  },
  {
   "cell_type": "code",
   "execution_count": 25,
   "id": "89d8b331",
   "metadata": {
    "execution": {
     "iopub.execute_input": "2022-08-20T06:34:41.720168Z",
     "iopub.status.busy": "2022-08-20T06:34:41.719787Z",
     "iopub.status.idle": "2022-08-20T06:35:49.252797Z",
     "shell.execute_reply": "2022-08-20T06:35:49.251863Z"
    },
    "id": "rI6VelBobb6C",
    "outputId": "2f54a4ac-9a28-4281-88c4-f2ff2465ae0b",
    "papermill": {
     "duration": 67.556533,
     "end_time": "2022-08-20T06:35:49.255003",
     "exception": false,
     "start_time": "2022-08-20T06:34:41.698470",
     "status": "completed"
    },
    "tags": []
   },
   "outputs": [
    {
     "data": {
      "application/vnd.jupyter.widget-view+json": {
       "model_id": "f1303946341541d798d8f5a6075dfe7a",
       "version_major": 2,
       "version_minor": 0
      },
      "text/plain": [
       "Downloading:   0%|          | 0.00/226k [00:00<?, ?B/s]"
      ]
     },
     "metadata": {},
     "output_type": "display_data"
    },
    {
     "data": {
      "application/vnd.jupyter.widget-view+json": {
       "model_id": "9c1f548d73624450804909a84a457ecd",
       "version_major": 2,
       "version_minor": 0
      },
      "text/plain": [
       "Downloading:   0%|          | 0.00/28.0 [00:00<?, ?B/s]"
      ]
     },
     "metadata": {},
     "output_type": "display_data"
    },
    {
     "data": {
      "application/vnd.jupyter.widget-view+json": {
       "model_id": "674d9b2fa28448f68c70f4e5d34fc8a5",
       "version_major": 2,
       "version_minor": 0
      },
      "text/plain": [
       "Downloading:   0%|          | 0.00/570 [00:00<?, ?B/s]"
      ]
     },
     "metadata": {},
     "output_type": "display_data"
    },
    {
     "data": {
      "application/vnd.jupyter.widget-view+json": {
       "model_id": "9b6df2f254974bdf91a9c4d0525ff2a7",
       "version_major": 2,
       "version_minor": 0
      },
      "text/plain": [
       "Downloading:   0%|          | 0.00/420M [00:00<?, ?B/s]"
      ]
     },
     "metadata": {},
     "output_type": "display_data"
    },
    {
     "name": "stderr",
     "output_type": "stream",
     "text": [
      "Some weights of the model checkpoint at bert-base-uncased were not used when initializing BertModel: ['cls.seq_relationship.bias', 'cls.predictions.bias', 'cls.predictions.decoder.weight', 'cls.predictions.transform.dense.bias', 'cls.seq_relationship.weight', 'cls.predictions.transform.LayerNorm.bias', 'cls.predictions.transform.dense.weight', 'cls.predictions.transform.LayerNorm.weight']\n",
      "- This IS expected if you are initializing BertModel from the checkpoint of a model trained on another task or with another architecture (e.g. initializing a BertForSequenceClassification model from a BertForPreTraining model).\n",
      "- This IS NOT expected if you are initializing BertModel from the checkpoint of a model that you expect to be exactly identical (initializing a BertForSequenceClassification model from a BertForSequenceClassification model).\n",
      "Some weights of the model checkpoint at bert-base-uncased were not used when initializing BertModel: ['cls.seq_relationship.bias', 'cls.predictions.bias', 'cls.predictions.decoder.weight', 'cls.predictions.transform.dense.bias', 'cls.seq_relationship.weight', 'cls.predictions.transform.LayerNorm.bias', 'cls.predictions.transform.dense.weight', 'cls.predictions.transform.LayerNorm.weight']\n",
      "- This IS expected if you are initializing BertModel from the checkpoint of a model trained on another task or with another architecture (e.g. initializing a BertForSequenceClassification model from a BertForPreTraining model).\n",
      "- This IS NOT expected if you are initializing BertModel from the checkpoint of a model that you expect to be exactly identical (initializing a BertForSequenceClassification model from a BertForSequenceClassification model).\n"
     ]
    },
    {
     "data": {
      "text/plain": [
       "(800, 768)"
      ]
     },
     "execution_count": 25,
     "metadata": {},
     "output_type": "execute_result"
    }
   ],
   "source": [
    "# sentence_embedding_BERT()\n",
    "BERT_embedding_vectors_train=sentence_embedding_BERT(df_train['Sample of the book'])\n",
    "BERT_embedding_vectors_test= sentence_embedding_BERT(df_test['Sample of the book'])\n",
    "BERT_embedding_vectors_train.shape"
   ]
  },
  {
   "cell_type": "markdown",
   "id": "b86a254b",
   "metadata": {
    "id": "PXTgaH2phk3l",
    "papermill": {
     "duration": 0.018748,
     "end_time": "2022-08-20T06:35:49.292576",
     "exception": false,
     "start_time": "2022-08-20T06:35:49.273828",
     "status": "completed"
    },
    "tags": []
   },
   "source": [
    "## Helper function"
   ]
  },
  {
   "cell_type": "code",
   "execution_count": 26,
   "id": "b75aca3b",
   "metadata": {
    "execution": {
     "iopub.execute_input": "2022-08-20T06:35:49.331724Z",
     "iopub.status.busy": "2022-08-20T06:35:49.330793Z",
     "iopub.status.idle": "2022-08-20T06:35:49.339059Z",
     "shell.execute_reply": "2022-08-20T06:35:49.338225Z"
    },
    "id": "uBWhuHJvhnDZ",
    "papermill": {
     "duration": 0.029922,
     "end_time": "2022-08-20T06:35:49.340999",
     "exception": false,
     "start_time": "2022-08-20T06:35:49.311077",
     "status": "completed"
    },
    "tags": []
   },
   "outputs": [],
   "source": [
    "import gensim.downloader as api\n",
    "def get_vectors_pretrained(df, model):\n",
    "    embedding_vectors = []\n",
    "    for partition in df['Sample of the book']:\n",
    "        sentence = []\n",
    "        for word in partition.split(' '):\n",
    "            try:\n",
    "                sentence.append(model[word])\n",
    "            except:\n",
    "                pass\n",
    "        sentence = np.array(sentence)\n",
    "        sentence = sentence.mean(axis=0)\n",
    "        embedding_vectors.append(sentence)\n",
    "    embedding_vectors = np.array(embedding_vectors)\n",
    "    return embedding_vectors"
   ]
  },
  {
   "cell_type": "markdown",
   "id": "fc875a22",
   "metadata": {
    "id": "HogU62OXSsBB",
    "papermill": {
     "duration": 0.018246,
     "end_time": "2022-08-20T06:35:49.377808",
     "exception": false,
     "start_time": "2022-08-20T06:35:49.359562",
     "status": "completed"
    },
    "tags": []
   },
   "source": [
    "## <a id=\"8\">Glove</a>\n",
    "- Global vector for word representation is an unsupervised learning algorithm for word embedding.\n",
    "- We trained a GloVe model on books’ data, that represents each word in a 300x1 Vector. We took the data frame after cleaning and get each paragraph and passed it to the corpus. After that,t we trained the model on each word.\n",
    "- We used also a pre-trained model “glove-wiki-gigaword-300”. Each word is represented by a 300x1 vector. Then, on each word of a sentence in the data frame, we replaced it with its vector representation."
   ]
  },
  {
   "cell_type": "code",
   "execution_count": 27,
   "id": "c6c4bb9c",
   "metadata": {
    "execution": {
     "iopub.execute_input": "2022-08-20T06:35:49.416583Z",
     "iopub.status.busy": "2022-08-20T06:35:49.416298Z",
     "iopub.status.idle": "2022-08-20T06:38:00.596936Z",
     "shell.execute_reply": "2022-08-20T06:38:00.595955Z"
    },
    "id": "CrDVg20lO997",
    "outputId": "2ae9894c-1bcf-4e72-b3eb-49a030eb680e",
    "papermill": {
     "duration": 133.619273,
     "end_time": "2022-08-20T06:38:03.015680",
     "exception": false,
     "start_time": "2022-08-20T06:35:49.396407",
     "status": "completed"
    },
    "tags": []
   },
   "outputs": [
    {
     "name": "stdout",
     "output_type": "stream",
     "text": [
      "[=================================================-] 99.4% 373.8/376.1MB downloaded\n",
      "(800, 300)\n"
     ]
    }
   ],
   "source": [
    "import gensim.downloader as api\n",
    "glove_model = api.load(\"glove-wiki-gigaword-300\")  # load glove vectors\n",
    "train_glove_embedding_vectors=get_vectors_pretrained(df_train,glove_model)\n",
    "test_glove_embedding_vectors=get_vectors_pretrained(df_test,glove_model)\n",
    "print(train_glove_embedding_vectors.shape)"
   ]
  },
  {
   "cell_type": "markdown",
   "id": "213ddd70",
   "metadata": {
    "id": "DRc4YDCallSy",
    "papermill": {
     "duration": 2.437663,
     "end_time": "2022-08-20T06:38:08.177205",
     "exception": false,
     "start_time": "2022-08-20T06:38:05.739542",
     "status": "completed"
    },
    "tags": []
   },
   "source": [
    "## <a id=\"9\">Fast text</a>\n",
    "- FastText is a library for learning word embeddings and text classification. The model allows one to create unsupervised learning or supervised learning algorithms for obtaining vector representations for words.\n",
    "- We loaded a pre-trained model from genism API ‘fasttext-wiki-news-subwords-300’."
   ]
  },
  {
   "cell_type": "code",
   "execution_count": 28,
   "id": "20c8afe7",
   "metadata": {
    "execution": {
     "iopub.execute_input": "2022-08-20T06:38:13.115008Z",
     "iopub.status.busy": "2022-08-20T06:38:13.114472Z",
     "iopub.status.idle": "2022-08-20T06:43:46.426172Z",
     "shell.execute_reply": "2022-08-20T06:43:46.425150Z"
    },
    "id": "OQPJSbYWlm9_",
    "outputId": "67d87036-1a2c-4dc5-ac1d-968c351344aa",
    "papermill": {
     "duration": 343.751615,
     "end_time": "2022-08-20T06:43:54.575583",
     "exception": false,
     "start_time": "2022-08-20T06:38:10.823968",
     "status": "completed"
    },
    "tags": []
   },
   "outputs": [
    {
     "name": "stdout",
     "output_type": "stream",
     "text": [
      "[==================================================] 100.0% 958.5/958.4MB downloaded\n",
      "(800, 300)\n"
     ]
    }
   ],
   "source": [
    "import gensim.downloader as api\n",
    "fast_text_model = api.load(\"fasttext-wiki-news-subwords-300\")  # load glove vectors\n",
    "train_fast_text_embedding_vectors=get_vectors_pretrained(df_train,glove_model)\n",
    "test_fast_text_embedding_vectors=get_vectors_pretrained(df_test,glove_model)\n",
    "print(train_fast_text_embedding_vectors.shape)"
   ]
  },
  {
   "cell_type": "markdown",
   "id": "8d345c0b",
   "metadata": {
    "id": "Rf2JouEMthMF",
    "papermill": {
     "duration": 7.835593,
     "end_time": "2022-08-20T06:44:10.383448",
     "exception": false,
     "start_time": "2022-08-20T06:44:02.547855",
     "status": "completed"
    },
    "tags": []
   },
   "source": [
    "## <a id=\"10\">Word2Vec</a>\n",
    "- Word2vec is a method to represent each word as a vector.\n",
    "- Used a pre-trained model “word2vec-google-news-300”."
   ]
  },
  {
   "cell_type": "code",
   "execution_count": 29,
   "id": "fe04d729",
   "metadata": {
    "execution": {
     "iopub.execute_input": "2022-08-20T06:44:27.267503Z",
     "iopub.status.busy": "2022-08-20T06:44:27.266398Z",
     "iopub.status.idle": "2022-08-20T06:49:37.680192Z",
     "shell.execute_reply": "2022-08-20T06:49:37.678073Z"
    },
    "id": "PRj1yd3WO998",
    "outputId": "302f2783-c902-4996-d411-3c801cf76145",
    "papermill": {
     "duration": 319.046791,
     "end_time": "2022-08-20T06:49:37.682378",
     "exception": false,
     "start_time": "2022-08-20T06:44:18.635587",
     "status": "completed"
    },
    "tags": []
   },
   "outputs": [
    {
     "name": "stdout",
     "output_type": "stream",
     "text": [
      "[==================================================] 100.0% 1662.8/1662.8MB downloaded\n",
      "(800, 300)\n"
     ]
    }
   ],
   "source": [
    "import gensim.downloader as api\n",
    "word2vec_model = api.load(\"word2vec-google-news-300\")  # load glove vectors\n",
    "train_word2vec_embedding_vectors= get_vectors_pretrained(df_train,word2vec_model)\n",
    "test_word2vec_embedding_vectors= get_vectors_pretrained(df_test,word2vec_model)\n",
    "print(train_word2vec_embedding_vectors.shape)"
   ]
  },
  {
   "cell_type": "markdown",
   "id": "a7a0e085",
   "metadata": {
    "id": "d8Cyns_2thMH",
    "papermill": {
     "duration": 16.408334,
     "end_time": "2022-08-20T06:50:10.942201",
     "exception": false,
     "start_time": "2022-08-20T06:49:54.533867",
     "status": "completed"
    },
    "tags": []
   },
   "source": [
    "## <a id=\"11\">LDA (Linear Discriminant Analysis)</a>"
   ]
  },
  {
   "cell_type": "code",
   "execution_count": 30,
   "id": "f3cff4d1",
   "metadata": {
    "execution": {
     "iopub.execute_input": "2022-08-20T06:50:43.283312Z",
     "iopub.status.busy": "2022-08-20T06:50:43.282039Z",
     "iopub.status.idle": "2022-08-20T06:50:47.464859Z",
     "shell.execute_reply": "2022-08-20T06:50:47.463396Z"
    },
    "id": "RzU31d4ithMH",
    "papermill": {
     "duration": 20.146742,
     "end_time": "2022-08-20T06:50:47.468701",
     "exception": false,
     "start_time": "2022-08-20T06:50:27.321959",
     "status": "completed"
    },
    "tags": []
   },
   "outputs": [],
   "source": [
    "from sklearn.discriminant_analysis import LinearDiscriminantAnalysis as LDA\n",
    "\n",
    "lda = LDA()\n",
    "lda_train = lda.fit_transform(BOW_train.toarray(), y_train)\n",
    "lda_test = lda.transform(BOW_test.toarray())"
   ]
  },
  {
   "cell_type": "markdown",
   "id": "8082448c",
   "metadata": {
    "id": "QUPiUgAemzDf",
    "papermill": {
     "duration": 16.16631,
     "end_time": "2022-08-20T06:51:20.183759",
     "exception": false,
     "start_time": "2022-08-20T06:51:04.017449",
     "status": "completed"
    },
    "tags": []
   },
   "source": [
    "# <a id=\"12\">Word embedding dictionary</a>"
   ]
  },
  {
   "cell_type": "code",
   "execution_count": 31,
   "id": "13c3c701",
   "metadata": {
    "execution": {
     "iopub.execute_input": "2022-08-20T06:51:52.923932Z",
     "iopub.status.busy": "2022-08-20T06:51:52.923468Z",
     "iopub.status.idle": "2022-08-20T06:51:52.929629Z",
     "shell.execute_reply": "2022-08-20T06:51:52.928641Z"
    },
    "id": "GKGAJSy-m8yZ",
    "papermill": {
     "duration": 15.93237,
     "end_time": "2022-08-20T06:51:52.931750",
     "exception": false,
     "start_time": "2022-08-20T06:51:36.999380",
     "status": "completed"
    },
    "tags": []
   },
   "outputs": [],
   "source": [
    "text_embedding={\n",
    "    'BOW':(BOW_train,BOW_test),\n",
    "    'TF_IDF 1_gram':(X_trained1g_cv,X_test1g_cv),\n",
    "    'TF_IDF 2_gram':(X_trained2g_cv,X_test2g_cv),\n",
    "    'Doc2vec':(train_doc2vec_vectors,test_doc2vec_vectors),\n",
    "    'LDA' :(lda_train,lda_test),\n",
    "    # optional embedding\n",
    "    'Glove':(train_glove_embedding_vectors,test_glove_embedding_vectors),\n",
    "    'Word2vec':(train_word2vec_embedding_vectors,test_word2vec_embedding_vectors),\n",
    "    'BERT Model':(BERT_embedding_vectors_train,BERT_embedding_vectors_test),\n",
    "}"
   ]
  },
  {
   "cell_type": "markdown",
   "id": "307959ea",
   "metadata": {
    "id": "D2GYBE08nCJO",
    "papermill": {
     "duration": 16.423697,
     "end_time": "2022-08-20T06:52:25.705646",
     "exception": false,
     "start_time": "2022-08-20T06:52:09.281949",
     "status": "completed"
    },
    "tags": []
   },
   "source": [
    "### Save word Embedding as a pickle file \n",
    "For future use, the embedding takes a long time. So, if you want to start directly with the embedded data that has been computed previously."
   ]
  },
  {
   "cell_type": "code",
   "execution_count": 32,
   "id": "02553391",
   "metadata": {
    "execution": {
     "iopub.execute_input": "2022-08-20T06:52:58.526533Z",
     "iopub.status.busy": "2022-08-20T06:52:58.525769Z",
     "iopub.status.idle": "2022-08-20T06:52:58.594233Z",
     "shell.execute_reply": "2022-08-20T06:52:58.593273Z"
    },
    "id": "V8t91siCnFl8",
    "outputId": "589ee3cd-2270-49c9-8833-3a49e73988b3",
    "papermill": {
     "duration": 16.281099,
     "end_time": "2022-08-20T06:52:58.596314",
     "exception": false,
     "start_time": "2022-08-20T06:52:42.315215",
     "status": "completed"
    },
    "tags": []
   },
   "outputs": [
    {
     "name": "stdout",
     "output_type": "stream",
     "text": [
      "Saved\n"
     ]
    }
   ],
   "source": [
    "import pickle\n",
    "a_file = open(\"Embedding_Vectors_Classification.pkl\", \"wb\")\n",
    "pickle.dump(text_embedding, a_file)\n",
    "a_file.close()\n",
    "print('Saved')"
   ]
  },
  {
   "cell_type": "markdown",
   "id": "5716ed52",
   "metadata": {
    "id": "T7tt4ZN-vDnI",
    "papermill": {
     "duration": 15.746745,
     "end_time": "2022-08-20T06:53:31.408351",
     "exception": false,
     "start_time": "2022-08-20T06:53:15.661606",
     "status": "completed"
    },
    "tags": []
   },
   "source": [
    "# <a id=\"13\">Choosing the Champion model and champion embedding method</a>"
   ]
  },
  {
   "cell_type": "markdown",
   "id": "857214e2",
   "metadata": {
    "id": "gLbZgM6SpNXF",
    "papermill": {
     "duration": 16.17796,
     "end_time": "2022-08-20T06:54:04.743005",
     "exception": false,
     "start_time": "2022-08-20T06:53:48.565045",
     "status": "completed"
    },
    "tags": []
   },
   "source": [
    "Train Models:\n",
    "SVM is a supervised machine learning algorithm that separates classes using hyperplanes.\n",
    "\n",
    "• Gaussian NB is special type of Naïve Bayes algorithm that perform well on continuous data.\n",
    "\n",
    "• KNN is a non-parametric supervised algorithm. Despite its simplicity it can be highly competitive in NLP applications.\n",
    "\n",
    "• Decision Tree uses a tree-like model in to take a decision and studying its consequences.\n",
    "\n",
    "So, we have 32 models on all of our transformation methods."
   ]
  },
  {
   "cell_type": "code",
   "execution_count": 33,
   "id": "0ae48407",
   "metadata": {
    "execution": {
     "iopub.execute_input": "2022-08-20T06:54:37.408977Z",
     "iopub.status.busy": "2022-08-20T06:54:37.408594Z",
     "iopub.status.idle": "2022-08-20T06:54:37.525598Z",
     "shell.execute_reply": "2022-08-20T06:54:37.524685Z"
    },
    "id": "Yml2VgBNuVPT",
    "papermill": {
     "duration": 16.021944,
     "end_time": "2022-08-20T06:54:37.527988",
     "exception": false,
     "start_time": "2022-08-20T06:54:21.506044",
     "status": "completed"
    },
    "tags": []
   },
   "outputs": [],
   "source": [
    "from sklearn.svm import SVC\n",
    "from sklearn.naive_bayes import GaussianNB, MultinomialNB\n",
    "from sklearn.discriminant_analysis import LinearDiscriminantAnalysis as LDA\n",
    "from sklearn.neighbors import KNeighborsClassifier\n",
    "from sklearn.tree import DecisionTreeClassifier\n",
    "from sklearn.discriminant_analysis import LinearDiscriminantAnalysis as LDA\n",
    "from sklearn.model_selection import cross_val_score\n",
    "from sklearn.model_selection import cross_validate"
   ]
  },
  {
   "cell_type": "code",
   "execution_count": 34,
   "id": "99863386",
   "metadata": {
    "execution": {
     "iopub.execute_input": "2022-08-20T06:55:10.224864Z",
     "iopub.status.busy": "2022-08-20T06:55:10.224495Z",
     "iopub.status.idle": "2022-08-20T06:58:33.312798Z",
     "shell.execute_reply": "2022-08-20T06:58:33.311837Z"
    },
    "id": "ZlSjdhmjbwFZ",
    "outputId": "6405693c-7ff3-4a20-f0fc-881c8cf4dc2b",
    "papermill": {
     "duration": 236.175026,
     "end_time": "2022-08-20T06:58:49.888532",
     "exception": false,
     "start_time": "2022-08-20T06:54:53.713506",
     "status": "completed"
    },
    "tags": []
   },
   "outputs": [
    {
     "name": "stdout",
     "output_type": "stream",
     "text": [
      "champion_model is  SVC\n",
      "champion_embedding is TF_IDF 2_gram\n"
     ]
    }
   ],
   "source": [
    "models = [SVC(), \n",
    "          GaussianNB(),\n",
    "          KNeighborsClassifier(),\n",
    "          DecisionTreeClassifier(max_depth=10)\n",
    "          ]\n",
    "highest_test_accuracy=0\n",
    "champion_model_name=''\n",
    "champion_model=''\n",
    "champion_embedding=''\n",
    "results_dict={'Model Name':[],'Embedding type':[],'Training Accuracy':[],'Testing Accuracy':[]}\n",
    "\n",
    "for model in models:\n",
    "  for embedding_vector in text_embedding.keys():\n",
    "    if 'gram' in embedding_vector or 'BOW' in embedding_vector :\n",
    "        train=text_embedding[embedding_vector][0].toarray()\n",
    "        test=text_embedding[embedding_vector][1].toarray()\n",
    "    else :\n",
    "        train=text_embedding[embedding_vector][0]\n",
    "        test=text_embedding[embedding_vector][1]\n",
    "    model.fit(train, y_train)\n",
    "\n",
    "    results_dict['Model Name'].append(type(model).__name__)\n",
    "    results_dict['Embedding type'].append(embedding_vector)\n",
    "    train_acc=model.score(train, y_train)\n",
    "    results_dict['Training Accuracy'].append(train_acc)\n",
    "    test_acc=model.score(test, y_test)\n",
    "    results_dict['Testing Accuracy'].append(test_acc)\n",
    "    \n",
    "    if test_acc > highest_test_accuracy:\n",
    "      highest_test_accuracy=test_acc\n",
    "      champion_model_name=type(model).__name__\n",
    "      champion_model=model\n",
    "      champion_embedding=embedding_vector\n",
    "\n",
    "results_df=pd.DataFrame(results_dict)\n",
    "\n",
    "print('champion_model is ',champion_model_name)\n",
    "print('champion_embedding is',champion_embedding)"
   ]
  },
  {
   "cell_type": "code",
   "execution_count": 35,
   "id": "46c6303f",
   "metadata": {
    "execution": {
     "iopub.execute_input": "2022-08-20T06:59:22.556964Z",
     "iopub.status.busy": "2022-08-20T06:59:22.556591Z",
     "iopub.status.idle": "2022-08-20T06:59:22.577464Z",
     "shell.execute_reply": "2022-08-20T06:59:22.576389Z"
    },
    "id": "3uGusf-XthMI",
    "outputId": "b7602fc3-db13-4869-9af7-9aa94a00036e",
    "papermill": {
     "duration": 16.347499,
     "end_time": "2022-08-20T06:59:22.580670",
     "exception": false,
     "start_time": "2022-08-20T06:59:06.233171",
     "status": "completed"
    },
    "tags": []
   },
   "outputs": [
    {
     "data": {
      "text/html": [
       "<div>\n",
       "<style scoped>\n",
       "    .dataframe tbody tr th:only-of-type {\n",
       "        vertical-align: middle;\n",
       "    }\n",
       "\n",
       "    .dataframe tbody tr th {\n",
       "        vertical-align: top;\n",
       "    }\n",
       "\n",
       "    .dataframe thead th {\n",
       "        text-align: right;\n",
       "    }\n",
       "</style>\n",
       "<table border=\"1\" class=\"dataframe\">\n",
       "  <thead>\n",
       "    <tr style=\"text-align: right;\">\n",
       "      <th></th>\n",
       "      <th>Model Name</th>\n",
       "      <th>Embedding type</th>\n",
       "      <th>Training Accuracy</th>\n",
       "      <th>Testing Accuracy</th>\n",
       "    </tr>\n",
       "  </thead>\n",
       "  <tbody>\n",
       "    <tr>\n",
       "      <th>0</th>\n",
       "      <td>SVC</td>\n",
       "      <td>BOW</td>\n",
       "      <td>1.00000</td>\n",
       "      <td>0.965</td>\n",
       "    </tr>\n",
       "    <tr>\n",
       "      <th>1</th>\n",
       "      <td>SVC</td>\n",
       "      <td>TF_IDF 1_gram</td>\n",
       "      <td>1.00000</td>\n",
       "      <td>0.990</td>\n",
       "    </tr>\n",
       "    <tr>\n",
       "      <th>2</th>\n",
       "      <td>SVC</td>\n",
       "      <td>TF_IDF 2_gram</td>\n",
       "      <td>1.00000</td>\n",
       "      <td>1.000</td>\n",
       "    </tr>\n",
       "    <tr>\n",
       "      <th>3</th>\n",
       "      <td>SVC</td>\n",
       "      <td>Doc2vec</td>\n",
       "      <td>0.99875</td>\n",
       "      <td>0.985</td>\n",
       "    </tr>\n",
       "    <tr>\n",
       "      <th>4</th>\n",
       "      <td>SVC</td>\n",
       "      <td>LDA</td>\n",
       "      <td>0.79625</td>\n",
       "      <td>0.630</td>\n",
       "    </tr>\n",
       "    <tr>\n",
       "      <th>5</th>\n",
       "      <td>SVC</td>\n",
       "      <td>Glove</td>\n",
       "      <td>0.94375</td>\n",
       "      <td>0.935</td>\n",
       "    </tr>\n",
       "    <tr>\n",
       "      <th>6</th>\n",
       "      <td>SVC</td>\n",
       "      <td>Word2vec</td>\n",
       "      <td>0.95875</td>\n",
       "      <td>0.920</td>\n",
       "    </tr>\n",
       "    <tr>\n",
       "      <th>7</th>\n",
       "      <td>SVC</td>\n",
       "      <td>BERT Model</td>\n",
       "      <td>0.94250</td>\n",
       "      <td>0.910</td>\n",
       "    </tr>\n",
       "    <tr>\n",
       "      <th>8</th>\n",
       "      <td>GaussianNB</td>\n",
       "      <td>BOW</td>\n",
       "      <td>1.00000</td>\n",
       "      <td>0.975</td>\n",
       "    </tr>\n",
       "    <tr>\n",
       "      <th>9</th>\n",
       "      <td>GaussianNB</td>\n",
       "      <td>TF_IDF 1_gram</td>\n",
       "      <td>1.00000</td>\n",
       "      <td>0.960</td>\n",
       "    </tr>\n",
       "    <tr>\n",
       "      <th>10</th>\n",
       "      <td>GaussianNB</td>\n",
       "      <td>TF_IDF 2_gram</td>\n",
       "      <td>1.00000</td>\n",
       "      <td>0.990</td>\n",
       "    </tr>\n",
       "    <tr>\n",
       "      <th>11</th>\n",
       "      <td>GaussianNB</td>\n",
       "      <td>Doc2vec</td>\n",
       "      <td>0.97125</td>\n",
       "      <td>0.975</td>\n",
       "    </tr>\n",
       "    <tr>\n",
       "      <th>12</th>\n",
       "      <td>GaussianNB</td>\n",
       "      <td>LDA</td>\n",
       "      <td>0.72125</td>\n",
       "      <td>0.585</td>\n",
       "    </tr>\n",
       "    <tr>\n",
       "      <th>13</th>\n",
       "      <td>GaussianNB</td>\n",
       "      <td>Glove</td>\n",
       "      <td>0.87500</td>\n",
       "      <td>0.850</td>\n",
       "    </tr>\n",
       "    <tr>\n",
       "      <th>14</th>\n",
       "      <td>GaussianNB</td>\n",
       "      <td>Word2vec</td>\n",
       "      <td>0.86500</td>\n",
       "      <td>0.835</td>\n",
       "    </tr>\n",
       "    <tr>\n",
       "      <th>15</th>\n",
       "      <td>GaussianNB</td>\n",
       "      <td>BERT Model</td>\n",
       "      <td>0.80250</td>\n",
       "      <td>0.810</td>\n",
       "    </tr>\n",
       "    <tr>\n",
       "      <th>16</th>\n",
       "      <td>KNeighborsClassifier</td>\n",
       "      <td>BOW</td>\n",
       "      <td>0.91375</td>\n",
       "      <td>0.825</td>\n",
       "    </tr>\n",
       "    <tr>\n",
       "      <th>17</th>\n",
       "      <td>KNeighborsClassifier</td>\n",
       "      <td>TF_IDF 1_gram</td>\n",
       "      <td>0.96625</td>\n",
       "      <td>0.955</td>\n",
       "    </tr>\n",
       "    <tr>\n",
       "      <th>18</th>\n",
       "      <td>KNeighborsClassifier</td>\n",
       "      <td>TF_IDF 2_gram</td>\n",
       "      <td>0.97125</td>\n",
       "      <td>0.950</td>\n",
       "    </tr>\n",
       "    <tr>\n",
       "      <th>19</th>\n",
       "      <td>KNeighborsClassifier</td>\n",
       "      <td>Doc2vec</td>\n",
       "      <td>0.95125</td>\n",
       "      <td>0.940</td>\n",
       "    </tr>\n",
       "    <tr>\n",
       "      <th>20</th>\n",
       "      <td>KNeighborsClassifier</td>\n",
       "      <td>LDA</td>\n",
       "      <td>0.79375</td>\n",
       "      <td>0.600</td>\n",
       "    </tr>\n",
       "    <tr>\n",
       "      <th>21</th>\n",
       "      <td>KNeighborsClassifier</td>\n",
       "      <td>Glove</td>\n",
       "      <td>0.90125</td>\n",
       "      <td>0.840</td>\n",
       "    </tr>\n",
       "    <tr>\n",
       "      <th>22</th>\n",
       "      <td>KNeighborsClassifier</td>\n",
       "      <td>Word2vec</td>\n",
       "      <td>0.88375</td>\n",
       "      <td>0.845</td>\n",
       "    </tr>\n",
       "    <tr>\n",
       "      <th>23</th>\n",
       "      <td>KNeighborsClassifier</td>\n",
       "      <td>BERT Model</td>\n",
       "      <td>0.90125</td>\n",
       "      <td>0.845</td>\n",
       "    </tr>\n",
       "    <tr>\n",
       "      <th>24</th>\n",
       "      <td>DecisionTreeClassifier</td>\n",
       "      <td>BOW</td>\n",
       "      <td>0.85000</td>\n",
       "      <td>0.730</td>\n",
       "    </tr>\n",
       "    <tr>\n",
       "      <th>25</th>\n",
       "      <td>DecisionTreeClassifier</td>\n",
       "      <td>TF_IDF 1_gram</td>\n",
       "      <td>0.84500</td>\n",
       "      <td>0.725</td>\n",
       "    </tr>\n",
       "    <tr>\n",
       "      <th>26</th>\n",
       "      <td>DecisionTreeClassifier</td>\n",
       "      <td>TF_IDF 2_gram</td>\n",
       "      <td>0.86375</td>\n",
       "      <td>0.720</td>\n",
       "    </tr>\n",
       "    <tr>\n",
       "      <th>27</th>\n",
       "      <td>DecisionTreeClassifier</td>\n",
       "      <td>Doc2vec</td>\n",
       "      <td>0.99500</td>\n",
       "      <td>0.630</td>\n",
       "    </tr>\n",
       "    <tr>\n",
       "      <th>28</th>\n",
       "      <td>DecisionTreeClassifier</td>\n",
       "      <td>LDA</td>\n",
       "      <td>0.90875</td>\n",
       "      <td>0.525</td>\n",
       "    </tr>\n",
       "    <tr>\n",
       "      <th>29</th>\n",
       "      <td>DecisionTreeClassifier</td>\n",
       "      <td>Glove</td>\n",
       "      <td>0.98500</td>\n",
       "      <td>0.625</td>\n",
       "    </tr>\n",
       "    <tr>\n",
       "      <th>30</th>\n",
       "      <td>DecisionTreeClassifier</td>\n",
       "      <td>Word2vec</td>\n",
       "      <td>0.99625</td>\n",
       "      <td>0.620</td>\n",
       "    </tr>\n",
       "    <tr>\n",
       "      <th>31</th>\n",
       "      <td>DecisionTreeClassifier</td>\n",
       "      <td>BERT Model</td>\n",
       "      <td>0.99875</td>\n",
       "      <td>0.655</td>\n",
       "    </tr>\n",
       "  </tbody>\n",
       "</table>\n",
       "</div>"
      ],
      "text/plain": [
       "                Model Name Embedding type  Training Accuracy  Testing Accuracy\n",
       "0                      SVC            BOW            1.00000             0.965\n",
       "1                      SVC  TF_IDF 1_gram            1.00000             0.990\n",
       "2                      SVC  TF_IDF 2_gram            1.00000             1.000\n",
       "3                      SVC        Doc2vec            0.99875             0.985\n",
       "4                      SVC            LDA            0.79625             0.630\n",
       "5                      SVC          Glove            0.94375             0.935\n",
       "6                      SVC       Word2vec            0.95875             0.920\n",
       "7                      SVC     BERT Model            0.94250             0.910\n",
       "8               GaussianNB            BOW            1.00000             0.975\n",
       "9               GaussianNB  TF_IDF 1_gram            1.00000             0.960\n",
       "10              GaussianNB  TF_IDF 2_gram            1.00000             0.990\n",
       "11              GaussianNB        Doc2vec            0.97125             0.975\n",
       "12              GaussianNB            LDA            0.72125             0.585\n",
       "13              GaussianNB          Glove            0.87500             0.850\n",
       "14              GaussianNB       Word2vec            0.86500             0.835\n",
       "15              GaussianNB     BERT Model            0.80250             0.810\n",
       "16    KNeighborsClassifier            BOW            0.91375             0.825\n",
       "17    KNeighborsClassifier  TF_IDF 1_gram            0.96625             0.955\n",
       "18    KNeighborsClassifier  TF_IDF 2_gram            0.97125             0.950\n",
       "19    KNeighborsClassifier        Doc2vec            0.95125             0.940\n",
       "20    KNeighborsClassifier            LDA            0.79375             0.600\n",
       "21    KNeighborsClassifier          Glove            0.90125             0.840\n",
       "22    KNeighborsClassifier       Word2vec            0.88375             0.845\n",
       "23    KNeighborsClassifier     BERT Model            0.90125             0.845\n",
       "24  DecisionTreeClassifier            BOW            0.85000             0.730\n",
       "25  DecisionTreeClassifier  TF_IDF 1_gram            0.84500             0.725\n",
       "26  DecisionTreeClassifier  TF_IDF 2_gram            0.86375             0.720\n",
       "27  DecisionTreeClassifier        Doc2vec            0.99500             0.630\n",
       "28  DecisionTreeClassifier            LDA            0.90875             0.525\n",
       "29  DecisionTreeClassifier          Glove            0.98500             0.625\n",
       "30  DecisionTreeClassifier       Word2vec            0.99625             0.620\n",
       "31  DecisionTreeClassifier     BERT Model            0.99875             0.655"
      ]
     },
     "execution_count": 35,
     "metadata": {},
     "output_type": "execute_result"
    }
   ],
   "source": [
    "results_df"
   ]
  },
  {
   "cell_type": "code",
   "execution_count": 36,
   "id": "cda16e1b",
   "metadata": {
    "execution": {
     "iopub.execute_input": "2022-08-20T06:59:54.615735Z",
     "iopub.status.busy": "2022-08-20T06:59:54.615345Z",
     "iopub.status.idle": "2022-08-20T06:59:54.634830Z",
     "shell.execute_reply": "2022-08-20T06:59:54.633928Z"
    },
    "id": "X6kR_mVEthMI",
    "outputId": "eecdaf2f-e7a7-4eac-c46c-cd78b54ca449",
    "papermill": {
     "duration": 15.720794,
     "end_time": "2022-08-20T06:59:54.637001",
     "exception": false,
     "start_time": "2022-08-20T06:59:38.916207",
     "status": "completed"
    },
    "tags": []
   },
   "outputs": [
    {
     "data": {
      "text/html": [
       "<div>\n",
       "<style scoped>\n",
       "    .dataframe tbody tr th:only-of-type {\n",
       "        vertical-align: middle;\n",
       "    }\n",
       "\n",
       "    .dataframe tbody tr th {\n",
       "        vertical-align: top;\n",
       "    }\n",
       "\n",
       "    .dataframe thead th {\n",
       "        text-align: right;\n",
       "    }\n",
       "</style>\n",
       "<table border=\"1\" class=\"dataframe\">\n",
       "  <thead>\n",
       "    <tr style=\"text-align: right;\">\n",
       "      <th></th>\n",
       "      <th>Model Name</th>\n",
       "      <th>Embedding type</th>\n",
       "      <th>Training Accuracy</th>\n",
       "      <th>Testing Accuracy</th>\n",
       "    </tr>\n",
       "  </thead>\n",
       "  <tbody>\n",
       "    <tr>\n",
       "      <th>0</th>\n",
       "      <td>SVC</td>\n",
       "      <td>BOW</td>\n",
       "      <td>1.00000</td>\n",
       "      <td>0.965</td>\n",
       "    </tr>\n",
       "    <tr>\n",
       "      <th>1</th>\n",
       "      <td>SVC</td>\n",
       "      <td>TF_IDF 1_gram</td>\n",
       "      <td>1.00000</td>\n",
       "      <td>0.990</td>\n",
       "    </tr>\n",
       "    <tr>\n",
       "      <th>2</th>\n",
       "      <td>SVC</td>\n",
       "      <td>TF_IDF 2_gram</td>\n",
       "      <td>1.00000</td>\n",
       "      <td>1.000</td>\n",
       "    </tr>\n",
       "    <tr>\n",
       "      <th>3</th>\n",
       "      <td>SVC</td>\n",
       "      <td>Doc2vec</td>\n",
       "      <td>0.99875</td>\n",
       "      <td>0.985</td>\n",
       "    </tr>\n",
       "    <tr>\n",
       "      <th>4</th>\n",
       "      <td>SVC</td>\n",
       "      <td>LDA</td>\n",
       "      <td>0.79625</td>\n",
       "      <td>0.630</td>\n",
       "    </tr>\n",
       "    <tr>\n",
       "      <th>5</th>\n",
       "      <td>SVC</td>\n",
       "      <td>Glove</td>\n",
       "      <td>0.94375</td>\n",
       "      <td>0.935</td>\n",
       "    </tr>\n",
       "    <tr>\n",
       "      <th>6</th>\n",
       "      <td>SVC</td>\n",
       "      <td>Word2vec</td>\n",
       "      <td>0.95875</td>\n",
       "      <td>0.920</td>\n",
       "    </tr>\n",
       "    <tr>\n",
       "      <th>7</th>\n",
       "      <td>SVC</td>\n",
       "      <td>BERT Model</td>\n",
       "      <td>0.94250</td>\n",
       "      <td>0.910</td>\n",
       "    </tr>\n",
       "    <tr>\n",
       "      <th>8</th>\n",
       "      <td>GaussianNB</td>\n",
       "      <td>BOW</td>\n",
       "      <td>1.00000</td>\n",
       "      <td>0.975</td>\n",
       "    </tr>\n",
       "    <tr>\n",
       "      <th>9</th>\n",
       "      <td>GaussianNB</td>\n",
       "      <td>TF_IDF 1_gram</td>\n",
       "      <td>1.00000</td>\n",
       "      <td>0.960</td>\n",
       "    </tr>\n",
       "    <tr>\n",
       "      <th>10</th>\n",
       "      <td>GaussianNB</td>\n",
       "      <td>TF_IDF 2_gram</td>\n",
       "      <td>1.00000</td>\n",
       "      <td>0.990</td>\n",
       "    </tr>\n",
       "    <tr>\n",
       "      <th>11</th>\n",
       "      <td>GaussianNB</td>\n",
       "      <td>Doc2vec</td>\n",
       "      <td>0.97125</td>\n",
       "      <td>0.975</td>\n",
       "    </tr>\n",
       "    <tr>\n",
       "      <th>12</th>\n",
       "      <td>GaussianNB</td>\n",
       "      <td>LDA</td>\n",
       "      <td>0.72125</td>\n",
       "      <td>0.585</td>\n",
       "    </tr>\n",
       "    <tr>\n",
       "      <th>13</th>\n",
       "      <td>GaussianNB</td>\n",
       "      <td>Glove</td>\n",
       "      <td>0.87500</td>\n",
       "      <td>0.850</td>\n",
       "    </tr>\n",
       "    <tr>\n",
       "      <th>14</th>\n",
       "      <td>GaussianNB</td>\n",
       "      <td>Word2vec</td>\n",
       "      <td>0.86500</td>\n",
       "      <td>0.835</td>\n",
       "    </tr>\n",
       "    <tr>\n",
       "      <th>15</th>\n",
       "      <td>GaussianNB</td>\n",
       "      <td>BERT Model</td>\n",
       "      <td>0.80250</td>\n",
       "      <td>0.810</td>\n",
       "    </tr>\n",
       "    <tr>\n",
       "      <th>16</th>\n",
       "      <td>KNeighbors</td>\n",
       "      <td>BOW</td>\n",
       "      <td>0.91375</td>\n",
       "      <td>0.825</td>\n",
       "    </tr>\n",
       "    <tr>\n",
       "      <th>17</th>\n",
       "      <td>KNeighbors</td>\n",
       "      <td>TF_IDF 1_gram</td>\n",
       "      <td>0.96625</td>\n",
       "      <td>0.955</td>\n",
       "    </tr>\n",
       "    <tr>\n",
       "      <th>18</th>\n",
       "      <td>KNeighbors</td>\n",
       "      <td>TF_IDF 2_gram</td>\n",
       "      <td>0.97125</td>\n",
       "      <td>0.950</td>\n",
       "    </tr>\n",
       "    <tr>\n",
       "      <th>19</th>\n",
       "      <td>KNeighbors</td>\n",
       "      <td>Doc2vec</td>\n",
       "      <td>0.95125</td>\n",
       "      <td>0.940</td>\n",
       "    </tr>\n",
       "    <tr>\n",
       "      <th>20</th>\n",
       "      <td>KNeighbors</td>\n",
       "      <td>LDA</td>\n",
       "      <td>0.79375</td>\n",
       "      <td>0.600</td>\n",
       "    </tr>\n",
       "    <tr>\n",
       "      <th>21</th>\n",
       "      <td>KNeighbors</td>\n",
       "      <td>Glove</td>\n",
       "      <td>0.90125</td>\n",
       "      <td>0.840</td>\n",
       "    </tr>\n",
       "    <tr>\n",
       "      <th>22</th>\n",
       "      <td>KNeighbors</td>\n",
       "      <td>Word2vec</td>\n",
       "      <td>0.88375</td>\n",
       "      <td>0.845</td>\n",
       "    </tr>\n",
       "    <tr>\n",
       "      <th>23</th>\n",
       "      <td>KNeighbors</td>\n",
       "      <td>BERT Model</td>\n",
       "      <td>0.90125</td>\n",
       "      <td>0.845</td>\n",
       "    </tr>\n",
       "    <tr>\n",
       "      <th>24</th>\n",
       "      <td>DecisionTree</td>\n",
       "      <td>BOW</td>\n",
       "      <td>0.85000</td>\n",
       "      <td>0.730</td>\n",
       "    </tr>\n",
       "    <tr>\n",
       "      <th>25</th>\n",
       "      <td>DecisionTree</td>\n",
       "      <td>TF_IDF 1_gram</td>\n",
       "      <td>0.84500</td>\n",
       "      <td>0.725</td>\n",
       "    </tr>\n",
       "    <tr>\n",
       "      <th>26</th>\n",
       "      <td>DecisionTree</td>\n",
       "      <td>TF_IDF 2_gram</td>\n",
       "      <td>0.86375</td>\n",
       "      <td>0.720</td>\n",
       "    </tr>\n",
       "    <tr>\n",
       "      <th>27</th>\n",
       "      <td>DecisionTree</td>\n",
       "      <td>Doc2vec</td>\n",
       "      <td>0.99500</td>\n",
       "      <td>0.630</td>\n",
       "    </tr>\n",
       "    <tr>\n",
       "      <th>28</th>\n",
       "      <td>DecisionTree</td>\n",
       "      <td>LDA</td>\n",
       "      <td>0.90875</td>\n",
       "      <td>0.525</td>\n",
       "    </tr>\n",
       "    <tr>\n",
       "      <th>29</th>\n",
       "      <td>DecisionTree</td>\n",
       "      <td>Glove</td>\n",
       "      <td>0.98500</td>\n",
       "      <td>0.625</td>\n",
       "    </tr>\n",
       "    <tr>\n",
       "      <th>30</th>\n",
       "      <td>DecisionTree</td>\n",
       "      <td>Word2vec</td>\n",
       "      <td>0.99625</td>\n",
       "      <td>0.620</td>\n",
       "    </tr>\n",
       "    <tr>\n",
       "      <th>31</th>\n",
       "      <td>DecisionTree</td>\n",
       "      <td>BERT Model</td>\n",
       "      <td>0.99875</td>\n",
       "      <td>0.655</td>\n",
       "    </tr>\n",
       "  </tbody>\n",
       "</table>\n",
       "</div>"
      ],
      "text/plain": [
       "      Model Name Embedding type  Training Accuracy  Testing Accuracy\n",
       "0            SVC            BOW            1.00000             0.965\n",
       "1            SVC  TF_IDF 1_gram            1.00000             0.990\n",
       "2            SVC  TF_IDF 2_gram            1.00000             1.000\n",
       "3            SVC        Doc2vec            0.99875             0.985\n",
       "4            SVC            LDA            0.79625             0.630\n",
       "5            SVC          Glove            0.94375             0.935\n",
       "6            SVC       Word2vec            0.95875             0.920\n",
       "7            SVC     BERT Model            0.94250             0.910\n",
       "8     GaussianNB            BOW            1.00000             0.975\n",
       "9     GaussianNB  TF_IDF 1_gram            1.00000             0.960\n",
       "10    GaussianNB  TF_IDF 2_gram            1.00000             0.990\n",
       "11    GaussianNB        Doc2vec            0.97125             0.975\n",
       "12    GaussianNB            LDA            0.72125             0.585\n",
       "13    GaussianNB          Glove            0.87500             0.850\n",
       "14    GaussianNB       Word2vec            0.86500             0.835\n",
       "15    GaussianNB     BERT Model            0.80250             0.810\n",
       "16    KNeighbors            BOW            0.91375             0.825\n",
       "17    KNeighbors  TF_IDF 1_gram            0.96625             0.955\n",
       "18    KNeighbors  TF_IDF 2_gram            0.97125             0.950\n",
       "19    KNeighbors        Doc2vec            0.95125             0.940\n",
       "20    KNeighbors            LDA            0.79375             0.600\n",
       "21    KNeighbors          Glove            0.90125             0.840\n",
       "22    KNeighbors       Word2vec            0.88375             0.845\n",
       "23    KNeighbors     BERT Model            0.90125             0.845\n",
       "24  DecisionTree            BOW            0.85000             0.730\n",
       "25  DecisionTree  TF_IDF 1_gram            0.84500             0.725\n",
       "26  DecisionTree  TF_IDF 2_gram            0.86375             0.720\n",
       "27  DecisionTree        Doc2vec            0.99500             0.630\n",
       "28  DecisionTree            LDA            0.90875             0.525\n",
       "29  DecisionTree          Glove            0.98500             0.625\n",
       "30  DecisionTree       Word2vec            0.99625             0.620\n",
       "31  DecisionTree     BERT Model            0.99875             0.655"
      ]
     },
     "execution_count": 36,
     "metadata": {},
     "output_type": "execute_result"
    }
   ],
   "source": [
    "results_df['Model Name']=results_df['Model Name'].apply(lambda x: x[:-10] if 'Classifier' in x else x)\n",
    "results_df"
   ]
  },
  {
   "cell_type": "code",
   "execution_count": 37,
   "id": "369ea7f6",
   "metadata": {
    "execution": {
     "iopub.execute_input": "2022-08-20T07:00:27.372743Z",
     "iopub.status.busy": "2022-08-20T07:00:27.372053Z",
     "iopub.status.idle": "2022-08-20T07:00:28.687327Z",
     "shell.execute_reply": "2022-08-20T07:00:28.686428Z"
    },
    "id": "I9cfM7HwthMI",
    "outputId": "0f4f1d36-b3eb-4492-973e-30e4ba799214",
    "papermill": {
     "duration": 17.292574,
     "end_time": "2022-08-20T07:00:28.689473",
     "exception": false,
     "start_time": "2022-08-20T07:00:11.396899",
     "status": "completed"
    },
    "tags": []
   },
   "outputs": [
    {
     "data": {
      "image/png": "[encoded data removed]",
      "text/plain": [
       "<Figure size 1080x720 with 8 Axes>"
      ]
     },
     "metadata": {
      "needs_background": "light"
     },
     "output_type": "display_data"
    }
   ],
   "source": [
    "import seaborn as sns\n",
    "fig, axes = plt.subplots(2, (results_df['Embedding type'].nunique()//2), figsize=(15,10));\n",
    "fig.suptitle(\"Comparison between Models' Testing Scores for Each Embedding Type\" );\n",
    "k = 0\n",
    "for i in range (0,2):\n",
    "    for j in range (0,4):\n",
    "        embed_type = results_df['Embedding type'].unique()[k]\n",
    "        plt.ylim((0,1));\n",
    "        axes[i][j].tick_params(axis='x', rotation=-45)\n",
    "        axes[i][j].set_title(f\"{embed_type}\");\n",
    "        sns.barplot(ax = axes[i][j], x= list(results_df['Model Name'].unique()), y=list(results_df[results_df['Embedding type'] == embed_type]['Testing Accuracy']),palette=\"Blues\");\n",
    "        k+=1\n",
    "\n",
    "plt.subplots_adjust(left=0.1,\n",
    "                    bottom=0.1,\n",
    "                    right=0.9,\n",
    "                    top=0.9,\n",
    "                    wspace=0.8,\n",
    "                    hspace=0.4)"
   ]
  },
  {
   "cell_type": "code",
   "execution_count": 38,
   "id": "2c478794",
   "metadata": {
    "execution": {
     "iopub.execute_input": "2022-08-20T07:01:01.255480Z",
     "iopub.status.busy": "2022-08-20T07:01:01.255104Z",
     "iopub.status.idle": "2022-08-20T07:01:01.266947Z",
     "shell.execute_reply": "2022-08-20T07:01:01.266047Z"
    },
    "id": "TMWa71u5thMI",
    "papermill": {
     "duration": 15.979923,
     "end_time": "2022-08-20T07:01:01.269084",
     "exception": false,
     "start_time": "2022-08-20T07:00:45.289161",
     "status": "completed"
    },
    "tags": []
   },
   "outputs": [],
   "source": [
    "results_df.to_csv('results.csv',index=False)"
   ]
  },
  {
   "cell_type": "code",
   "execution_count": 39,
   "id": "03159221",
   "metadata": {
    "execution": {
     "iopub.execute_input": "2022-08-20T07:01:33.652461Z",
     "iopub.status.busy": "2022-08-20T07:01:33.652090Z",
     "iopub.status.idle": "2022-08-20T07:01:33.674050Z",
     "shell.execute_reply": "2022-08-20T07:01:33.673057Z"
    },
    "id": "kxFE_ZpHthMJ",
    "outputId": "c26685e0-0572-467d-b376-726a69b6c45e",
    "papermill": {
     "duration": 15.581918,
     "end_time": "2022-08-20T07:01:33.676335",
     "exception": false,
     "start_time": "2022-08-20T07:01:18.094417",
     "status": "completed"
    },
    "tags": []
   },
   "outputs": [
    {
     "data": {
      "text/html": [
       "<div>\n",
       "<style scoped>\n",
       "    .dataframe tbody tr th:only-of-type {\n",
       "        vertical-align: middle;\n",
       "    }\n",
       "\n",
       "    .dataframe tbody tr th {\n",
       "        vertical-align: top;\n",
       "    }\n",
       "\n",
       "    .dataframe thead th {\n",
       "        text-align: right;\n",
       "    }\n",
       "</style>\n",
       "<table border=\"1\" class=\"dataframe\">\n",
       "  <thead>\n",
       "    <tr style=\"text-align: right;\">\n",
       "      <th></th>\n",
       "      <th>Model Name</th>\n",
       "      <th>Embedding type</th>\n",
       "      <th>Training Accuracy</th>\n",
       "      <th>Testing Accuracy</th>\n",
       "    </tr>\n",
       "  </thead>\n",
       "  <tbody>\n",
       "    <tr>\n",
       "      <th>0</th>\n",
       "      <td>SVC</td>\n",
       "      <td>BOW</td>\n",
       "      <td>1.00000</td>\n",
       "      <td>0.965</td>\n",
       "    </tr>\n",
       "    <tr>\n",
       "      <th>1</th>\n",
       "      <td>SVC</td>\n",
       "      <td>TF_IDF 1_gram</td>\n",
       "      <td>1.00000</td>\n",
       "      <td>0.990</td>\n",
       "    </tr>\n",
       "    <tr>\n",
       "      <th>2</th>\n",
       "      <td>SVC</td>\n",
       "      <td>TF_IDF 2_gram</td>\n",
       "      <td>1.00000</td>\n",
       "      <td>1.000</td>\n",
       "    </tr>\n",
       "    <tr>\n",
       "      <th>3</th>\n",
       "      <td>SVC</td>\n",
       "      <td>Doc2vec</td>\n",
       "      <td>0.99875</td>\n",
       "      <td>0.985</td>\n",
       "    </tr>\n",
       "    <tr>\n",
       "      <th>4</th>\n",
       "      <td>SVC</td>\n",
       "      <td>LDA</td>\n",
       "      <td>0.79625</td>\n",
       "      <td>0.630</td>\n",
       "    </tr>\n",
       "    <tr>\n",
       "      <th>5</th>\n",
       "      <td>SVC</td>\n",
       "      <td>Glove</td>\n",
       "      <td>0.94375</td>\n",
       "      <td>0.935</td>\n",
       "    </tr>\n",
       "    <tr>\n",
       "      <th>6</th>\n",
       "      <td>SVC</td>\n",
       "      <td>Word2vec</td>\n",
       "      <td>0.95875</td>\n",
       "      <td>0.920</td>\n",
       "    </tr>\n",
       "    <tr>\n",
       "      <th>7</th>\n",
       "      <td>SVC</td>\n",
       "      <td>BERT Model</td>\n",
       "      <td>0.94250</td>\n",
       "      <td>0.910</td>\n",
       "    </tr>\n",
       "    <tr>\n",
       "      <th>8</th>\n",
       "      <td>GaussianNB</td>\n",
       "      <td>BOW</td>\n",
       "      <td>1.00000</td>\n",
       "      <td>0.975</td>\n",
       "    </tr>\n",
       "    <tr>\n",
       "      <th>9</th>\n",
       "      <td>GaussianNB</td>\n",
       "      <td>TF_IDF 1_gram</td>\n",
       "      <td>1.00000</td>\n",
       "      <td>0.960</td>\n",
       "    </tr>\n",
       "    <tr>\n",
       "      <th>10</th>\n",
       "      <td>GaussianNB</td>\n",
       "      <td>TF_IDF 2_gram</td>\n",
       "      <td>1.00000</td>\n",
       "      <td>0.990</td>\n",
       "    </tr>\n",
       "    <tr>\n",
       "      <th>11</th>\n",
       "      <td>GaussianNB</td>\n",
       "      <td>Doc2vec</td>\n",
       "      <td>0.97125</td>\n",
       "      <td>0.975</td>\n",
       "    </tr>\n",
       "    <tr>\n",
       "      <th>12</th>\n",
       "      <td>GaussianNB</td>\n",
       "      <td>LDA</td>\n",
       "      <td>0.72125</td>\n",
       "      <td>0.585</td>\n",
       "    </tr>\n",
       "    <tr>\n",
       "      <th>13</th>\n",
       "      <td>GaussianNB</td>\n",
       "      <td>Glove</td>\n",
       "      <td>0.87500</td>\n",
       "      <td>0.850</td>\n",
       "    </tr>\n",
       "    <tr>\n",
       "      <th>14</th>\n",
       "      <td>GaussianNB</td>\n",
       "      <td>Word2vec</td>\n",
       "      <td>0.86500</td>\n",
       "      <td>0.835</td>\n",
       "    </tr>\n",
       "    <tr>\n",
       "      <th>15</th>\n",
       "      <td>GaussianNB</td>\n",
       "      <td>BERT Model</td>\n",
       "      <td>0.80250</td>\n",
       "      <td>0.810</td>\n",
       "    </tr>\n",
       "    <tr>\n",
       "      <th>16</th>\n",
       "      <td>KNeighbors</td>\n",
       "      <td>BOW</td>\n",
       "      <td>0.91375</td>\n",
       "      <td>0.825</td>\n",
       "    </tr>\n",
       "    <tr>\n",
       "      <th>17</th>\n",
       "      <td>KNeighbors</td>\n",
       "      <td>TF_IDF 1_gram</td>\n",
       "      <td>0.96625</td>\n",
       "      <td>0.955</td>\n",
       "    </tr>\n",
       "    <tr>\n",
       "      <th>18</th>\n",
       "      <td>KNeighbors</td>\n",
       "      <td>TF_IDF 2_gram</td>\n",
       "      <td>0.97125</td>\n",
       "      <td>0.950</td>\n",
       "    </tr>\n",
       "    <tr>\n",
       "      <th>19</th>\n",
       "      <td>KNeighbors</td>\n",
       "      <td>Doc2vec</td>\n",
       "      <td>0.95125</td>\n",
       "      <td>0.940</td>\n",
       "    </tr>\n",
       "    <tr>\n",
       "      <th>20</th>\n",
       "      <td>KNeighbors</td>\n",
       "      <td>LDA</td>\n",
       "      <td>0.79375</td>\n",
       "      <td>0.600</td>\n",
       "    </tr>\n",
       "    <tr>\n",
       "      <th>21</th>\n",
       "      <td>KNeighbors</td>\n",
       "      <td>Glove</td>\n",
       "      <td>0.90125</td>\n",
       "      <td>0.840</td>\n",
       "    </tr>\n",
       "    <tr>\n",
       "      <th>22</th>\n",
       "      <td>KNeighbors</td>\n",
       "      <td>Word2vec</td>\n",
       "      <td>0.88375</td>\n",
       "      <td>0.845</td>\n",
       "    </tr>\n",
       "    <tr>\n",
       "      <th>23</th>\n",
       "      <td>KNeighbors</td>\n",
       "      <td>BERT Model</td>\n",
       "      <td>0.90125</td>\n",
       "      <td>0.845</td>\n",
       "    </tr>\n",
       "    <tr>\n",
       "      <th>24</th>\n",
       "      <td>DecisionTree</td>\n",
       "      <td>BOW</td>\n",
       "      <td>0.85000</td>\n",
       "      <td>0.730</td>\n",
       "    </tr>\n",
       "    <tr>\n",
       "      <th>25</th>\n",
       "      <td>DecisionTree</td>\n",
       "      <td>TF_IDF 1_gram</td>\n",
       "      <td>0.84500</td>\n",
       "      <td>0.725</td>\n",
       "    </tr>\n",
       "    <tr>\n",
       "      <th>26</th>\n",
       "      <td>DecisionTree</td>\n",
       "      <td>TF_IDF 2_gram</td>\n",
       "      <td>0.86375</td>\n",
       "      <td>0.720</td>\n",
       "    </tr>\n",
       "    <tr>\n",
       "      <th>27</th>\n",
       "      <td>DecisionTree</td>\n",
       "      <td>Doc2vec</td>\n",
       "      <td>0.99500</td>\n",
       "      <td>0.630</td>\n",
       "    </tr>\n",
       "    <tr>\n",
       "      <th>28</th>\n",
       "      <td>DecisionTree</td>\n",
       "      <td>LDA</td>\n",
       "      <td>0.90875</td>\n",
       "      <td>0.525</td>\n",
       "    </tr>\n",
       "    <tr>\n",
       "      <th>29</th>\n",
       "      <td>DecisionTree</td>\n",
       "      <td>Glove</td>\n",
       "      <td>0.98500</td>\n",
       "      <td>0.625</td>\n",
       "    </tr>\n",
       "    <tr>\n",
       "      <th>30</th>\n",
       "      <td>DecisionTree</td>\n",
       "      <td>Word2vec</td>\n",
       "      <td>0.99625</td>\n",
       "      <td>0.620</td>\n",
       "    </tr>\n",
       "    <tr>\n",
       "      <th>31</th>\n",
       "      <td>DecisionTree</td>\n",
       "      <td>BERT Model</td>\n",
       "      <td>0.99875</td>\n",
       "      <td>0.655</td>\n",
       "    </tr>\n",
       "  </tbody>\n",
       "</table>\n",
       "</div>"
      ],
      "text/plain": [
       "      Model Name Embedding type  Training Accuracy  Testing Accuracy\n",
       "0            SVC            BOW            1.00000             0.965\n",
       "1            SVC  TF_IDF 1_gram            1.00000             0.990\n",
       "2            SVC  TF_IDF 2_gram            1.00000             1.000\n",
       "3            SVC        Doc2vec            0.99875             0.985\n",
       "4            SVC            LDA            0.79625             0.630\n",
       "5            SVC          Glove            0.94375             0.935\n",
       "6            SVC       Word2vec            0.95875             0.920\n",
       "7            SVC     BERT Model            0.94250             0.910\n",
       "8     GaussianNB            BOW            1.00000             0.975\n",
       "9     GaussianNB  TF_IDF 1_gram            1.00000             0.960\n",
       "10    GaussianNB  TF_IDF 2_gram            1.00000             0.990\n",
       "11    GaussianNB        Doc2vec            0.97125             0.975\n",
       "12    GaussianNB            LDA            0.72125             0.585\n",
       "13    GaussianNB          Glove            0.87500             0.850\n",
       "14    GaussianNB       Word2vec            0.86500             0.835\n",
       "15    GaussianNB     BERT Model            0.80250             0.810\n",
       "16    KNeighbors            BOW            0.91375             0.825\n",
       "17    KNeighbors  TF_IDF 1_gram            0.96625             0.955\n",
       "18    KNeighbors  TF_IDF 2_gram            0.97125             0.950\n",
       "19    KNeighbors        Doc2vec            0.95125             0.940\n",
       "20    KNeighbors            LDA            0.79375             0.600\n",
       "21    KNeighbors          Glove            0.90125             0.840\n",
       "22    KNeighbors       Word2vec            0.88375             0.845\n",
       "23    KNeighbors     BERT Model            0.90125             0.845\n",
       "24  DecisionTree            BOW            0.85000             0.730\n",
       "25  DecisionTree  TF_IDF 1_gram            0.84500             0.725\n",
       "26  DecisionTree  TF_IDF 2_gram            0.86375             0.720\n",
       "27  DecisionTree        Doc2vec            0.99500             0.630\n",
       "28  DecisionTree            LDA            0.90875             0.525\n",
       "29  DecisionTree          Glove            0.98500             0.625\n",
       "30  DecisionTree       Word2vec            0.99625             0.620\n",
       "31  DecisionTree     BERT Model            0.99875             0.655"
      ]
     },
     "execution_count": 39,
     "metadata": {},
     "output_type": "execute_result"
    }
   ],
   "source": [
    "#read cvs file\n",
    "results_df=pd.read_csv('results.csv')\n",
    "results_df"
   ]
  },
  {
   "cell_type": "markdown",
   "id": "1392240c",
   "metadata": {
    "id": "Z4IOaM92thMJ",
    "papermill": {
     "duration": 15.775712,
     "end_time": "2022-08-20T07:02:06.284352",
     "exception": false,
     "start_time": "2022-08-20T07:01:50.508640",
     "status": "completed"
    },
    "tags": []
   },
   "source": [
    "## <a id=\"14\">BERT classifier</a>"
   ]
  },
  {
   "cell_type": "markdown",
   "id": "9857ec07",
   "metadata": {
    "id": "jUXRjrO6VnKQ",
    "papermill": {
     "duration": 15.747197,
     "end_time": "2022-08-20T07:02:38.706178",
     "exception": false,
     "start_time": "2022-08-20T07:02:22.958981",
     "status": "completed"
    },
    "tags": []
   },
   "source": [
    "- BERT can be used as the main classifier by fine tuning the model on our dataset.\n",
    "- Used implemented BERT class from hugging face library which called transformers."
   ]
  },
  {
   "cell_type": "code",
   "execution_count": 40,
   "id": "10e984dd",
   "metadata": {
    "execution": {
     "iopub.execute_input": "2022-08-20T07:03:11.254579Z",
     "iopub.status.busy": "2022-08-20T07:03:11.254204Z",
     "iopub.status.idle": "2022-08-20T07:03:34.457431Z",
     "shell.execute_reply": "2022-08-20T07:03:34.456251Z"
    },
    "id": "bQXxqmYedZ0Q",
    "outputId": "214a3668-c2cc-456e-b821-1a82a940c7fb",
    "papermill": {
     "duration": 39.11725,
     "end_time": "2022-08-20T07:03:34.460024",
     "exception": false,
     "start_time": "2022-08-20T07:02:55.342774",
     "status": "completed"
    },
    "tags": []
   },
   "outputs": [
    {
     "name": "stdout",
     "output_type": "stream",
     "text": [
      "Collecting simpletransformers\r\n",
      "  Downloading simpletransformers-0.63.7-py3-none-any.whl (249 kB)\r\n",
      "\u001b[2K     \u001b[90m━━━━━━━━━━━━━━━━━━━━━━━━━━━━━━━━━━━━━━━\u001b[0m \u001b[32m249.8/249.8 kB\u001b[0m \u001b[31m1.1 MB/s\u001b[0m eta \u001b[36m0:00:00\u001b[0m\r\n",
      "\u001b[?25hRequirement already satisfied: tqdm>=4.47.0 in /opt/conda/lib/python3.7/site-packages (from simpletransformers) (4.64.0)\r\n",
      "Collecting streamlit\r\n",
      "  Downloading streamlit-1.12.0-py2.py3-none-any.whl (9.1 MB)\r\n",
      "\u001b[2K     \u001b[90m━━━━━━━━━━━━━━━━━━━━━━━━━━━━━━━━━━━━━━━━\u001b[0m \u001b[32m9.1/9.1 MB\u001b[0m \u001b[31m17.5 MB/s\u001b[0m eta \u001b[36m0:00:00\u001b[0m\r\n",
      "\u001b[?25hRequirement already satisfied: regex in /opt/conda/lib/python3.7/site-packages (from simpletransformers) (2021.11.10)\r\n",
      "Requirement already satisfied: scipy in /opt/conda/lib/python3.7/site-packages (from simpletransformers) (1.7.3)\r\n",
      "Requirement already satisfied: numpy in /opt/conda/lib/python3.7/site-packages (from simpletransformers) (1.21.6)\r\n",
      "Requirement already satisfied: scikit-learn in /opt/conda/lib/python3.7/site-packages (from simpletransformers) (1.0.2)\r\n",
      "Collecting seqeval\r\n",
      "  Downloading seqeval-1.2.2.tar.gz (43 kB)\r\n",
      "\u001b[2K     \u001b[90m━━━━━━━━━━━━━━━━━━━━━━━━━━━━━━━━━━━━━━━━\u001b[0m \u001b[32m43.6/43.6 kB\u001b[0m \u001b[31m2.9 MB/s\u001b[0m eta \u001b[36m0:00:00\u001b[0m\r\n",
      "\u001b[?25h  Preparing metadata (setup.py) ... \u001b[?25l-\b \bdone\r\n",
      "\u001b[?25hRequirement already satisfied: pandas in /opt/conda/lib/python3.7/site-packages (from simpletransformers) (1.3.5)\r\n",
      "Requirement already satisfied: sentencepiece in /opt/conda/lib/python3.7/site-packages (from simpletransformers) (0.1.96)\r\n",
      "Requirement already satisfied: transformers>=4.6.0 in /opt/conda/lib/python3.7/site-packages (from simpletransformers) (4.20.1)\r\n",
      "Requirement already satisfied: datasets in /opt/conda/lib/python3.7/site-packages (from simpletransformers) (2.1.0)\r\n",
      "Requirement already satisfied: requests in /opt/conda/lib/python3.7/site-packages (from simpletransformers) (2.28.1)\r\n",
      "Requirement already satisfied: tokenizers in /opt/conda/lib/python3.7/site-packages (from simpletransformers) (0.12.1)\r\n",
      "Requirement already satisfied: tensorboard in /opt/conda/lib/python3.7/site-packages (from simpletransformers) (2.6.0)\r\n",
      "Requirement already satisfied: wandb>=0.10.32 in /opt/conda/lib/python3.7/site-packages (from simpletransformers) (0.12.21)\r\n",
      "Requirement already satisfied: packaging>=20.0 in /opt/conda/lib/python3.7/site-packages (from transformers>=4.6.0->simpletransformers) (21.3)\r\n",
      "Requirement already satisfied: filelock in /opt/conda/lib/python3.7/site-packages (from transformers>=4.6.0->simpletransformers) (3.7.1)\r\n",
      "Requirement already satisfied: pyyaml>=5.1 in /opt/conda/lib/python3.7/site-packages (from transformers>=4.6.0->simpletransformers) (6.0)\r\n",
      "Requirement already satisfied: huggingface-hub<1.0,>=0.1.0 in /opt/conda/lib/python3.7/site-packages (from transformers>=4.6.0->simpletransformers) (0.8.1)\r\n",
      "Requirement already satisfied: importlib-metadata in /opt/conda/lib/python3.7/site-packages (from transformers>=4.6.0->simpletransformers) (4.12.0)\r\n",
      "Requirement already satisfied: GitPython>=1.0.0 in /opt/conda/lib/python3.7/site-packages (from wandb>=0.10.32->simpletransformers) (3.1.27)\r\n",
      "Requirement already satisfied: setproctitle in /opt/conda/lib/python3.7/site-packages (from wandb>=0.10.32->simpletransformers) (1.2.3)\r\n",
      "Requirement already satisfied: Click!=8.0.0,>=7.0 in /opt/conda/lib/python3.7/site-packages (from wandb>=0.10.32->simpletransformers) (8.0.4)\r\n",
      "Requirement already satisfied: protobuf<4.0dev,>=3.12.0 in /opt/conda/lib/python3.7/site-packages (from wandb>=0.10.32->simpletransformers) (3.19.4)\r\n",
      "Requirement already satisfied: promise<3,>=2.0 in /opt/conda/lib/python3.7/site-packages (from wandb>=0.10.32->simpletransformers) (2.3)\r\n",
      "Requirement already satisfied: pathtools in /opt/conda/lib/python3.7/site-packages (from wandb>=0.10.32->simpletransformers) (0.1.2)\r\n",
      "Requirement already satisfied: psutil>=5.0.0 in /opt/conda/lib/python3.7/site-packages (from wandb>=0.10.32->simpletransformers) (5.9.1)\r\n",
      "Requirement already satisfied: sentry-sdk>=1.0.0 in /opt/conda/lib/python3.7/site-packages (from wandb>=0.10.32->simpletransformers) (1.7.2)\r\n",
      "Requirement already satisfied: setuptools in /opt/conda/lib/python3.7/site-packages (from wandb>=0.10.32->simpletransformers) (59.8.0)\r\n",
      "Requirement already satisfied: six>=1.13.0 in /opt/conda/lib/python3.7/site-packages (from wandb>=0.10.32->simpletransformers) (1.16.0)\r\n",
      "Requirement already satisfied: docker-pycreds>=0.4.0 in /opt/conda/lib/python3.7/site-packages (from wandb>=0.10.32->simpletransformers) (0.4.0)\r\n",
      "Requirement already satisfied: shortuuid>=0.5.0 in /opt/conda/lib/python3.7/site-packages (from wandb>=0.10.32->simpletransformers) (1.0.9)\r\n",
      "Requirement already satisfied: urllib3<1.27,>=1.21.1 in /opt/conda/lib/python3.7/site-packages (from requests->simpletransformers) (1.26.9)\r\n",
      "Requirement already satisfied: certifi>=2017.4.17 in /opt/conda/lib/python3.7/site-packages (from requests->simpletransformers) (2022.6.15)\r\n",
      "Requirement already satisfied: charset-normalizer<3,>=2 in /opt/conda/lib/python3.7/site-packages (from requests->simpletransformers) (2.1.0)\r\n",
      "Requirement already satisfied: idna<4,>=2.5 in /opt/conda/lib/python3.7/site-packages (from requests->simpletransformers) (3.3)\r\n",
      "Requirement already satisfied: dill in /opt/conda/lib/python3.7/site-packages (from datasets->simpletransformers) (0.3.5.1)\r\n",
      "Requirement already satisfied: fsspec[http]>=2021.05.0 in /opt/conda/lib/python3.7/site-packages (from datasets->simpletransformers) (2022.5.0)\r\n",
      "Requirement already satisfied: xxhash in /opt/conda/lib/python3.7/site-packages (from datasets->simpletransformers) (3.0.0)\r\n",
      "Requirement already satisfied: responses<0.19 in /opt/conda/lib/python3.7/site-packages (from datasets->simpletransformers) (0.18.0)\r\n",
      "Requirement already satisfied: aiohttp in /opt/conda/lib/python3.7/site-packages (from datasets->simpletransformers) (3.8.1)\r\n",
      "Requirement already satisfied: multiprocess in /opt/conda/lib/python3.7/site-packages (from datasets->simpletransformers) (0.70.13)\r\n",
      "Requirement already satisfied: pyarrow>=5.0.0 in /opt/conda/lib/python3.7/site-packages (from datasets->simpletransformers) (5.0.0)\r\n",
      "Requirement already satisfied: python-dateutil>=2.7.3 in /opt/conda/lib/python3.7/site-packages (from pandas->simpletransformers) (2.8.2)\r\n",
      "Requirement already satisfied: pytz>=2017.3 in /opt/conda/lib/python3.7/site-packages (from pandas->simpletransformers) (2022.1)\r\n",
      "Requirement already satisfied: joblib>=0.11 in /opt/conda/lib/python3.7/site-packages (from scikit-learn->simpletransformers) (1.0.1)\r\n",
      "Requirement already satisfied: threadpoolctl>=2.0.0 in /opt/conda/lib/python3.7/site-packages (from scikit-learn->simpletransformers) (3.1.0)\r\n",
      "Requirement already satisfied: typing-extensions>=3.10.0.0 in /opt/conda/lib/python3.7/site-packages (from streamlit->simpletransformers) (4.1.1)\r\n",
      "Requirement already satisfied: semver in /opt/conda/lib/python3.7/site-packages (from streamlit->simpletransformers) (2.13.0)\r\n",
      "Requirement already satisfied: pillow>=6.2.0 in /opt/conda/lib/python3.7/site-packages (from streamlit->simpletransformers) (9.1.1)\r\n",
      "Requirement already satisfied: toml in /opt/conda/lib/python3.7/site-packages (from streamlit->simpletransformers) (0.10.2)\r\n",
      "Collecting validators>=0.2\r\n",
      "  Downloading validators-0.20.0.tar.gz (30 kB)\r\n",
      "  Preparing metadata (setup.py) ... \u001b[?25l-\b \bdone\r\n",
      "\u001b[?25hRequirement already satisfied: tornado>=5.0 in /opt/conda/lib/python3.7/site-packages (from streamlit->simpletransformers) (6.1)\r\n",
      "Requirement already satisfied: blinker>=1.0.0 in /opt/conda/lib/python3.7/site-packages (from streamlit->simpletransformers) (1.4)\r\n",
      "Requirement already satisfied: cachetools>=4.0 in /opt/conda/lib/python3.7/site-packages (from streamlit->simpletransformers) (4.2.4)\r\n",
      "Requirement already satisfied: altair>=3.2.0 in /opt/conda/lib/python3.7/site-packages (from streamlit->simpletransformers) (4.2.0)\r\n",
      "Requirement already satisfied: pympler>=0.9 in /opt/conda/lib/python3.7/site-packages (from streamlit->simpletransformers) (1.0.1)\r\n",
      "Collecting pydeck>=0.1.dev5\r\n",
      "  Downloading pydeck-0.7.1-py2.py3-none-any.whl (4.3 MB)\r\n",
      "\u001b[2K     \u001b[90m━━━━━━━━━━━━━━━━━━━━━━━━━━━━━━━━━━━━━━━━\u001b[0m \u001b[32m4.3/4.3 MB\u001b[0m \u001b[31m32.7 MB/s\u001b[0m eta \u001b[36m0:00:00\u001b[0m\r\n",
      "\u001b[?25hRequirement already satisfied: tzlocal>=1.1 in /opt/conda/lib/python3.7/site-packages (from streamlit->simpletransformers) (4.2)\r\n",
      "Collecting watchdog\r\n",
      "  Downloading watchdog-2.1.9-py3-none-manylinux2014_x86_64.whl (78 kB)\r\n",
      "\u001b[2K     \u001b[90m━━━━━━━━━━━━━━━━━━━━━━━━━━━━━━━━━━━━━━━━\u001b[0m \u001b[32m78.4/78.4 kB\u001b[0m \u001b[31m7.8 MB/s\u001b[0m eta \u001b[36m0:00:00\u001b[0m\r\n",
      "\u001b[?25hRequirement already satisfied: rich>=10.11.0 in /opt/conda/lib/python3.7/site-packages (from streamlit->simpletransformers) (12.1.0)\r\n",
      "Requirement already satisfied: grpcio>=1.24.3 in /opt/conda/lib/python3.7/site-packages (from tensorboard->simpletransformers) (1.43.0)\r\n",
      "Requirement already satisfied: google-auth-oauthlib<0.5,>=0.4.1 in /opt/conda/lib/python3.7/site-packages (from tensorboard->simpletransformers) (0.4.6)\r\n",
      "Requirement already satisfied: werkzeug>=0.11.15 in /opt/conda/lib/python3.7/site-packages (from tensorboard->simpletransformers) (2.1.2)\r\n",
      "Requirement already satisfied: wheel>=0.26 in /opt/conda/lib/python3.7/site-packages (from tensorboard->simpletransformers) (0.37.1)\r\n",
      "Requirement already satisfied: google-auth<2,>=1.6.3 in /opt/conda/lib/python3.7/site-packages (from tensorboard->simpletransformers) (1.35.0)\r\n",
      "Requirement already satisfied: tensorboard-data-server<0.7.0,>=0.6.0 in /opt/conda/lib/python3.7/site-packages (from tensorboard->simpletransformers) (0.6.1)\r\n",
      "Requirement already satisfied: absl-py>=0.4 in /opt/conda/lib/python3.7/site-packages (from tensorboard->simpletransformers) (1.1.0)\r\n",
      "Requirement already satisfied: tensorboard-plugin-wit>=1.6.0 in /opt/conda/lib/python3.7/site-packages (from tensorboard->simpletransformers) (1.8.1)\r\n",
      "Requirement already satisfied: markdown>=2.6.8 in /opt/conda/lib/python3.7/site-packages (from tensorboard->simpletransformers) (3.3.7)\r\n",
      "Requirement already satisfied: toolz in /opt/conda/lib/python3.7/site-packages (from altair>=3.2.0->streamlit->simpletransformers) (0.11.2)\r\n",
      "Requirement already satisfied: jinja2 in /opt/conda/lib/python3.7/site-packages (from altair>=3.2.0->streamlit->simpletransformers) (3.1.2)\r\n",
      "Requirement already satisfied: entrypoints in /opt/conda/lib/python3.7/site-packages (from altair>=3.2.0->streamlit->simpletransformers) (0.4)\r\n",
      "Requirement already satisfied: jsonschema>=3.0 in /opt/conda/lib/python3.7/site-packages (from altair>=3.2.0->streamlit->simpletransformers) (4.6.1)\r\n",
      "Requirement already satisfied: gitdb<5,>=4.0.1 in /opt/conda/lib/python3.7/site-packages (from GitPython>=1.0.0->wandb>=0.10.32->simpletransformers) (4.0.9)\r\n",
      "Requirement already satisfied: rsa<5,>=3.1.4 in /opt/conda/lib/python3.7/site-packages (from google-auth<2,>=1.6.3->tensorboard->simpletransformers) (4.8)\r\n",
      "Requirement already satisfied: pyasn1-modules>=0.2.1 in /opt/conda/lib/python3.7/site-packages (from google-auth<2,>=1.6.3->tensorboard->simpletransformers) (0.2.7)\r\n",
      "Requirement already satisfied: requests-oauthlib>=0.7.0 in /opt/conda/lib/python3.7/site-packages (from google-auth-oauthlib<0.5,>=0.4.1->tensorboard->simpletransformers) (1.3.1)\r\n",
      "Requirement already satisfied: zipp>=0.5 in /opt/conda/lib/python3.7/site-packages (from importlib-metadata->transformers>=4.6.0->simpletransformers) (3.8.0)\r\n",
      "Requirement already satisfied: pyparsing!=3.0.5,>=2.0.2 in /opt/conda/lib/python3.7/site-packages (from packaging>=20.0->transformers>=4.6.0->simpletransformers) (3.0.9)\r\n",
      "Requirement already satisfied: ipywidgets>=7.0.0 in /opt/conda/lib/python3.7/site-packages (from pydeck>=0.1.dev5->streamlit->simpletransformers) (7.7.1)\r\n",
      "Requirement already satisfied: traitlets>=4.3.2 in /opt/conda/lib/python3.7/site-packages (from pydeck>=0.1.dev5->streamlit->simpletransformers) (5.3.0)\r\n",
      "Requirement already satisfied: ipykernel>=5.1.2 in /opt/conda/lib/python3.7/site-packages (from pydeck>=0.1.dev5->streamlit->simpletransformers) (6.15.0)\r\n",
      "Requirement already satisfied: commonmark<0.10.0,>=0.9.0 in /opt/conda/lib/python3.7/site-packages (from rich>=10.11.0->streamlit->simpletransformers) (0.9.1)\r\n",
      "Requirement already satisfied: pygments<3.0.0,>=2.6.0 in /opt/conda/lib/python3.7/site-packages (from rich>=10.11.0->streamlit->simpletransformers) (2.12.0)\r\n",
      "Requirement already satisfied: pytz-deprecation-shim in /opt/conda/lib/python3.7/site-packages (from tzlocal>=1.1->streamlit->simpletransformers) (0.1.0.post0)\r\n",
      "Requirement already satisfied: backports.zoneinfo in /opt/conda/lib/python3.7/site-packages (from tzlocal>=1.1->streamlit->simpletransformers) (0.2.1)\r\n",
      "Requirement already satisfied: decorator>=3.4.0 in /opt/conda/lib/python3.7/site-packages (from validators>=0.2->streamlit->simpletransformers) (5.1.1)\r\n",
      "Requirement already satisfied: aiosignal>=1.1.2 in /opt/conda/lib/python3.7/site-packages (from aiohttp->datasets->simpletransformers) (1.2.0)\r\n",
      "Requirement already satisfied: attrs>=17.3.0 in /opt/conda/lib/python3.7/site-packages (from aiohttp->datasets->simpletransformers) (21.4.0)\r\n",
      "Requirement already satisfied: asynctest==0.13.0 in /opt/conda/lib/python3.7/site-packages (from aiohttp->datasets->simpletransformers) (0.13.0)\r\n",
      "Requirement already satisfied: frozenlist>=1.1.1 in /opt/conda/lib/python3.7/site-packages (from aiohttp->datasets->simpletransformers) (1.3.0)\r\n",
      "Requirement already satisfied: async-timeout<5.0,>=4.0.0a3 in /opt/conda/lib/python3.7/site-packages (from aiohttp->datasets->simpletransformers) (4.0.2)\r\n",
      "Requirement already satisfied: yarl<2.0,>=1.0 in /opt/conda/lib/python3.7/site-packages (from aiohttp->datasets->simpletransformers) (1.7.2)\r\n",
      "Requirement already satisfied: multidict<7.0,>=4.5 in /opt/conda/lib/python3.7/site-packages (from aiohttp->datasets->simpletransformers) (6.0.2)\r\n",
      "Requirement already satisfied: smmap<6,>=3.0.1 in /opt/conda/lib/python3.7/site-packages (from gitdb<5,>=4.0.1->GitPython>=1.0.0->wandb>=0.10.32->simpletransformers) (3.0.5)\r\n",
      "Requirement already satisfied: ipython>=7.23.1 in /opt/conda/lib/python3.7/site-packages (from ipykernel>=5.1.2->pydeck>=0.1.dev5->streamlit->simpletransformers) (7.33.0)\r\n",
      "Requirement already satisfied: matplotlib-inline>=0.1 in /opt/conda/lib/python3.7/site-packages (from ipykernel>=5.1.2->pydeck>=0.1.dev5->streamlit->simpletransformers) (0.1.3)\r\n",
      "Requirement already satisfied: pyzmq>=17 in /opt/conda/lib/python3.7/site-packages (from ipykernel>=5.1.2->pydeck>=0.1.dev5->streamlit->simpletransformers) (23.2.0)\r\n",
      "Requirement already satisfied: jupyter-client>=6.1.12 in /opt/conda/lib/python3.7/site-packages (from ipykernel>=5.1.2->pydeck>=0.1.dev5->streamlit->simpletransformers) (7.3.4)\r\n",
      "Requirement already satisfied: nest-asyncio in /opt/conda/lib/python3.7/site-packages (from ipykernel>=5.1.2->pydeck>=0.1.dev5->streamlit->simpletransformers) (1.5.5)\r\n",
      "Requirement already satisfied: debugpy>=1.0 in /opt/conda/lib/python3.7/site-packages (from ipykernel>=5.1.2->pydeck>=0.1.dev5->streamlit->simpletransformers) (1.6.0)\r\n",
      "Requirement already satisfied: widgetsnbextension~=3.6.0 in /opt/conda/lib/python3.7/site-packages (from ipywidgets>=7.0.0->pydeck>=0.1.dev5->streamlit->simpletransformers) (3.6.1)\r\n",
      "Requirement already satisfied: jupyterlab-widgets>=1.0.0 in /opt/conda/lib/python3.7/site-packages (from ipywidgets>=7.0.0->pydeck>=0.1.dev5->streamlit->simpletransformers) (1.1.1)\r\n",
      "Requirement already satisfied: ipython-genutils~=0.2.0 in /opt/conda/lib/python3.7/site-packages (from ipywidgets>=7.0.0->pydeck>=0.1.dev5->streamlit->simpletransformers) (0.2.0)\r\n",
      "Requirement already satisfied: MarkupSafe>=2.0 in /opt/conda/lib/python3.7/site-packages (from jinja2->altair>=3.2.0->streamlit->simpletransformers) (2.0.1)\r\n",
      "Requirement already satisfied: importlib-resources>=1.4.0 in /opt/conda/lib/python3.7/site-packages (from jsonschema>=3.0->altair>=3.2.0->streamlit->simpletransformers) (5.8.0)\r\n",
      "Requirement already satisfied: pyrsistent!=0.17.0,!=0.17.1,!=0.17.2,>=0.14.0 in /opt/conda/lib/python3.7/site-packages (from jsonschema>=3.0->altair>=3.2.0->streamlit->simpletransformers) (0.18.1)\r\n",
      "Requirement already satisfied: pyasn1<0.5.0,>=0.4.6 in /opt/conda/lib/python3.7/site-packages (from pyasn1-modules>=0.2.1->google-auth<2,>=1.6.3->tensorboard->simpletransformers) (0.4.8)\r\n",
      "Requirement already satisfied: oauthlib>=3.0.0 in /opt/conda/lib/python3.7/site-packages (from requests-oauthlib>=0.7.0->google-auth-oauthlib<0.5,>=0.4.1->tensorboard->simpletransformers) (3.2.0)\r\n",
      "Requirement already satisfied: tzdata in /opt/conda/lib/python3.7/site-packages (from pytz-deprecation-shim->tzlocal>=1.1->streamlit->simpletransformers) (2022.1)\r\n",
      "Requirement already satisfied: prompt-toolkit!=3.0.0,!=3.0.1,<3.1.0,>=2.0.0 in /opt/conda/lib/python3.7/site-packages (from ipython>=7.23.1->ipykernel>=5.1.2->pydeck>=0.1.dev5->streamlit->simpletransformers) (3.0.30)\r\n",
      "Requirement already satisfied: jedi>=0.16 in /opt/conda/lib/python3.7/site-packages (from ipython>=7.23.1->ipykernel>=5.1.2->pydeck>=0.1.dev5->streamlit->simpletransformers) (0.18.1)\r\n",
      "Requirement already satisfied: backcall in /opt/conda/lib/python3.7/site-packages (from ipython>=7.23.1->ipykernel>=5.1.2->pydeck>=0.1.dev5->streamlit->simpletransformers) (0.2.0)\r\n",
      "Requirement already satisfied: pickleshare in /opt/conda/lib/python3.7/site-packages (from ipython>=7.23.1->ipykernel>=5.1.2->pydeck>=0.1.dev5->streamlit->simpletransformers) (0.7.5)\r\n",
      "Requirement already satisfied: pexpect>4.3 in /opt/conda/lib/python3.7/site-packages (from ipython>=7.23.1->ipykernel>=5.1.2->pydeck>=0.1.dev5->streamlit->simpletransformers) (4.8.0)\r\n",
      "Requirement already satisfied: jupyter-core>=4.9.2 in /opt/conda/lib/python3.7/site-packages (from jupyter-client>=6.1.12->ipykernel>=5.1.2->pydeck>=0.1.dev5->streamlit->simpletransformers) (4.10.0)\r\n",
      "Requirement already satisfied: notebook>=4.4.1 in /opt/conda/lib/python3.7/site-packages (from widgetsnbextension~=3.6.0->ipywidgets>=7.0.0->pydeck>=0.1.dev5->streamlit->simpletransformers) (6.4.12)\r\n",
      "Requirement already satisfied: parso<0.9.0,>=0.8.0 in /opt/conda/lib/python3.7/site-packages (from jedi>=0.16->ipython>=7.23.1->ipykernel>=5.1.2->pydeck>=0.1.dev5->streamlit->simpletransformers) (0.8.3)\r\n",
      "Requirement already satisfied: argon2-cffi in /opt/conda/lib/python3.7/site-packages (from notebook>=4.4.1->widgetsnbextension~=3.6.0->ipywidgets>=7.0.0->pydeck>=0.1.dev5->streamlit->simpletransformers) (21.3.0)\r\n",
      "Requirement already satisfied: terminado>=0.8.3 in /opt/conda/lib/python3.7/site-packages (from notebook>=4.4.1->widgetsnbextension~=3.6.0->ipywidgets>=7.0.0->pydeck>=0.1.dev5->streamlit->simpletransformers) (0.15.0)\r\n",
      "Requirement already satisfied: nbformat in /opt/conda/lib/python3.7/site-packages (from notebook>=4.4.1->widgetsnbextension~=3.6.0->ipywidgets>=7.0.0->pydeck>=0.1.dev5->streamlit->simpletransformers) (5.4.0)\r\n",
      "Requirement already satisfied: Send2Trash>=1.8.0 in /opt/conda/lib/python3.7/site-packages (from notebook>=4.4.1->widgetsnbextension~=3.6.0->ipywidgets>=7.0.0->pydeck>=0.1.dev5->streamlit->simpletransformers) (1.8.0)\r\n",
      "Requirement already satisfied: prometheus-client in /opt/conda/lib/python3.7/site-packages (from notebook>=4.4.1->widgetsnbextension~=3.6.0->ipywidgets>=7.0.0->pydeck>=0.1.dev5->streamlit->simpletransformers) (0.14.1)\r\n",
      "Requirement already satisfied: nbconvert>=5 in /opt/conda/lib/python3.7/site-packages (from notebook>=4.4.1->widgetsnbextension~=3.6.0->ipywidgets>=7.0.0->pydeck>=0.1.dev5->streamlit->simpletransformers) (6.4.5)\r\n",
      "Requirement already satisfied: ptyprocess>=0.5 in /opt/conda/lib/python3.7/site-packages (from pexpect>4.3->ipython>=7.23.1->ipykernel>=5.1.2->pydeck>=0.1.dev5->streamlit->simpletransformers) (0.7.0)\r\n",
      "Requirement already satisfied: wcwidth in /opt/conda/lib/python3.7/site-packages (from prompt-toolkit!=3.0.0,!=3.0.1,<3.1.0,>=2.0.0->ipython>=7.23.1->ipykernel>=5.1.2->pydeck>=0.1.dev5->streamlit->simpletransformers) (0.2.5)\r\n",
      "Requirement already satisfied: bleach in /opt/conda/lib/python3.7/site-packages (from nbconvert>=5->notebook>=4.4.1->widgetsnbextension~=3.6.0->ipywidgets>=7.0.0->pydeck>=0.1.dev5->streamlit->simpletransformers) (5.0.1)\r\n",
      "Requirement already satisfied: defusedxml in /opt/conda/lib/python3.7/site-packages (from nbconvert>=5->notebook>=4.4.1->widgetsnbextension~=3.6.0->ipywidgets>=7.0.0->pydeck>=0.1.dev5->streamlit->simpletransformers) (0.7.1)\r\n",
      "Requirement already satisfied: pandocfilters>=1.4.1 in /opt/conda/lib/python3.7/site-packages (from nbconvert>=5->notebook>=4.4.1->widgetsnbextension~=3.6.0->ipywidgets>=7.0.0->pydeck>=0.1.dev5->streamlit->simpletransformers) (1.5.0)\r\n",
      "Requirement already satisfied: mistune<2,>=0.8.1 in /opt/conda/lib/python3.7/site-packages (from nbconvert>=5->notebook>=4.4.1->widgetsnbextension~=3.6.0->ipywidgets>=7.0.0->pydeck>=0.1.dev5->streamlit->simpletransformers) (0.8.4)\r\n",
      "Requirement already satisfied: beautifulsoup4 in /opt/conda/lib/python3.7/site-packages (from nbconvert>=5->notebook>=4.4.1->widgetsnbextension~=3.6.0->ipywidgets>=7.0.0->pydeck>=0.1.dev5->streamlit->simpletransformers) (4.11.1)\r\n",
      "Requirement already satisfied: nbclient<0.6.0,>=0.5.0 in /opt/conda/lib/python3.7/site-packages (from nbconvert>=5->notebook>=4.4.1->widgetsnbextension~=3.6.0->ipywidgets>=7.0.0->pydeck>=0.1.dev5->streamlit->simpletransformers) (0.5.13)\r\n",
      "Requirement already satisfied: testpath in /opt/conda/lib/python3.7/site-packages (from nbconvert>=5->notebook>=4.4.1->widgetsnbextension~=3.6.0->ipywidgets>=7.0.0->pydeck>=0.1.dev5->streamlit->simpletransformers) (0.6.0)\r\n",
      "Requirement already satisfied: jupyterlab-pygments in /opt/conda/lib/python3.7/site-packages (from nbconvert>=5->notebook>=4.4.1->widgetsnbextension~=3.6.0->ipywidgets>=7.0.0->pydeck>=0.1.dev5->streamlit->simpletransformers) (0.2.2)\r\n",
      "Requirement already satisfied: fastjsonschema in /opt/conda/lib/python3.7/site-packages (from nbformat->notebook>=4.4.1->widgetsnbextension~=3.6.0->ipywidgets>=7.0.0->pydeck>=0.1.dev5->streamlit->simpletransformers) (2.15.3)\r\n",
      "Requirement already satisfied: argon2-cffi-bindings in /opt/conda/lib/python3.7/site-packages (from argon2-cffi->notebook>=4.4.1->widgetsnbextension~=3.6.0->ipywidgets>=7.0.0->pydeck>=0.1.dev5->streamlit->simpletransformers) (21.2.0)\r\n",
      "Requirement already satisfied: cffi>=1.0.1 in /opt/conda/lib/python3.7/site-packages (from argon2-cffi-bindings->argon2-cffi->notebook>=4.4.1->widgetsnbextension~=3.6.0->ipywidgets>=7.0.0->pydeck>=0.1.dev5->streamlit->simpletransformers) (1.15.0)\r\n",
      "Requirement already satisfied: soupsieve>1.2 in /opt/conda/lib/python3.7/site-packages (from beautifulsoup4->nbconvert>=5->notebook>=4.4.1->widgetsnbextension~=3.6.0->ipywidgets>=7.0.0->pydeck>=0.1.dev5->streamlit->simpletransformers) (2.3.1)\r\n",
      "Requirement already satisfied: webencodings in /opt/conda/lib/python3.7/site-packages (from bleach->nbconvert>=5->notebook>=4.4.1->widgetsnbextension~=3.6.0->ipywidgets>=7.0.0->pydeck>=0.1.dev5->streamlit->simpletransformers) (0.5.1)\r\n",
      "Requirement already satisfied: pycparser in /opt/conda/lib/python3.7/site-packages (from cffi>=1.0.1->argon2-cffi-bindings->argon2-cffi->notebook>=4.4.1->widgetsnbextension~=3.6.0->ipywidgets>=7.0.0->pydeck>=0.1.dev5->streamlit->simpletransformers) (2.21)\r\n",
      "Building wheels for collected packages: seqeval, validators\r\n",
      "  Building wheel for seqeval (setup.py) ... \u001b[?25l-\b \b\\\b \b|\b \bdone\r\n",
      "\u001b[?25h  Created wheel for seqeval: filename=seqeval-1.2.2-py3-none-any.whl size=16180 sha256=1b2faaed6a9070bc763b1f42705e589459d7228f8cd433fe7c6dd18dd53a2450\r\n",
      "  Stored in directory: /root/.cache/pip/wheels/05/96/ee/7cac4e74f3b19e3158dce26a20a1c86b3533c43ec72a549fd7\r\n",
      "  Building wheel for validators (setup.py) ... \u001b[?25l-\b \b\\\b \bdone\r\n",
      "\u001b[?25h  Created wheel for validators: filename=validators-0.20.0-py3-none-any.whl size=19582 sha256=52c6ab813d9f69b7565a3e6bd9406bf6fe0c6ae6e401684bd0e0dcaa0d775378\r\n",
      "  Stored in directory: /root/.cache/pip/wheels/5f/55/ab/36a76989f7f88d9ca7b1f68da6d94252bb6a8d6ad4f18e04e9\r\n",
      "Successfully built seqeval validators\r\n",
      "Installing collected packages: watchdog, validators, seqeval, pydeck, streamlit, simpletransformers\r\n",
      "Successfully installed pydeck-0.7.1 seqeval-1.2.2 simpletransformers-0.63.7 streamlit-1.12.0 validators-0.20.0 watchdog-2.1.9\r\n",
      "\u001b[33mWARNING: Running pip as the 'root' user can result in broken permissions and conflicting behaviour with the system package manager. It is recommended to use a virtual environment instead: https://pip.pypa.io/warnings/venv\u001b[0m\u001b[33m\r\n",
      "\u001b[0m"
     ]
    }
   ],
   "source": [
    "!pip install simpletransformers"
   ]
  },
  {
   "cell_type": "code",
   "execution_count": 41,
   "id": "9924d995",
   "metadata": {
    "execution": {
     "iopub.execute_input": "2022-08-20T07:04:07.208067Z",
     "iopub.status.busy": "2022-08-20T07:04:07.207662Z",
     "iopub.status.idle": "2022-08-20T07:04:38.856955Z",
     "shell.execute_reply": "2022-08-20T07:04:38.855810Z"
    },
    "id": "y3vmUKWSdZA5",
    "outputId": "716631ad-f5c3-465e-c11b-0ad10eecbff3",
    "papermill": {
     "duration": 48.022298,
     "end_time": "2022-08-20T07:04:38.859304",
     "exception": false,
     "start_time": "2022-08-20T07:03:50.837006",
     "status": "completed"
    },
    "tags": []
   },
   "outputs": [
    {
     "name": "stderr",
     "output_type": "stream",
     "text": [
      "Some weights of the model checkpoint at bert-base-uncased were not used when initializing BertForSequenceClassification: ['cls.seq_relationship.bias', 'cls.predictions.bias', 'cls.predictions.decoder.weight', 'cls.predictions.transform.dense.bias', 'cls.seq_relationship.weight', 'cls.predictions.transform.LayerNorm.bias', 'cls.predictions.transform.dense.weight', 'cls.predictions.transform.LayerNorm.weight']\n",
      "- This IS expected if you are initializing BertForSequenceClassification from the checkpoint of a model trained on another task or with another architecture (e.g. initializing a BertForSequenceClassification model from a BertForPreTraining model).\n",
      "- This IS NOT expected if you are initializing BertForSequenceClassification from the checkpoint of a model that you expect to be exactly identical (initializing a BertForSequenceClassification model from a BertForSequenceClassification model).\n",
      "Some weights of BertForSequenceClassification were not initialized from the model checkpoint at bert-base-uncased and are newly initialized: ['classifier.weight', 'classifier.bias']\n",
      "You should probably TRAIN this model on a down-stream task to be able to use it for predictions and inference.\n"
     ]
    },
    {
     "data": {
      "application/vnd.jupyter.widget-view+json": {
       "model_id": "15f8dcdd8fc040cfa272243e9fa17cf7",
       "version_major": 2,
       "version_minor": 0
      },
      "text/plain": [
       "Downloading:   0%|          | 0.00/455k [00:00<?, ?B/s]"
      ]
     },
     "metadata": {},
     "output_type": "display_data"
    },
    {
     "name": "stderr",
     "output_type": "stream",
     "text": [
      "/opt/conda/lib/python3.7/site-packages/simpletransformers/classification/classification_model.py:602: UserWarning: Dataframe headers not specified. Falling back to using column 0 as text and column 1 as labels.\n",
      "  \"Dataframe headers not specified. Falling back to using column 0 as text and column 1 as labels.\"\n"
     ]
    },
    {
     "data": {
      "application/vnd.jupyter.widget-view+json": {
       "model_id": "a9f7fbb29d974a479feb2aff4e82f57f",
       "version_major": 2,
       "version_minor": 0
      },
      "text/plain": [
       "  0%|          | 0/800 [00:00<?, ?it/s]"
      ]
     },
     "metadata": {},
     "output_type": "display_data"
    },
    {
     "name": "stderr",
     "output_type": "stream",
     "text": [
      "/opt/conda/lib/python3.7/site-packages/transformers/optimization.py:310: FutureWarning: This implementation of AdamW is deprecated and will be removed in a future version. Use the PyTorch implementation torch.optim.AdamW instead, or set `no_deprecation_warning=True` to disable this warning\n",
      "  FutureWarning,\n"
     ]
    },
    {
     "data": {
      "application/vnd.jupyter.widget-view+json": {
       "model_id": "02704ffb9e1645229e68e471db2a61cc",
       "version_major": 2,
       "version_minor": 0
      },
      "text/plain": [
       "Epoch:   0%|          | 0/1 [00:00<?, ?it/s]"
      ]
     },
     "metadata": {},
     "output_type": "display_data"
    },
    {
     "data": {
      "application/vnd.jupyter.widget-view+json": {
       "model_id": "2580387e7184421582f5fd3951a0ff77",
       "version_major": 2,
       "version_minor": 0
      },
      "text/plain": [
       "Running Epoch 0 of 1:   0%|          | 0/100 [00:00<?, ?it/s]"
      ]
     },
     "metadata": {},
     "output_type": "display_data"
    },
    {
     "data": {
      "text/plain": [
       "(100, 1.101823272705078)"
      ]
     },
     "execution_count": 41,
     "metadata": {},
     "output_type": "execute_result"
    }
   ],
   "source": [
    "from simpletransformers.classification import ClassificationModel\n",
    "from sklearn.model_selection import KFold\n",
    "from sklearn.metrics import accuracy_score\n",
    "# Defining Model\n",
    "model = ClassificationModel('bert', 'bert-base-uncased',\n",
    "                            use_cuda= torch.cuda.is_available(),\n",
    "                            args={'reprocess_input_data': True,\n",
    "                            'overwrite_output_dir': True},\n",
    "                            num_labels=5,)\n",
    "# train the model\n",
    "model.train_model(df_train)"
   ]
  },
  {
   "cell_type": "code",
   "execution_count": 42,
   "id": "237bb54c",
   "metadata": {
    "execution": {
     "iopub.execute_input": "2022-08-20T07:05:12.280693Z",
     "iopub.status.busy": "2022-08-20T07:05:12.280255Z",
     "iopub.status.idle": "2022-08-20T07:05:18.184267Z",
     "shell.execute_reply": "2022-08-20T07:05:18.181557Z"
    },
    "id": "x7HPf9FNthMK",
    "outputId": "3c4e206f-cd50-42b8-8cd8-4bf0c32e26a9",
    "papermill": {
     "duration": 21.924238,
     "end_time": "2022-08-20T07:05:18.186740",
     "exception": false,
     "start_time": "2022-08-20T07:04:56.262502",
     "status": "completed"
    },
    "tags": []
   },
   "outputs": [
    {
     "name": "stderr",
     "output_type": "stream",
     "text": [
      "/opt/conda/lib/python3.7/site-packages/simpletransformers/classification/classification_model.py:1443: UserWarning: Dataframe headers not specified. Falling back to using column 0 as text and column 1 as labels.\n",
      "  \"Dataframe headers not specified. Falling back to using column 0 as text and column 1 as labels.\"\n"
     ]
    },
    {
     "data": {
      "application/vnd.jupyter.widget-view+json": {
       "model_id": "d5bd8fd105cc426a9f30ae4c38196708",
       "version_major": 2,
       "version_minor": 0
      },
      "text/plain": [
       "  0%|          | 0/800 [00:00<?, ?it/s]"
      ]
     },
     "metadata": {},
     "output_type": "display_data"
    },
    {
     "data": {
      "application/vnd.jupyter.widget-view+json": {
       "model_id": "db32980c0cf4404e9632c8edd8b1713b",
       "version_major": 2,
       "version_minor": 0
      },
      "text/plain": [
       "Running Evaluation:   0%|          | 0/100 [00:00<?, ?it/s]"
      ]
     },
     "metadata": {},
     "output_type": "display_data"
    },
    {
     "name": "stdout",
     "output_type": "stream",
     "text": [
      "Training Accuracy 0.8575\n"
     ]
    },
    {
     "name": "stderr",
     "output_type": "stream",
     "text": [
      "/opt/conda/lib/python3.7/site-packages/simpletransformers/classification/classification_model.py:1443: UserWarning: Dataframe headers not specified. Falling back to using column 0 as text and column 1 as labels.\n",
      "  \"Dataframe headers not specified. Falling back to using column 0 as text and column 1 as labels.\"\n"
     ]
    },
    {
     "data": {
      "application/vnd.jupyter.widget-view+json": {
       "model_id": "6688078685ef47858de693320c6d8207",
       "version_major": 2,
       "version_minor": 0
      },
      "text/plain": [
       "  0%|          | 0/200 [00:00<?, ?it/s]"
      ]
     },
     "metadata": {},
     "output_type": "display_data"
    },
    {
     "data": {
      "application/vnd.jupyter.widget-view+json": {
       "model_id": "b4d16a0c70c4443a80c63848da6fc827",
       "version_major": 2,
       "version_minor": 0
      },
      "text/plain": [
       "Running Evaluation:   0%|          | 0/25 [00:00<?, ?it/s]"
      ]
     },
     "metadata": {},
     "output_type": "display_data"
    },
    {
     "name": "stdout",
     "output_type": "stream",
     "text": [
      "Testing  Accuracy 0.88\n"
     ]
    }
   ],
   "source": [
    "# validate the model\n",
    "result, model_outputs, wrong_predictions = model.eval_model(eval_df=df_train,acc=accuracy_score)\n",
    "print('Training Accuracy',result['acc'])\n",
    "result, model_outputs, wrong_predictions = model.eval_model(eval_df=df_test,acc=accuracy_score)\n",
    "print('Testing  Accuracy',result['acc'])"
   ]
  },
  {
   "cell_type": "code",
   "execution_count": 43,
   "id": "a0ea33a1",
   "metadata": {
    "execution": {
     "iopub.execute_input": "2022-08-20T07:05:50.665101Z",
     "iopub.status.busy": "2022-08-20T07:05:50.664697Z",
     "iopub.status.idle": "2022-08-20T07:05:50.973233Z",
     "shell.execute_reply": "2022-08-20T07:05:50.972191Z"
    },
    "id": "oo6vw1Bg7Onc",
    "outputId": "60743b7e-49f3-4b70-deb1-1e28e769c560",
    "papermill": {
     "duration": 16.269474,
     "end_time": "2022-08-20T07:05:50.976151",
     "exception": false,
     "start_time": "2022-08-20T07:05:34.706677",
     "status": "completed"
    },
    "tags": []
   },
   "outputs": [
    {
     "data": {
      "text/plain": [
       "<AxesSubplot:>"
      ]
     },
     "execution_count": 43,
     "metadata": {},
     "output_type": "execute_result"
    },
    {
     "data": {
      "image/png": "[encoded data removed]",
      "text/plain": [
       "<Figure size 432x288 with 1 Axes>"
      ]
     },
     "metadata": {
      "needs_background": "light"
     },
     "output_type": "display_data"
    }
   ],
   "source": [
    "bert_acc_df=pd.DataFrame({\"Training Accuracy\":[result['acc']],\"Testing Accuracy\":[result['acc']]})\n",
    "bert_acc_df.plot(kind='bar')"
   ]
  },
  {
   "cell_type": "markdown",
   "id": "30e9f42e",
   "metadata": {
    "id": "FCtn9bbPkQl1",
    "papermill": {
     "duration": 16.08325,
     "end_time": "2022-08-20T07:06:23.899684",
     "exception": false,
     "start_time": "2022-08-20T07:06:07.816434",
     "status": "completed"
    },
    "tags": []
   },
   "source": [
    "- **From the results above, the best accuracy comes from the SVC classifier trained on the TF-IDF uni-gram embedding vector and the achieving training accuracy is 100% and testing accuracy is 99.5%.**"
   ]
  },
  {
   "cell_type": "markdown",
   "id": "e25af84e",
   "metadata": {
    "id": "kD9hlVoI2hTO",
    "papermill": {
     "duration": 16.341252,
     "end_time": "2022-08-20T07:06:56.387542",
     "exception": false,
     "start_time": "2022-08-20T07:06:40.046290",
     "status": "completed"
    },
    "tags": []
   },
   "source": [
    "# <a id=\"15\">Validation</a>"
   ]
  },
  {
   "cell_type": "markdown",
   "id": "152ac528",
   "metadata": {
    "id": "T1_ohJc9055g",
    "papermill": {
     "duration": 16.536326,
     "end_time": "2022-08-20T07:07:29.117355",
     "exception": false,
     "start_time": "2022-08-20T07:07:12.581029",
     "status": "completed"
    },
    "tags": []
   },
   "source": [
    "Applied the 10-fold cross-validation to estimate the skills of our machine learning models on different combinations of validation and training datasets."
   ]
  },
  {
   "cell_type": "code",
   "execution_count": 44,
   "id": "5bcc5cdb",
   "metadata": {
    "execution": {
     "iopub.execute_input": "2022-08-20T07:08:01.318578Z",
     "iopub.status.busy": "2022-08-20T07:08:01.318163Z",
     "iopub.status.idle": "2022-08-20T07:08:01.340221Z",
     "shell.execute_reply": "2022-08-20T07:08:01.339346Z"
    },
    "id": "WVkGNgAFthMK",
    "papermill": {
     "duration": 15.994763,
     "end_time": "2022-08-20T07:08:01.342702",
     "exception": false,
     "start_time": "2022-08-20T07:07:45.347939",
     "status": "completed"
    },
    "tags": []
   },
   "outputs": [],
   "source": [
    "import matplotlib.pyplot as plt\n",
    "from sklearn.model_selection import KFold\n",
    "\n",
    "%matplotlib inline\n",
    "rng = np.random.RandomState(1338)\n",
    "cmap_data = plt.cm.Paired\n",
    "cmap_cv = plt.cm.coolwarm\n",
    "\n",
    "\n",
    "def plot_cv_indices(kfold_object,model_name,X, y, ax, n_splits, lw=10):\n",
    "    \"\"\"Create a sample plot for indices of a cross-validation object.\"\"\"\n",
    "    # Generate the training/testing visualizations for each CV split\n",
    "    for ii, (tr, tt) in enumerate(kfold_object.split(X=X, y=y,groups=None)):\n",
    "        # Fill in indices with the training/test groups\n",
    "        indices = np.array([np.nan] * len(np.array(X)))\n",
    "        indices[tt] = 1\n",
    "        indices[tr] = 0\n",
    "\n",
    "        # Visualize the results\n",
    "        ax.scatter(range(len(indices)),\n",
    "            [ii + 0.5] * len(indices),c=indices,marker=\"_\",\n",
    "            lw=lw,cmap=cmap_cv,vmin=-0.2,vmax=1.2,)\n",
    "\n",
    "        # Plot the data classes and groups at the end\n",
    "        ax.scatter(range(len(np.array(X))), [ii + 1.5] * len(np.array(X)), c=np.array(y), marker=\"_\", lw=lw, cmap=cmap_data)\n",
    "\n",
    "    # Formatting\n",
    "    yticklabels = list(range(n_splits+2)) + [\"class\"]\n",
    "    ax.set(\n",
    "        xlabel=\"Sample index\",\n",
    "        ylabel=\"CV iteration\",\n",
    "    )\n",
    "    ax.set_title(f\" KFold with {model_name} Model\", fontsize=15)\n",
    "    return ax"
   ]
  },
  {
   "cell_type": "code",
   "execution_count": 45,
   "id": "363e855b",
   "metadata": {
    "execution": {
     "iopub.execute_input": "2022-08-20T07:08:36.342162Z",
     "iopub.status.busy": "2022-08-20T07:08:36.341618Z",
     "iopub.status.idle": "2022-08-20T07:08:36.877821Z",
     "shell.execute_reply": "2022-08-20T07:08:36.876787Z"
    },
    "id": "Pb9CBId4thMK",
    "outputId": "f6157cc4-1389-4197-f37d-3afd7dd88c9b",
    "papermill": {
     "duration": 17.22572,
     "end_time": "2022-08-20T07:08:36.879967",
     "exception": false,
     "start_time": "2022-08-20T07:08:19.654247",
     "status": "completed"
    },
    "tags": []
   },
   "outputs": [
    {
     "data": {
      "image/png": "[encoded data removed]",
      "text/plain": [
       "<Figure size 1080x576 with 1 Axes>"
      ]
     },
     "metadata": {
      "needs_background": "light"
     },
     "output_type": "display_data"
    }
   ],
   "source": [
    "from matplotlib.patches import Patch\n",
    "\n",
    "fig, ax = plt.subplots(figsize=(15,8));\n",
    "plot_cv_indices(KFold(10),model_name= 'SVC', X= X_train, y= y_train,ax=ax, n_splits=10, lw=10);\n",
    "ax.legend(\n",
    "    [Patch(color=cmap_cv(0.8)), Patch(color=cmap_cv(0.02))],\n",
    "    [\"Validation set\", \"Training set\"],\n",
    "    loc=(1.02, 0.8),\n",
    ");\n",
    "# Make the legend fit\n",
    "plt.tight_layout();\n",
    "fig.subplots_adjust(right=0.7);\n",
    "plt.show();"
   ]
  },
  {
   "cell_type": "markdown",
   "id": "ce4d4160",
   "metadata": {
    "id": "lN5JMyb5thMK",
    "papermill": {
     "duration": 16.295273,
     "end_time": "2022-08-20T07:09:09.995321",
     "exception": false,
     "start_time": "2022-08-20T07:08:53.700048",
     "status": "completed"
    },
    "tags": []
   },
   "source": [
    "## Cross validation on the champion model"
   ]
  },
  {
   "cell_type": "markdown",
   "id": "b720a10c",
   "metadata": {
    "id": "Vr3lzFWlthMK",
    "papermill": {
     "duration": 16.751945,
     "end_time": "2022-08-20T07:09:42.569452",
     "exception": false,
     "start_time": "2022-08-20T07:09:25.817507",
     "status": "completed"
    },
    "tags": []
   },
   "source": [
    "<h3> Champion model is support vector classifier (SVC) with Tf_idf transformation using uni gram<br>\n",
    "which achivied Training accuracy 1.0 and Testing accuracy 0.965"
   ]
  },
  {
   "cell_type": "code",
   "execution_count": 46,
   "id": "6119538b",
   "metadata": {
    "execution": {
     "iopub.execute_input": "2022-08-20T07:10:14.736585Z",
     "iopub.status.busy": "2022-08-20T07:10:14.736010Z",
     "iopub.status.idle": "2022-08-20T07:10:55.352430Z",
     "shell.execute_reply": "2022-08-20T07:10:55.351324Z"
    },
    "id": "6J6LmWRHthML",
    "outputId": "c371f765-d9a5-453b-b025-404ae567c658",
    "papermill": {
     "duration": 57.050446,
     "end_time": "2022-08-20T07:10:55.355427",
     "exception": false,
     "start_time": "2022-08-20T07:09:58.304981",
     "status": "completed"
    },
    "tags": []
   },
   "outputs": [
    {
     "name": "stdout",
     "output_type": "stream",
     "text": [
      "Model testing accuracy is 0.99\n"
     ]
    }
   ],
   "source": [
    "output_cv=cross_validate(SVC(),X_trained1g_cv.toarray(),y_train,cv=10,return_estimator=True)\n",
    "model_cv=output_cv['estimator'][output_cv['test_score'].argmax()]\n",
    "print(f'Model testing accuracy is {model_cv.score(X_test1g_cv.toarray(),y_test)}')\n",
    "y_pred=model_cv.predict(X_test1g_cv.toarray())"
   ]
  },
  {
   "cell_type": "code",
   "execution_count": 47,
   "id": "0f6ed391",
   "metadata": {
    "execution": {
     "iopub.execute_input": "2022-08-20T07:11:28.008798Z",
     "iopub.status.busy": "2022-08-20T07:11:28.008404Z",
     "iopub.status.idle": "2022-08-20T07:11:28.300845Z",
     "shell.execute_reply": "2022-08-20T07:11:28.299817Z"
    },
    "id": "y0Kbdb8DthML",
    "outputId": "49e370c7-d289-4575-d268-2db9565bad0f",
    "papermill": {
     "duration": 16.278261,
     "end_time": "2022-08-20T07:11:28.303253",
     "exception": false,
     "start_time": "2022-08-20T07:11:12.024992",
     "status": "completed"
    },
    "tags": []
   },
   "outputs": [
    {
     "data": {
      "image/png": "[encoded data removed]",
      "text/plain": [
       "<Figure size 432x288 with 2 Axes>"
      ]
     },
     "metadata": {
      "needs_background": "light"
     },
     "output_type": "display_data"
    }
   ],
   "source": [
    "from sklearn.metrics import ConfusionMatrixDisplay ,confusion_matrix,plot_confusion_matrix\n",
    "ConfusionMatrixDisplay.from_predictions(y_test,y_pred,cmap='YlOrBr',)\n",
    "plt.grid(False)"
   ]
  },
  {
   "cell_type": "markdown",
   "id": "2c23109d",
   "metadata": {
    "id": "qebOS3aVthML",
    "papermill": {
     "duration": 15.843593,
     "end_time": "2022-08-20T07:12:00.715692",
     "exception": false,
     "start_time": "2022-08-20T07:11:44.872099",
     "status": "completed"
    },
    "tags": []
   },
   "source": [
    "# <a id=\"16\">Error analysis</a>"
   ]
  },
  {
   "cell_type": "markdown",
   "id": "d0d4341b",
   "metadata": {
    "id": "br6d5CahthML",
    "papermill": {
     "duration": 15.963118,
     "end_time": "2022-08-20T07:12:33.380723",
     "exception": false,
     "start_time": "2022-08-20T07:12:17.417605",
     "status": "completed"
    },
    "tags": []
   },
   "source": [
    "**Filter the wrong classified samples**"
   ]
  },
  {
   "cell_type": "code",
   "execution_count": 48,
   "id": "59f4e8f3",
   "metadata": {
    "execution": {
     "iopub.execute_input": "2022-08-20T07:13:06.118730Z",
     "iopub.status.busy": "2022-08-20T07:13:06.118349Z",
     "iopub.status.idle": "2022-08-20T07:13:06.129742Z",
     "shell.execute_reply": "2022-08-20T07:13:06.128829Z"
    },
    "id": "mYxvyF_UthML",
    "outputId": "05a82477-b7bb-4b29-abcb-1760009d3a4f",
    "papermill": {
     "duration": 16.099691,
     "end_time": "2022-08-20T07:13:06.131677",
     "exception": false,
     "start_time": "2022-08-20T07:12:50.031986",
     "status": "completed"
    },
    "tags": []
   },
   "outputs": [
    {
     "data": {
      "text/plain": [
       "810    lie green pasture leadeth beside still water r...\n",
       "857    woman afterward maybe like hear poem write fou...\n",
       "Name: Sample of the book, dtype: object"
      ]
     },
     "execution_count": 48,
     "metadata": {},
     "output_type": "execute_result"
    }
   ],
   "source": [
    "wrongs= y_pred !=y_test\n",
    "X_test[wrongs]"
   ]
  },
  {
   "cell_type": "code",
   "execution_count": 49,
   "id": "c779984c",
   "metadata": {
    "execution": {
     "iopub.execute_input": "2022-08-20T07:13:38.491307Z",
     "iopub.status.busy": "2022-08-20T07:13:38.490934Z",
     "iopub.status.idle": "2022-08-20T07:13:38.498205Z",
     "shell.execute_reply": "2022-08-20T07:13:38.497279Z"
    },
    "id": "FTgmr2dQthML",
    "outputId": "8483108c-52a7-446e-f9cc-1d6172e6c5ae",
    "papermill": {
     "duration": 15.798683,
     "end_time": "2022-08-20T07:13:38.500121",
     "exception": false,
     "start_time": "2022-08-20T07:13:22.701438",
     "status": "completed"
    },
    "tags": []
   },
   "outputs": [
    {
     "data": {
      "text/plain": [
       "['bryant-stories.txt', 'bryant-stories.txt']"
      ]
     },
     "execution_count": 49,
     "metadata": {},
     "output_type": "execute_result"
    }
   ],
   "source": [
    "corrects_predictions =y_test[wrongs]\n",
    "corrects_names=label_encoder.inverse_transform(corrects_predictions.to_list())\n",
    "corrects_names.tolist()"
   ]
  },
  {
   "cell_type": "code",
   "execution_count": 50,
   "id": "dae3dc03",
   "metadata": {
    "execution": {
     "iopub.execute_input": "2022-08-20T07:14:11.292463Z",
     "iopub.status.busy": "2022-08-20T07:14:11.292091Z",
     "iopub.status.idle": "2022-08-20T07:14:11.300214Z",
     "shell.execute_reply": "2022-08-20T07:14:11.299100Z"
    },
    "id": "drKep1iathMM",
    "outputId": "7aacc690-2365-4b56-80e4-5b71fdbf0267",
    "papermill": {
     "duration": 16.306219,
     "end_time": "2022-08-20T07:14:11.302322",
     "exception": false,
     "start_time": "2022-08-20T07:13:54.996103",
     "status": "completed"
    },
    "tags": []
   },
   "outputs": [
    {
     "data": {
      "text/plain": [
       "array(['melville-moby_dick.txt', 'melville-moby_dick.txt'], dtype=object)"
      ]
     },
     "execution_count": 50,
     "metadata": {},
     "output_type": "execute_result"
    }
   ],
   "source": [
    "predictions=y_pred[wrongs]\n",
    "prediction_names=label_encoder.inverse_transform(predictions)\n",
    "prediction_names"
   ]
  },
  {
   "cell_type": "markdown",
   "id": "83ffa058",
   "metadata": {
    "id": "KurXqYVrLjEx",
    "papermill": {
     "duration": 16.616413,
     "end_time": "2022-08-20T07:14:43.980058",
     "exception": false,
     "start_time": "2022-08-20T07:14:27.363645",
     "status": "completed"
    },
    "tags": []
   },
   "source": [
    "### <a id=\"17\">Reduce the number of training words</a>"
   ]
  },
  {
   "cell_type": "markdown",
   "id": "92a978ba",
   "metadata": {
    "id": "eGQOPEjmLupW",
    "papermill": {
     "duration": 16.833537,
     "end_time": "2022-08-20T07:15:16.739222",
     "exception": false,
     "start_time": "2022-08-20T07:14:59.905685",
     "status": "completed"
    },
    "tags": []
   },
   "source": [
    "Reduced the number of words in each sentence to test if the accuracy of the champion model will decrease, increase, or will still be the same."
   ]
  },
  {
   "cell_type": "code",
   "execution_count": 51,
   "id": "52765d21",
   "metadata": {
    "execution": {
     "iopub.execute_input": "2022-08-20T07:15:49.023333Z",
     "iopub.status.busy": "2022-08-20T07:15:49.022937Z",
     "iopub.status.idle": "2022-08-20T07:15:49.029416Z",
     "shell.execute_reply": "2022-08-20T07:15:49.028329Z"
    },
    "id": "gefsjLJJthMN",
    "papermill": {
     "duration": 16.133729,
     "end_time": "2022-08-20T07:15:49.031526",
     "exception": false,
     "start_time": "2022-08-20T07:15:32.897797",
     "status": "completed"
    },
    "tags": []
   },
   "outputs": [],
   "source": [
    "def try_different_num_of_word (n=100):\n",
    "    df_train_50_word=df_train['Sample of the book'].apply(lambda x : x[0:n])\n",
    "    df_test_50_word=df_test['Sample of the book'].apply(lambda x : x[0:n])\n",
    "    X_trained1g_50,X_test1g_50 = tfidf_ngram(1,X_train=df_train_50_word,X_test=X_test)\n",
    "    champion_model.fit(X_trained1g_50.toarray(),y_train)\n",
    "    test_acc=champion_model.score(X_test1g_50.toarray(),y_test)\n",
    "    return test_acc"
   ]
  },
  {
   "cell_type": "code",
   "execution_count": 52,
   "id": "531b80bb",
   "metadata": {
    "execution": {
     "iopub.execute_input": "2022-08-20T07:16:21.589376Z",
     "iopub.status.busy": "2022-08-20T07:16:21.588968Z",
     "iopub.status.idle": "2022-08-20T07:16:28.437290Z",
     "shell.execute_reply": "2022-08-20T07:16:28.436110Z"
    },
    "id": "ISe_2EVQthMN",
    "outputId": "07ef9f05-fe02-42d3-abeb-b146530ac18e",
    "papermill": {
     "duration": 23.092639,
     "end_time": "2022-08-20T07:16:28.439904",
     "exception": false,
     "start_time": "2022-08-20T07:16:05.347265",
     "status": "completed"
    },
    "tags": []
   },
   "outputs": [
    {
     "name": "stdout",
     "output_type": "stream",
     "text": [
      "Number of samples 70 , Testing Accuracy 0.935\n",
      "Number of samples 50 , Testing Accuracy 0.895\n",
      "Number of samples 40 , Testing Accuracy 0.9\n",
      "Number of samples 30 , Testing Accuracy 0.85\n",
      "Number of samples 20 , Testing Accuracy 0.79\n"
     ]
    }
   ],
   "source": [
    "for i in [70,50,40,30,20] :\n",
    "    print(f'Number of samples {i} , Testing Accuracy {try_different_num_of_word (n=i)}')"
   ]
  },
  {
   "cell_type": "markdown",
   "id": "9d538006",
   "metadata": {
    "id": "J9Dvha5FthMO",
    "papermill": {
     "duration": 15.995371,
     "end_time": "2022-08-20T07:17:01.038271",
     "exception": false,
     "start_time": "2022-08-20T07:16:45.042900",
     "status": "completed"
    },
    "tags": []
   },
   "source": [
    "> - We noticed that the accuracy decreased by decreasing the number of words in each partition and this makes sense because the model can’t classify which class when the number of words(features) is small."
   ]
  },
  {
   "cell_type": "markdown",
   "id": "bdcb4b62",
   "metadata": {
    "id": "nfO4zwrmthMM",
    "papermill": {
     "duration": 15.688212,
     "end_time": "2022-08-20T07:17:33.587742",
     "exception": false,
     "start_time": "2022-08-20T07:17:17.899530",
     "status": "completed"
    },
    "tags": []
   },
   "source": [
    "### <a id=\"18\">Word Counts</a> \n",
    "So, we will explore the frequency of the words examples in the wrong and correct books"
   ]
  },
  {
   "cell_type": "code",
   "execution_count": 53,
   "id": "6d65d69f",
   "metadata": {
    "execution": {
     "iopub.execute_input": "2022-08-20T07:18:06.323083Z",
     "iopub.status.busy": "2022-08-20T07:18:06.322681Z",
     "iopub.status.idle": "2022-08-20T07:18:06.490990Z",
     "shell.execute_reply": "2022-08-20T07:18:06.490057Z"
    },
    "id": "TFQeC0oethMN",
    "outputId": "13c6935e-8320-4e0c-bc47-214113cb055e",
    "papermill": {
     "duration": 16.581228,
     "end_time": "2022-08-20T07:18:06.492868",
     "exception": false,
     "start_time": "2022-08-20T07:17:49.911640",
     "status": "completed"
    },
    "tags": []
   },
   "outputs": [
    {
     "data": {
      "text/html": [
       "<div>\n",
       "<style scoped>\n",
       "    .dataframe tbody tr th:only-of-type {\n",
       "        vertical-align: middle;\n",
       "    }\n",
       "\n",
       "    .dataframe tbody tr th {\n",
       "        vertical-align: top;\n",
       "    }\n",
       "\n",
       "    .dataframe thead th {\n",
       "        text-align: right;\n",
       "    }\n",
       "</style>\n",
       "<table border=\"1\" class=\"dataframe\">\n",
       "  <thead>\n",
       "    <tr style=\"text-align: right;\">\n",
       "      <th></th>\n",
       "      <th>Example</th>\n",
       "      <th>Wrong</th>\n",
       "      <th>Correct</th>\n",
       "      <th>Wrong is greater than</th>\n",
       "    </tr>\n",
       "  </thead>\n",
       "  <tbody>\n",
       "    <tr>\n",
       "      <th>lie</th>\n",
       "      <td>1</td>\n",
       "      <td>67</td>\n",
       "      <td>49</td>\n",
       "      <td>1</td>\n",
       "    </tr>\n",
       "    <tr>\n",
       "      <th>green</th>\n",
       "      <td>1</td>\n",
       "      <td>54</td>\n",
       "      <td>44</td>\n",
       "      <td>1</td>\n",
       "    </tr>\n",
       "    <tr>\n",
       "      <th>pasture</th>\n",
       "      <td>1</td>\n",
       "      <td>7</td>\n",
       "      <td>1</td>\n",
       "      <td>1</td>\n",
       "    </tr>\n",
       "    <tr>\n",
       "      <th>leadeth</th>\n",
       "      <td>2</td>\n",
       "      <td>0</td>\n",
       "      <td>0</td>\n",
       "      <td>0</td>\n",
       "    </tr>\n",
       "    <tr>\n",
       "      <th>beside</th>\n",
       "      <td>1</td>\n",
       "      <td>6</td>\n",
       "      <td>28</td>\n",
       "      <td>0</td>\n",
       "    </tr>\n",
       "    <tr>\n",
       "      <th>...</th>\n",
       "      <td>...</td>\n",
       "      <td>...</td>\n",
       "      <td>...</td>\n",
       "      <td>...</td>\n",
       "    </tr>\n",
       "    <tr>\n",
       "      <th>perfect</th>\n",
       "      <td>1</td>\n",
       "      <td>4</td>\n",
       "      <td>5</td>\n",
       "      <td>0</td>\n",
       "    </tr>\n",
       "    <tr>\n",
       "      <th>one</th>\n",
       "      <td>2</td>\n",
       "      <td>940</td>\n",
       "      <td>515</td>\n",
       "      <td>1</td>\n",
       "    </tr>\n",
       "    <tr>\n",
       "      <th>stone</th>\n",
       "      <td>1</td>\n",
       "      <td>22</td>\n",
       "      <td>31</td>\n",
       "      <td>0</td>\n",
       "    </tr>\n",
       "    <tr>\n",
       "      <th>god</th>\n",
       "      <td>2</td>\n",
       "      <td>180</td>\n",
       "      <td>20</td>\n",
       "      <td>1</td>\n",
       "    </tr>\n",
       "    <tr>\n",
       "      <th>great</th>\n",
       "      <td>1</td>\n",
       "      <td>331</td>\n",
       "      <td>261</td>\n",
       "      <td>1</td>\n",
       "    </tr>\n",
       "  </tbody>\n",
       "</table>\n",
       "<p>100 rows × 4 columns</p>\n",
       "</div>"
      ],
      "text/plain": [
       "         Example  Wrong  Correct  Wrong is greater than\n",
       "lie            1     67       49                      1\n",
       "green          1     54       44                      1\n",
       "pasture        1      7        1                      1\n",
       "leadeth        2      0        0                      0\n",
       "beside         1      6       28                      0\n",
       "...          ...    ...      ...                    ...\n",
       "perfect        1      4        5                      0\n",
       "one            2    940      515                      1\n",
       "stone          1     22       31                      0\n",
       "god            2    180       20                      1\n",
       "great          1    331      261                      1\n",
       "\n",
       "[100 rows x 4 columns]"
      ]
     },
     "execution_count": 53,
     "metadata": {},
     "output_type": "execute_result"
    }
   ],
   "source": [
    "from sklearn.feature_extraction.text import CountVectorizer\n",
    "from nltk.tokenize import word_tokenize\n",
    "from collections import Counter\n",
    "example_freq=Counter(word_tokenize(X_test[wrongs].iloc[0]))\n",
    "wrong_book_freq=Counter(cleaned_books_contents[0])\n",
    "correct_book_freq=Counter(cleaned_books_contents[2])\n",
    "word_freq=pd.DataFrame()\n",
    "word_freq.index=word_tokenize(X_test[wrongs].iloc[0])\n",
    "word_freq['Example']=0\n",
    "word_freq['Wrong']=0\n",
    "word_freq['Correct']=0\n",
    "word_freq['Wrong is greater than']=0\n",
    "for word in word_tokenize(X_test[wrongs].iloc[0]) :\n",
    "    word_freq.loc[word,'Example']=example_freq[word]\n",
    "    word_freq.loc[word,'Wrong']=wrong_book_freq[word]\n",
    "    word_freq.loc[word,'Correct']=correct_book_freq[word]\n",
    "    if wrong_book_freq[word]>correct_book_freq[word] :\n",
    "        word_freq.loc[word,'Wrong is greater than']=1\n",
    "word_freq"
   ]
  },
  {
   "cell_type": "code",
   "execution_count": 54,
   "id": "dbb4784b",
   "metadata": {
    "execution": {
     "iopub.execute_input": "2022-08-20T07:18:38.575431Z",
     "iopub.status.busy": "2022-08-20T07:18:38.575070Z",
     "iopub.status.idle": "2022-08-20T07:18:38.583966Z",
     "shell.execute_reply": "2022-08-20T07:18:38.582943Z"
    },
    "id": "0-DB0YqdthMN",
    "outputId": "4ef7c7f5-63f5-45b5-a931-d074bc833891",
    "papermill": {
     "duration": 16.013063,
     "end_time": "2022-08-20T07:18:38.586186",
     "exception": false,
     "start_time": "2022-08-20T07:18:22.573123",
     "status": "completed"
    },
    "tags": []
   },
   "outputs": [
    {
     "data": {
      "text/plain": [
       "1    50\n",
       "0    50\n",
       "Name: Wrong is greater than, dtype: int64"
      ]
     },
     "execution_count": 54,
     "metadata": {},
     "output_type": "execute_result"
    }
   ],
   "source": [
    "word_freq['Wrong is greater than'].value_counts()"
   ]
  },
  {
   "cell_type": "markdown",
   "id": "c9eca2aa",
   "metadata": {
    "id": "XnkXFsuhthMN",
    "papermill": {
     "duration": 15.682573,
     "end_time": "2022-08-20T07:19:11.110266",
     "exception": false,
     "start_time": "2022-08-20T07:18:55.427693",
     "status": "completed"
    },
    "tags": []
   },
   "source": [
    "- At first, we explored the weights of word examples in correct and wrong book classification to make sure that everything is working fine."
   ]
  },
  {
   "cell_type": "markdown",
   "id": "ad4d3ccd",
   "metadata": {
    "id": "ehJQqp9jiDwJ",
    "papermill": {
     "duration": 16.057723,
     "end_time": "2022-08-20T07:19:44.137420",
     "exception": false,
     "start_time": "2022-08-20T07:19:28.079697",
     "status": "completed"
    },
    "tags": []
   },
   "source": [
    "# <a id=\"19\">Grid Search</a> On the champion model"
   ]
  },
  {
   "cell_type": "code",
   "execution_count": 55,
   "id": "e2ec2f51",
   "metadata": {
    "execution": {
     "iopub.execute_input": "2022-08-20T07:20:16.638251Z",
     "iopub.status.busy": "2022-08-20T07:20:16.637861Z",
     "iopub.status.idle": "2022-08-20T07:21:27.747363Z",
     "shell.execute_reply": "2022-08-20T07:21:27.746313Z"
    },
    "id": "dsEcZPZHthMO",
    "outputId": "864546ba-29d9-4e03-eb46-2429f5ce20de",
    "papermill": {
     "duration": 87.160323,
     "end_time": "2022-08-20T07:21:27.749444",
     "exception": false,
     "start_time": "2022-08-20T07:20:00.589121",
     "status": "completed"
    },
    "tags": []
   },
   "outputs": [
    {
     "name": "stdout",
     "output_type": "stream",
     "text": [
      "Training Accuracy = 1.0\n",
      "Testing  Accuracy = 0.995\n"
     ]
    },
    {
     "data": {
      "text/plain": [
       "{'C': 10, 'kernel': 'linear'}"
      ]
     },
     "execution_count": 55,
     "metadata": {},
     "output_type": "execute_result"
    }
   ],
   "source": [
    "from sklearn.model_selection import GridSearchCV\n",
    "param={\n",
    "    'kernel' :['rbf','linear'],\n",
    "    'C':[1,10],\n",
    "}\n",
    "clf=GridSearchCV (model_cv,param_grid=param)\n",
    "clf.fit(X_trained1g_cv.toarray(),y_train)\n",
    "print(f'Training Accuracy = {clf.score(X_trained1g_cv.toarray(),y_train)}')\n",
    "print(f'Testing  Accuracy = {clf.score(X_test1g_cv.toarray(),y_test)}')\n",
    "clf.best_params_"
   ]
  },
  {
   "cell_type": "markdown",
   "id": "d23e0a20",
   "metadata": {
    "id": "igObGWGJhzy_",
    "papermill": {
     "duration": 16.0772,
     "end_time": "2022-08-20T07:21:59.802537",
     "exception": false,
     "start_time": "2022-08-20T07:21:43.725337",
     "status": "completed"
    },
    "tags": []
   },
   "source": [
    "- We found that the best hyperparameter is a linear kernel with a regularization coefficient equal to 1."
   ]
  },
  {
   "cell_type": "markdown",
   "id": "6664a1f2",
   "metadata": {
    "id": "EDaEeEuq0coE",
    "papermill": {
     "duration": 16.16643,
     "end_time": "2022-08-20T07:22:32.492747",
     "exception": false,
     "start_time": "2022-08-20T07:22:16.326317",
     "status": "completed"
    },
    "tags": []
   },
   "source": [
    "# <a id=\"20\">Conclusion:</a>\n",
    "To wrap up, we made 32 model on different transformation methods and it was obvious that SVM perform better than other models, this is because the data is slightly few, and SVM performs better when data is small. When comparing transformation methods, it clear that TF-IDF uni-gram is trained better in most of the models, because as the length of n-grams increase, the frequency of finding this n-grams again decreases."
   ]
  }
 ],
 "metadata": {
  "kernelspec": {
   "display_name": "Python 3 (ipykernel)",
   "language": "python",
   "name": "python3"
  },
  "language_info": {
   "codemirror_mode": {
    "name": "ipython",
    "version": 3
   },
   "file_extension": ".py",
   "mimetype": "text/x-python",
   "name": "python",
   "nbconvert_exporter": "python",
   "pygments_lexer": "ipython3",
   "version": "3.9.13"
  },
  "papermill": {
   "default_parameters": {},
   "duration": 3034.047651,
   "end_time": "2022-08-20T07:22:52.303101",
   "environment_variables": {},
   "exception": null,
   "input_path": "__notebook__.ipynb",
   "output_path": "__notebook__.ipynb",
   "parameters": {},
   "start_time": "2022-08-20T06:32:18.255450",
   "version": "2.3.4"
  },
  "widgets": {
   "application/vnd.jupyter.widget-state+json": {
    "state": {
     "024a56683a194c0e9c0ada3574ec83e7": {
      "model_module": "@jupyter-widgets/base",
      "model_module_version": "1.2.0",
      "model_name": "LayoutModel",
      "state": {
       "_model_module": "@jupyter-widgets/base",
       "_model_module_version": "1.2.0",
       "_model_name": "LayoutModel",
       "_view_count": null,
       "_view_module": "@jupyter-widgets/base",
       "_view_module_version": "1.2.0",
       "_view_name": "LayoutView",
       "align_content": null,
       "align_items": null,
       "align_self": null,
       "border": null,
       "bottom": null,
       "display": null,
       "flex": null,
       "flex_flow": null,
       "grid_area": null,
       "grid_auto_columns": null,
       "grid_auto_flow": null,
       "grid_auto_rows": null,
       "grid_column": null,
       "grid_gap": null,
       "grid_row": null,
       "grid_template_areas": null,
       "grid_template_columns": null,
       "grid_template_rows": null,
       "height": null,
       "justify_content": null,
       "justify_items": null,
       "left": null,
       "margin": null,
       "max_height": null,
       "max_width": null,
       "min_height": null,
       "min_width": null,
       "object_fit": null,
       "object_position": null,
       "order": null,
       "overflow": null,
       "overflow_x": null,
       "overflow_y": null,
       "padding": null,
       "right": null,
       "top": null,
       "visibility": null,
       "width": null
      }
     },
     "02704ffb9e1645229e68e471db2a61cc": {
      "model_module": "@jupyter-widgets/controls",
      "model_module_version": "1.5.0",
      "model_name": "HBoxModel",
      "state": {
       "_dom_classes": [],
       "_model_module": "@jupyter-widgets/controls",
       "_model_module_version": "1.5.0",
       "_model_name": "HBoxModel",
       "_view_count": null,
       "_view_module": "@jupyter-widgets/controls",
       "_view_module_version": "1.5.0",
       "_view_name": "HBoxView",
       "box_style": "",
       "children": [
        "IPY_MODEL_935351dedf5e4ed8abcc79b8baad3bd4",
        "IPY_MODEL_be3c9954e8274509b2dc043d05cfd2a1",
        "IPY_MODEL_d9132d24212e484baf31d75df32d0a73"
       ],
       "layout": "IPY_MODEL_f7f4cd410049483eaba3b95bd76ff50c"
      }
     },
     "041c53921e1843aba0d057bf547ed04a": {
      "model_module": "@jupyter-widgets/controls",
      "model_module_version": "1.5.0",
      "model_name": "HTMLModel",
      "state": {
       "_dom_classes": [],
       "_model_module": "@jupyter-widgets/controls",
       "_model_module_version": "1.5.0",
       "_model_name": "HTMLModel",
       "_view_count": null,
       "_view_module": "@jupyter-widgets/controls",
       "_view_module_version": "1.5.0",
       "_view_name": "HTMLView",
       "description": "",
       "description_tooltip": null,
       "layout": "IPY_MODEL_2e680ede59204b908d61233fcdf9d7dc",
       "placeholder": "​",
       "style": "IPY_MODEL_b979fd909b604dada589a771374b4550",
       "value": "Running Evaluation: 100%"
      }
     },
     "0448a776a48e4b76b24c1b4d58b78bef": {
      "model_module": "@jupyter-widgets/base",
      "model_module_version": "1.2.0",
      "model_name": "LayoutModel",
      "state": {
       "_model_module": "@jupyter-widgets/base",
       "_model_module_version": "1.2.0",
       "_model_name": "LayoutModel",
       "_view_count": null,
       "_view_module": "@jupyter-widgets/base",
       "_view_module_version": "1.2.0",
       "_view_name": "LayoutView",
       "align_content": null,
       "align_items": null,
       "align_self": null,
       "border": null,
       "bottom": null,
       "display": null,
       "flex": null,
       "flex_flow": null,
       "grid_area": null,
       "grid_auto_columns": null,
       "grid_auto_flow": null,
       "grid_auto_rows": null,
       "grid_column": null,
       "grid_gap": null,
       "grid_row": null,
       "grid_template_areas": null,
       "grid_template_columns": null,
       "grid_template_rows": null,
       "height": null,
       "justify_content": null,
       "justify_items": null,
       "left": null,
       "margin": null,
       "max_height": null,
       "max_width": null,
       "min_height": null,
       "min_width": null,
       "object_fit": null,
       "object_position": null,
       "order": null,
       "overflow": null,
       "overflow_x": null,
       "overflow_y": null,
       "padding": null,
       "right": null,
       "top": null,
       "visibility": null,
       "width": null
      }
     },
     "062dbf4090f445c1a2ca55f0a0a2e0fe": {
      "model_module": "@jupyter-widgets/base",
      "model_module_version": "1.2.0",
      "model_name": "LayoutModel",
      "state": {
       "_model_module": "@jupyter-widgets/base",
       "_model_module_version": "1.2.0",
       "_model_name": "LayoutModel",
       "_view_count": null,
       "_view_module": "@jupyter-widgets/base",
       "_view_module_version": "1.2.0",
       "_view_name": "LayoutView",
       "align_content": null,
       "align_items": null,
       "align_self": null,
       "border": null,
       "bottom": null,
       "display": null,
       "flex": null,
       "flex_flow": null,
       "grid_area": null,
       "grid_auto_columns": null,
       "grid_auto_flow": null,
       "grid_auto_rows": null,
       "grid_column": null,
       "grid_gap": null,
       "grid_row": null,
       "grid_template_areas": null,
       "grid_template_columns": null,
       "grid_template_rows": null,
       "height": null,
       "justify_content": null,
       "justify_items": null,
       "left": null,
       "margin": null,
       "max_height": null,
       "max_width": null,
       "min_height": null,
       "min_width": null,
       "object_fit": null,
       "object_position": null,
       "order": null,
       "overflow": null,
       "overflow_x": null,
       "overflow_y": null,
       "padding": null,
       "right": null,
       "top": null,
       "visibility": null,
       "width": null
      }
     },
     "07ce0e6b97584eae975f828b5eec4466": {
      "model_module": "@jupyter-widgets/controls",
      "model_module_version": "1.5.0",
      "model_name": "HTMLModel",
      "state": {
       "_dom_classes": [],
       "_model_module": "@jupyter-widgets/controls",
       "_model_module_version": "1.5.0",
       "_model_name": "HTMLModel",
       "_view_count": null,
       "_view_module": "@jupyter-widgets/controls",
       "_view_module_version": "1.5.0",
       "_view_name": "HTMLView",
       "description": "",
       "description_tooltip": null,
       "layout": "IPY_MODEL_e28648258d114b529d8843ba068e9dae",
       "placeholder": "​",
       "style": "IPY_MODEL_2a030b075fb1402ebb2fd0c9fbdd2c34",
       "value": " 25/25 [00:00&lt;00:00, 26.31it/s]"
      }
     },
     "0e1968b93bd340728ddccab47b8e6c09": {
      "model_module": "@jupyter-widgets/controls",
      "model_module_version": "1.5.0",
      "model_name": "FloatProgressModel",
      "state": {
       "_dom_classes": [],
       "_model_module": "@jupyter-widgets/controls",
       "_model_module_version": "1.5.0",
       "_model_name": "FloatProgressModel",
       "_view_count": null,
       "_view_module": "@jupyter-widgets/controls",
       "_view_module_version": "1.5.0",
       "_view_name": "ProgressView",
       "bar_style": "danger",
       "description": "",
       "description_tooltip": null,
       "layout": "IPY_MODEL_15afc6267b864e46985dadf42e6a2043",
       "max": 200,
       "min": 0,
       "orientation": "horizontal",
       "style": "IPY_MODEL_0fecac635853499f850ff115c7ae29ee",
       "value": 1
      }
     },
     "0e1bf584d47d4b1983e49fe45eeead7b": {
      "model_module": "@jupyter-widgets/controls",
      "model_module_version": "1.5.0",
      "model_name": "DescriptionStyleModel",
      "state": {
       "_model_module": "@jupyter-widgets/controls",
       "_model_module_version": "1.5.0",
       "_model_name": "DescriptionStyleModel",
       "_view_count": null,
       "_view_module": "@jupyter-widgets/base",
       "_view_module_version": "1.2.0",
       "_view_name": "StyleView",
       "description_width": ""
      }
     },
     "0f7de0bae5294f7cae06b44097b12a32": {
      "model_module": "@jupyter-widgets/base",
      "model_module_version": "1.2.0",
      "model_name": "LayoutModel",
      "state": {
       "_model_module": "@jupyter-widgets/base",
       "_model_module_version": "1.2.0",
       "_model_name": "LayoutModel",
       "_view_count": null,
       "_view_module": "@jupyter-widgets/base",
       "_view_module_version": "1.2.0",
       "_view_name": "LayoutView",
       "align_content": null,
       "align_items": null,
       "align_self": null,
       "border": null,
       "bottom": null,
       "display": null,
       "flex": null,
       "flex_flow": null,
       "grid_area": null,
       "grid_auto_columns": null,
       "grid_auto_flow": null,
       "grid_auto_rows": null,
       "grid_column": null,
       "grid_gap": null,
       "grid_row": null,
       "grid_template_areas": null,
       "grid_template_columns": null,
       "grid_template_rows": null,
       "height": null,
       "justify_content": null,
       "justify_items": null,
       "left": null,
       "margin": null,
       "max_height": null,
       "max_width": null,
       "min_height": null,
       "min_width": null,
       "object_fit": null,
       "object_position": null,
       "order": null,
       "overflow": null,
       "overflow_x": null,
       "overflow_y": null,
       "padding": null,
       "right": null,
       "top": null,
       "visibility": null,
       "width": null
      }
     },
     "0fecac635853499f850ff115c7ae29ee": {
      "model_module": "@jupyter-widgets/controls",
      "model_module_version": "1.5.0",
      "model_name": "ProgressStyleModel",
      "state": {
       "_model_module": "@jupyter-widgets/controls",
       "_model_module_version": "1.5.0",
       "_model_name": "ProgressStyleModel",
       "_view_count": null,
       "_view_module": "@jupyter-widgets/base",
       "_view_module_version": "1.2.0",
       "_view_name": "StyleView",
       "bar_color": null,
       "description_width": ""
      }
     },
     "1383e694a6c747788b53fcd3f1ef16b5": {
      "model_module": "@jupyter-widgets/controls",
      "model_module_version": "1.5.0",
      "model_name": "DescriptionStyleModel",
      "state": {
       "_model_module": "@jupyter-widgets/controls",
       "_model_module_version": "1.5.0",
       "_model_name": "DescriptionStyleModel",
       "_view_count": null,
       "_view_module": "@jupyter-widgets/base",
       "_view_module_version": "1.2.0",
       "_view_name": "StyleView",
       "description_width": ""
      }
     },
     "15afc6267b864e46985dadf42e6a2043": {
      "model_module": "@jupyter-widgets/base",
      "model_module_version": "1.2.0",
      "model_name": "LayoutModel",
      "state": {
       "_model_module": "@jupyter-widgets/base",
       "_model_module_version": "1.2.0",
       "_model_name": "LayoutModel",
       "_view_count": null,
       "_view_module": "@jupyter-widgets/base",
       "_view_module_version": "1.2.0",
       "_view_name": "LayoutView",
       "align_content": null,
       "align_items": null,
       "align_self": null,
       "border": null,
       "bottom": null,
       "display": null,
       "flex": null,
       "flex_flow": null,
       "grid_area": null,
       "grid_auto_columns": null,
       "grid_auto_flow": null,
       "grid_auto_rows": null,
       "grid_column": null,
       "grid_gap": null,
       "grid_row": null,
       "grid_template_areas": null,
       "grid_template_columns": null,
       "grid_template_rows": null,
       "height": null,
       "justify_content": null,
       "justify_items": null,
       "left": null,
       "margin": null,
       "max_height": null,
       "max_width": null,
       "min_height": null,
       "min_width": null,
       "object_fit": null,
       "object_position": null,
       "order": null,
       "overflow": null,
       "overflow_x": null,
       "overflow_y": null,
       "padding": null,
       "right": null,
       "top": null,
       "visibility": null,
       "width": null
      }
     },
     "15f8dcdd8fc040cfa272243e9fa17cf7": {
      "model_module": "@jupyter-widgets/controls",
      "model_module_version": "1.5.0",
      "model_name": "HBoxModel",
      "state": {
       "_dom_classes": [],
       "_model_module": "@jupyter-widgets/controls",
       "_model_module_version": "1.5.0",
       "_model_name": "HBoxModel",
       "_view_count": null,
       "_view_module": "@jupyter-widgets/controls",
       "_view_module_version": "1.5.0",
       "_view_name": "HBoxView",
       "box_style": "",
       "children": [
        "IPY_MODEL_4fb825655ddb4a61a66e4be24bcd7272",
        "IPY_MODEL_f78bdc9322dc46f79623912e7560783a",
        "IPY_MODEL_f639e76bc81d4632b4758b2e8dd750d2"
       ],
       "layout": "IPY_MODEL_5bc00d1fb7384f0689a4bb54b739d2c8"
      }
     },
     "205fa11fa929437b81ccd3ccaea698e3": {
      "model_module": "@jupyter-widgets/controls",
      "model_module_version": "1.5.0",
      "model_name": "DescriptionStyleModel",
      "state": {
       "_model_module": "@jupyter-widgets/controls",
       "_model_module_version": "1.5.0",
       "_model_name": "DescriptionStyleModel",
       "_view_count": null,
       "_view_module": "@jupyter-widgets/base",
       "_view_module_version": "1.2.0",
       "_view_name": "StyleView",
       "description_width": ""
      }
     },
     "231af731e94846ce8bf10bba58440b02": {
      "model_module": "@jupyter-widgets/controls",
      "model_module_version": "1.5.0",
      "model_name": "DescriptionStyleModel",
      "state": {
       "_model_module": "@jupyter-widgets/controls",
       "_model_module_version": "1.5.0",
       "_model_name": "DescriptionStyleModel",
       "_view_count": null,
       "_view_module": "@jupyter-widgets/base",
       "_view_module_version": "1.2.0",
       "_view_name": "StyleView",
       "description_width": ""
      }
     },
     "254cdafe3d474d9a9ba723265100aa67": {
      "model_module": "@jupyter-widgets/controls",
      "model_module_version": "1.5.0",
      "model_name": "DescriptionStyleModel",
      "state": {
       "_model_module": "@jupyter-widgets/controls",
       "_model_module_version": "1.5.0",
       "_model_name": "DescriptionStyleModel",
       "_view_count": null,
       "_view_module": "@jupyter-widgets/base",
       "_view_module_version": "1.2.0",
       "_view_name": "StyleView",
       "description_width": ""
      }
     },
     "2580387e7184421582f5fd3951a0ff77": {
      "model_module": "@jupyter-widgets/controls",
      "model_module_version": "1.5.0",
      "model_name": "HBoxModel",
      "state": {
       "_dom_classes": [],
       "_model_module": "@jupyter-widgets/controls",
       "_model_module_version": "1.5.0",
       "_model_name": "HBoxModel",
       "_view_count": null,
       "_view_module": "@jupyter-widgets/controls",
       "_view_module_version": "1.5.0",
       "_view_name": "HBoxView",
       "box_style": "",
       "children": [
        "IPY_MODEL_7c432dd4b224455eba6a8c166575342c",
        "IPY_MODEL_aa6723754150433f88aef4077b0aecca",
        "IPY_MODEL_a3faf9aedcc3483e9f24535ad378b131"
       ],
       "layout": "IPY_MODEL_e41e20adb42c4d6683be57d6a12ebcd9"
      }
     },
     "26c7569ebcb8443db12b11a7d007ce87": {
      "model_module": "@jupyter-widgets/controls",
      "model_module_version": "1.5.0",
      "model_name": "DescriptionStyleModel",
      "state": {
       "_model_module": "@jupyter-widgets/controls",
       "_model_module_version": "1.5.0",
       "_model_name": "DescriptionStyleModel",
       "_view_count": null,
       "_view_module": "@jupyter-widgets/base",
       "_view_module_version": "1.2.0",
       "_view_name": "StyleView",
       "description_width": ""
      }
     },
     "2a030b075fb1402ebb2fd0c9fbdd2c34": {
      "model_module": "@jupyter-widgets/controls",
      "model_module_version": "1.5.0",
      "model_name": "DescriptionStyleModel",
      "state": {
       "_model_module": "@jupyter-widgets/controls",
       "_model_module_version": "1.5.0",
       "_model_name": "DescriptionStyleModel",
       "_view_count": null,
       "_view_module": "@jupyter-widgets/base",
       "_view_module_version": "1.2.0",
       "_view_name": "StyleView",
       "description_width": ""
      }
     },
     "2dd065fd6fff46e1a9385168ff67095e": {
      "model_module": "@jupyter-widgets/base",
      "model_module_version": "1.2.0",
      "model_name": "LayoutModel",
      "state": {
       "_model_module": "@jupyter-widgets/base",
       "_model_module_version": "1.2.0",
       "_model_name": "LayoutModel",
       "_view_count": null,
       "_view_module": "@jupyter-widgets/base",
       "_view_module_version": "1.2.0",
       "_view_name": "LayoutView",
       "align_content": null,
       "align_items": null,
       "align_self": null,
       "border": null,
       "bottom": null,
       "display": null,
       "flex": null,
       "flex_flow": null,
       "grid_area": null,
       "grid_auto_columns": null,
       "grid_auto_flow": null,
       "grid_auto_rows": null,
       "grid_column": null,
       "grid_gap": null,
       "grid_row": null,
       "grid_template_areas": null,
       "grid_template_columns": null,
       "grid_template_rows": null,
       "height": null,
       "justify_content": null,
       "justify_items": null,
       "left": null,
       "margin": null,
       "max_height": null,
       "max_width": null,
       "min_height": null,
       "min_width": null,
       "object_fit": null,
       "object_position": null,
       "order": null,
       "overflow": null,
       "overflow_x": null,
       "overflow_y": null,
       "padding": null,
       "right": null,
       "top": null,
       "visibility": null,
       "width": null
      }
     },
     "2e680ede59204b908d61233fcdf9d7dc": {
      "model_module": "@jupyter-widgets/base",
      "model_module_version": "1.2.0",
      "model_name": "LayoutModel",
      "state": {
       "_model_module": "@jupyter-widgets/base",
       "_model_module_version": "1.2.0",
       "_model_name": "LayoutModel",
       "_view_count": null,
       "_view_module": "@jupyter-widgets/base",
       "_view_module_version": "1.2.0",
       "_view_name": "LayoutView",
       "align_content": null,
       "align_items": null,
       "align_self": null,
       "border": null,
       "bottom": null,
       "display": null,
       "flex": null,
       "flex_flow": null,
       "grid_area": null,
       "grid_auto_columns": null,
       "grid_auto_flow": null,
       "grid_auto_rows": null,
       "grid_column": null,
       "grid_gap": null,
       "grid_row": null,
       "grid_template_areas": null,
       "grid_template_columns": null,
       "grid_template_rows": null,
       "height": null,
       "justify_content": null,
       "justify_items": null,
       "left": null,
       "margin": null,
       "max_height": null,
       "max_width": null,
       "min_height": null,
       "min_width": null,
       "object_fit": null,
       "object_position": null,
       "order": null,
       "overflow": null,
       "overflow_x": null,
       "overflow_y": null,
       "padding": null,
       "right": null,
       "top": null,
       "visibility": null,
       "width": null
      }
     },
     "314195c4df1c450d9edb9a6efcdba29f": {
      "model_module": "@jupyter-widgets/base",
      "model_module_version": "1.2.0",
      "model_name": "LayoutModel",
      "state": {
       "_model_module": "@jupyter-widgets/base",
       "_model_module_version": "1.2.0",
       "_model_name": "LayoutModel",
       "_view_count": null,
       "_view_module": "@jupyter-widgets/base",
       "_view_module_version": "1.2.0",
       "_view_name": "LayoutView",
       "align_content": null,
       "align_items": null,
       "align_self": null,
       "border": null,
       "bottom": null,
       "display": null,
       "flex": null,
       "flex_flow": null,
       "grid_area": null,
       "grid_auto_columns": null,
       "grid_auto_flow": null,
       "grid_auto_rows": null,
       "grid_column": null,
       "grid_gap": null,
       "grid_row": null,
       "grid_template_areas": null,
       "grid_template_columns": null,
       "grid_template_rows": null,
       "height": null,
       "justify_content": null,
       "justify_items": null,
       "left": null,
       "margin": null,
       "max_height": null,
       "max_width": null,
       "min_height": null,
       "min_width": null,
       "object_fit": null,
       "object_position": null,
       "order": null,
       "overflow": null,
       "overflow_x": null,
       "overflow_y": null,
       "padding": null,
       "right": null,
       "top": null,
       "visibility": null,
       "width": null
      }
     },
     "3296db9187bb4c8b9ffd3317cd155fae": {
      "model_module": "@jupyter-widgets/base",
      "model_module_version": "1.2.0",
      "model_name": "LayoutModel",
      "state": {
       "_model_module": "@jupyter-widgets/base",
       "_model_module_version": "1.2.0",
       "_model_name": "LayoutModel",
       "_view_count": null,
       "_view_module": "@jupyter-widgets/base",
       "_view_module_version": "1.2.0",
       "_view_name": "LayoutView",
       "align_content": null,
       "align_items": null,
       "align_self": null,
       "border": null,
       "bottom": null,
       "display": null,
       "flex": null,
       "flex_flow": null,
       "grid_area": null,
       "grid_auto_columns": null,
       "grid_auto_flow": null,
       "grid_auto_rows": null,
       "grid_column": null,
       "grid_gap": null,
       "grid_row": null,
       "grid_template_areas": null,
       "grid_template_columns": null,
       "grid_template_rows": null,
       "height": null,
       "justify_content": null,
       "justify_items": null,
       "left": null,
       "margin": null,
       "max_height": null,
       "max_width": null,
       "min_height": null,
       "min_width": null,
       "object_fit": null,
       "object_position": null,
       "order": null,
       "overflow": null,
       "overflow_x": null,
       "overflow_y": null,
       "padding": null,
       "right": null,
       "top": null,
       "visibility": null,
       "width": null
      }
     },
     "34d2abfdf0504ae79e7f8b65e8ea398c": {
      "model_module": "@jupyter-widgets/controls",
      "model_module_version": "1.5.0",
      "model_name": "ProgressStyleModel",
      "state": {
       "_model_module": "@jupyter-widgets/controls",
       "_model_module_version": "1.5.0",
       "_model_name": "ProgressStyleModel",
       "_view_count": null,
       "_view_module": "@jupyter-widgets/base",
       "_view_module_version": "1.2.0",
       "_view_name": "StyleView",
       "bar_color": null,
       "description_width": ""
      }
     },
     "35e8511274cf4236b9b4497b2052dc60": {
      "model_module": "@jupyter-widgets/controls",
      "model_module_version": "1.5.0",
      "model_name": "HTMLModel",
      "state": {
       "_dom_classes": [],
       "_model_module": "@jupyter-widgets/controls",
       "_model_module_version": "1.5.0",
       "_model_name": "HTMLModel",
       "_view_count": null,
       "_view_module": "@jupyter-widgets/controls",
       "_view_module_version": "1.5.0",
       "_view_name": "HTMLView",
       "description": "",
       "description_tooltip": null,
       "layout": "IPY_MODEL_3950ac9b8298433c9165e2b604c65eed",
       "placeholder": "​",
       "style": "IPY_MODEL_798dacc5e00543c394875c4d02f2bc95",
       "value": " 28.0/28.0 [00:00&lt;00:00, 1.03kB/s]"
      }
     },
     "366d83adca0d428e8c7dfce06322f215": {
      "model_module": "@jupyter-widgets/controls",
      "model_module_version": "1.5.0",
      "model_name": "DescriptionStyleModel",
      "state": {
       "_model_module": "@jupyter-widgets/controls",
       "_model_module_version": "1.5.0",
       "_model_name": "DescriptionStyleModel",
       "_view_count": null,
       "_view_module": "@jupyter-widgets/base",
       "_view_module_version": "1.2.0",
       "_view_name": "StyleView",
       "description_width": ""
      }
     },
     "38ac1fd2612d4fc48dcd11b0a6e103a0": {
      "model_module": "@jupyter-widgets/controls",
      "model_module_version": "1.5.0",
      "model_name": "HTMLModel",
      "state": {
       "_dom_classes": [],
       "_model_module": "@jupyter-widgets/controls",
       "_model_module_version": "1.5.0",
       "_model_name": "HTMLModel",
       "_view_count": null,
       "_view_module": "@jupyter-widgets/controls",
       "_view_module_version": "1.5.0",
       "_view_name": "HTMLView",
       "description": "",
       "description_tooltip": null,
       "layout": "IPY_MODEL_3296db9187bb4c8b9ffd3317cd155fae",
       "placeholder": "​",
       "style": "IPY_MODEL_44ba942c8db04f24afd98d376d8bc838",
       "value": " 100/100 [00:03&lt;00:00, 26.87it/s]"
      }
     },
     "3950ac9b8298433c9165e2b604c65eed": {
      "model_module": "@jupyter-widgets/base",
      "model_module_version": "1.2.0",
      "model_name": "LayoutModel",
      "state": {
       "_model_module": "@jupyter-widgets/base",
       "_model_module_version": "1.2.0",
       "_model_name": "LayoutModel",
       "_view_count": null,
       "_view_module": "@jupyter-widgets/base",
       "_view_module_version": "1.2.0",
       "_view_name": "LayoutView",
       "align_content": null,
       "align_items": null,
       "align_self": null,
       "border": null,
       "bottom": null,
       "display": null,
       "flex": null,
       "flex_flow": null,
       "grid_area": null,
       "grid_auto_columns": null,
       "grid_auto_flow": null,
       "grid_auto_rows": null,
       "grid_column": null,
       "grid_gap": null,
       "grid_row": null,
       "grid_template_areas": null,
       "grid_template_columns": null,
       "grid_template_rows": null,
       "height": null,
       "justify_content": null,
       "justify_items": null,
       "left": null,
       "margin": null,
       "max_height": null,
       "max_width": null,
       "min_height": null,
       "min_width": null,
       "object_fit": null,
       "object_position": null,
       "order": null,
       "overflow": null,
       "overflow_x": null,
       "overflow_y": null,
       "padding": null,
       "right": null,
       "top": null,
       "visibility": null,
       "width": null
      }
     },
     "3a5c823a94f942f6adfd990e9effab55": {
      "model_module": "@jupyter-widgets/controls",
      "model_module_version": "1.5.0",
      "model_name": "FloatProgressModel",
      "state": {
       "_dom_classes": [],
       "_model_module": "@jupyter-widgets/controls",
       "_model_module_version": "1.5.0",
       "_model_name": "FloatProgressModel",
       "_view_count": null,
       "_view_module": "@jupyter-widgets/controls",
       "_view_module_version": "1.5.0",
       "_view_name": "ProgressView",
       "bar_style": "success",
       "description": "",
       "description_tooltip": null,
       "layout": "IPY_MODEL_da3fa61b71944f32968ee76bcf4a0fb8",
       "max": 100,
       "min": 0,
       "orientation": "horizontal",
       "style": "IPY_MODEL_5657dfa016304211bd433ec436eac4cf",
       "value": 100
      }
     },
     "3a85f2f0f39f4595bb0a2bdb0676a8c7": {
      "model_module": "@jupyter-widgets/controls",
      "model_module_version": "1.5.0",
      "model_name": "DescriptionStyleModel",
      "state": {
       "_model_module": "@jupyter-widgets/controls",
       "_model_module_version": "1.5.0",
       "_model_name": "DescriptionStyleModel",
       "_view_count": null,
       "_view_module": "@jupyter-widgets/base",
       "_view_module_version": "1.2.0",
       "_view_name": "StyleView",
       "description_width": ""
      }
     },
     "3a9502913b0c4f2786c1b527cfd82432": {
      "model_module": "@jupyter-widgets/controls",
      "model_module_version": "1.5.0",
      "model_name": "HTMLModel",
      "state": {
       "_dom_classes": [],
       "_model_module": "@jupyter-widgets/controls",
       "_model_module_version": "1.5.0",
       "_model_name": "HTMLModel",
       "_view_count": null,
       "_view_module": "@jupyter-widgets/controls",
       "_view_module_version": "1.5.0",
       "_view_name": "HTMLView",
       "description": "",
       "description_tooltip": null,
       "layout": "IPY_MODEL_9562137727b740608d6a028073439c51",
       "placeholder": "​",
       "style": "IPY_MODEL_1383e694a6c747788b53fcd3f1ef16b5",
       "value": "  0%"
      }
     },
     "3b4c56a032304fdd87676f18be450790": {
      "model_module": "@jupyter-widgets/base",
      "model_module_version": "1.2.0",
      "model_name": "LayoutModel",
      "state": {
       "_model_module": "@jupyter-widgets/base",
       "_model_module_version": "1.2.0",
       "_model_name": "LayoutModel",
       "_view_count": null,
       "_view_module": "@jupyter-widgets/base",
       "_view_module_version": "1.2.0",
       "_view_name": "LayoutView",
       "align_content": null,
       "align_items": null,
       "align_self": null,
       "border": null,
       "bottom": null,
       "display": null,
       "flex": null,
       "flex_flow": null,
       "grid_area": null,
       "grid_auto_columns": null,
       "grid_auto_flow": null,
       "grid_auto_rows": null,
       "grid_column": null,
       "grid_gap": null,
       "grid_row": null,
       "grid_template_areas": null,
       "grid_template_columns": null,
       "grid_template_rows": null,
       "height": null,
       "justify_content": null,
       "justify_items": null,
       "left": null,
       "margin": null,
       "max_height": null,
       "max_width": null,
       "min_height": null,
       "min_width": null,
       "object_fit": null,
       "object_position": null,
       "order": null,
       "overflow": null,
       "overflow_x": null,
       "overflow_y": null,
       "padding": null,
       "right": null,
       "top": null,
       "visibility": null,
       "width": null
      }
     },
     "3eaa1f6a57904dcea7cad371e26ed1e0": {
      "model_module": "@jupyter-widgets/controls",
      "model_module_version": "1.5.0",
      "model_name": "HTMLModel",
      "state": {
       "_dom_classes": [],
       "_model_module": "@jupyter-widgets/controls",
       "_model_module_version": "1.5.0",
       "_model_name": "HTMLModel",
       "_view_count": null,
       "_view_module": "@jupyter-widgets/controls",
       "_view_module_version": "1.5.0",
       "_view_name": "HTMLView",
       "description": "",
       "description_tooltip": null,
       "layout": "IPY_MODEL_aa561cab468c4eeba3b45996e606c16f",
       "placeholder": "​",
       "style": "IPY_MODEL_205fa11fa929437b81ccd3ccaea698e3",
       "value": " 570/570 [00:00&lt;00:00, 21.9kB/s]"
      }
     },
     "40236cf01ddf48908de2c592e11b3544": {
      "model_module": "@jupyter-widgets/base",
      "model_module_version": "1.2.0",
      "model_name": "LayoutModel",
      "state": {
       "_model_module": "@jupyter-widgets/base",
       "_model_module_version": "1.2.0",
       "_model_name": "LayoutModel",
       "_view_count": null,
       "_view_module": "@jupyter-widgets/base",
       "_view_module_version": "1.2.0",
       "_view_name": "LayoutView",
       "align_content": null,
       "align_items": null,
       "align_self": null,
       "border": null,
       "bottom": null,
       "display": null,
       "flex": null,
       "flex_flow": null,
       "grid_area": null,
       "grid_auto_columns": null,
       "grid_auto_flow": null,
       "grid_auto_rows": null,
       "grid_column": null,
       "grid_gap": null,
       "grid_row": null,
       "grid_template_areas": null,
       "grid_template_columns": null,
       "grid_template_rows": null,
       "height": null,
       "justify_content": null,
       "justify_items": null,
       "left": null,
       "margin": null,
       "max_height": null,
       "max_width": null,
       "min_height": null,
       "min_width": null,
       "object_fit": null,
       "object_position": null,
       "order": null,
       "overflow": null,
       "overflow_x": null,
       "overflow_y": null,
       "padding": null,
       "right": null,
       "top": null,
       "visibility": null,
       "width": null
      }
     },
     "40a08f39c9b646cd94724726f0839e43": {
      "model_module": "@jupyter-widgets/controls",
      "model_module_version": "1.5.0",
      "model_name": "ProgressStyleModel",
      "state": {
       "_model_module": "@jupyter-widgets/controls",
       "_model_module_version": "1.5.0",
       "_model_name": "ProgressStyleModel",
       "_view_count": null,
       "_view_module": "@jupyter-widgets/base",
       "_view_module_version": "1.2.0",
       "_view_name": "StyleView",
       "bar_color": null,
       "description_width": ""
      }
     },
     "44ba942c8db04f24afd98d376d8bc838": {
      "model_module": "@jupyter-widgets/controls",
      "model_module_version": "1.5.0",
      "model_name": "DescriptionStyleModel",
      "state": {
       "_model_module": "@jupyter-widgets/controls",
       "_model_module_version": "1.5.0",
       "_model_name": "DescriptionStyleModel",
       "_view_count": null,
       "_view_module": "@jupyter-widgets/base",
       "_view_module_version": "1.2.0",
       "_view_name": "StyleView",
       "description_width": ""
      }
     },
     "45158a36aa234f7e8619e8580444972b": {
      "model_module": "@jupyter-widgets/controls",
      "model_module_version": "1.5.0",
      "model_name": "HTMLModel",
      "state": {
       "_dom_classes": [],
       "_model_module": "@jupyter-widgets/controls",
       "_model_module_version": "1.5.0",
       "_model_name": "HTMLModel",
       "_view_count": null,
       "_view_module": "@jupyter-widgets/controls",
       "_view_module_version": "1.5.0",
       "_view_name": "HTMLView",
       "description": "",
       "description_tooltip": null,
       "layout": "IPY_MODEL_6a31e8c5bd8f4c75850e6db3c3d939fa",
       "placeholder": "​",
       "style": "IPY_MODEL_79488d85d2e14049ad9f9a17e6188380",
       "value": " 1/200 [00:00&lt;00:33,  5.94it/s]"
      }
     },
     "47aa0853f6b94be4bb1948de95894591": {
      "model_module": "@jupyter-widgets/base",
      "model_module_version": "1.2.0",
      "model_name": "LayoutModel",
      "state": {
       "_model_module": "@jupyter-widgets/base",
       "_model_module_version": "1.2.0",
       "_model_name": "LayoutModel",
       "_view_count": null,
       "_view_module": "@jupyter-widgets/base",
       "_view_module_version": "1.2.0",
       "_view_name": "LayoutView",
       "align_content": null,
       "align_items": null,
       "align_self": null,
       "border": null,
       "bottom": null,
       "display": null,
       "flex": null,
       "flex_flow": null,
       "grid_area": null,
       "grid_auto_columns": null,
       "grid_auto_flow": null,
       "grid_auto_rows": null,
       "grid_column": null,
       "grid_gap": null,
       "grid_row": null,
       "grid_template_areas": null,
       "grid_template_columns": null,
       "grid_template_rows": null,
       "height": null,
       "justify_content": null,
       "justify_items": null,
       "left": null,
       "margin": null,
       "max_height": null,
       "max_width": null,
       "min_height": null,
       "min_width": null,
       "object_fit": null,
       "object_position": null,
       "order": null,
       "overflow": null,
       "overflow_x": null,
       "overflow_y": null,
       "padding": null,
       "right": null,
       "top": null,
       "visibility": null,
       "width": null
      }
     },
     "48446d00407f4e7a8599566b594b1f55": {
      "model_module": "@jupyter-widgets/controls",
      "model_module_version": "1.5.0",
      "model_name": "ProgressStyleModel",
      "state": {
       "_model_module": "@jupyter-widgets/controls",
       "_model_module_version": "1.5.0",
       "_model_name": "ProgressStyleModel",
       "_view_count": null,
       "_view_module": "@jupyter-widgets/base",
       "_view_module_version": "1.2.0",
       "_view_name": "StyleView",
       "bar_color": null,
       "description_width": ""
      }
     },
     "486c7950d5ae4405ba38c4ff1cdb15d0": {
      "model_module": "@jupyter-widgets/base",
      "model_module_version": "1.2.0",
      "model_name": "LayoutModel",
      "state": {
       "_model_module": "@jupyter-widgets/base",
       "_model_module_version": "1.2.0",
       "_model_name": "LayoutModel",
       "_view_count": null,
       "_view_module": "@jupyter-widgets/base",
       "_view_module_version": "1.2.0",
       "_view_name": "LayoutView",
       "align_content": null,
       "align_items": null,
       "align_self": null,
       "border": null,
       "bottom": null,
       "display": null,
       "flex": null,
       "flex_flow": null,
       "grid_area": null,
       "grid_auto_columns": null,
       "grid_auto_flow": null,
       "grid_auto_rows": null,
       "grid_column": null,
       "grid_gap": null,
       "grid_row": null,
       "grid_template_areas": null,
       "grid_template_columns": null,
       "grid_template_rows": null,
       "height": null,
       "justify_content": null,
       "justify_items": null,
       "left": null,
       "margin": null,
       "max_height": null,
       "max_width": null,
       "min_height": null,
       "min_width": null,
       "object_fit": null,
       "object_position": null,
       "order": null,
       "overflow": null,
       "overflow_x": null,
       "overflow_y": null,
       "padding": null,
       "right": null,
       "top": null,
       "visibility": null,
       "width": null
      }
     },
     "489bb6fe30d04d859da2db546bc9bf44": {
      "model_module": "@jupyter-widgets/controls",
      "model_module_version": "1.5.0",
      "model_name": "DescriptionStyleModel",
      "state": {
       "_model_module": "@jupyter-widgets/controls",
       "_model_module_version": "1.5.0",
       "_model_name": "DescriptionStyleModel",
       "_view_count": null,
       "_view_module": "@jupyter-widgets/base",
       "_view_module_version": "1.2.0",
       "_view_name": "StyleView",
       "description_width": ""
      }
     },
     "49dd9f8352ba493d85b0e6275634a53f": {
      "model_module": "@jupyter-widgets/base",
      "model_module_version": "1.2.0",
      "model_name": "LayoutModel",
      "state": {
       "_model_module": "@jupyter-widgets/base",
       "_model_module_version": "1.2.0",
       "_model_name": "LayoutModel",
       "_view_count": null,
       "_view_module": "@jupyter-widgets/base",
       "_view_module_version": "1.2.0",
       "_view_name": "LayoutView",
       "align_content": null,
       "align_items": null,
       "align_self": null,
       "border": null,
       "bottom": null,
       "display": null,
       "flex": null,
       "flex_flow": null,
       "grid_area": null,
       "grid_auto_columns": null,
       "grid_auto_flow": null,
       "grid_auto_rows": null,
       "grid_column": null,
       "grid_gap": null,
       "grid_row": null,
       "grid_template_areas": null,
       "grid_template_columns": null,
       "grid_template_rows": null,
       "height": null,
       "justify_content": null,
       "justify_items": null,
       "left": null,
       "margin": null,
       "max_height": null,
       "max_width": null,
       "min_height": null,
       "min_width": null,
       "object_fit": null,
       "object_position": null,
       "order": null,
       "overflow": null,
       "overflow_x": null,
       "overflow_y": null,
       "padding": null,
       "right": null,
       "top": null,
       "visibility": null,
       "width": null
      }
     },
     "4ae6755c4b6348fdbf3aede21853188a": {
      "model_module": "@jupyter-widgets/controls",
      "model_module_version": "1.5.0",
      "model_name": "DescriptionStyleModel",
      "state": {
       "_model_module": "@jupyter-widgets/controls",
       "_model_module_version": "1.5.0",
       "_model_name": "DescriptionStyleModel",
       "_view_count": null,
       "_view_module": "@jupyter-widgets/base",
       "_view_module_version": "1.2.0",
       "_view_name": "StyleView",
       "description_width": ""
      }
     },
     "4cd1ae3855f34c4290adaa70dbcf59d8": {
      "model_module": "@jupyter-widgets/base",
      "model_module_version": "1.2.0",
      "model_name": "LayoutModel",
      "state": {
       "_model_module": "@jupyter-widgets/base",
       "_model_module_version": "1.2.0",
       "_model_name": "LayoutModel",
       "_view_count": null,
       "_view_module": "@jupyter-widgets/base",
       "_view_module_version": "1.2.0",
       "_view_name": "LayoutView",
       "align_content": null,
       "align_items": null,
       "align_self": null,
       "border": null,
       "bottom": null,
       "display": null,
       "flex": null,
       "flex_flow": null,
       "grid_area": null,
       "grid_auto_columns": null,
       "grid_auto_flow": null,
       "grid_auto_rows": null,
       "grid_column": null,
       "grid_gap": null,
       "grid_row": null,
       "grid_template_areas": null,
       "grid_template_columns": null,
       "grid_template_rows": null,
       "height": null,
       "justify_content": null,
       "justify_items": null,
       "left": null,
       "margin": null,
       "max_height": null,
       "max_width": null,
       "min_height": null,
       "min_width": null,
       "object_fit": null,
       "object_position": null,
       "order": null,
       "overflow": null,
       "overflow_x": null,
       "overflow_y": null,
       "padding": null,
       "right": null,
       "top": null,
       "visibility": null,
       "width": null
      }
     },
     "4fb825655ddb4a61a66e4be24bcd7272": {
      "model_module": "@jupyter-widgets/controls",
      "model_module_version": "1.5.0",
      "model_name": "HTMLModel",
      "state": {
       "_dom_classes": [],
       "_model_module": "@jupyter-widgets/controls",
       "_model_module_version": "1.5.0",
       "_model_name": "HTMLModel",
       "_view_count": null,
       "_view_module": "@jupyter-widgets/controls",
       "_view_module_version": "1.5.0",
       "_view_name": "HTMLView",
       "description": "",
       "description_tooltip": null,
       "layout": "IPY_MODEL_88df3fea457d4df4992a2ba5e7d2b5a5",
       "placeholder": "​",
       "style": "IPY_MODEL_f6c88363ab9b4fac96faa93158c354c4",
       "value": "Downloading: 100%"
      }
     },
     "5657dfa016304211bd433ec436eac4cf": {
      "model_module": "@jupyter-widgets/controls",
      "model_module_version": "1.5.0",
      "model_name": "ProgressStyleModel",
      "state": {
       "_model_module": "@jupyter-widgets/controls",
       "_model_module_version": "1.5.0",
       "_model_name": "ProgressStyleModel",
       "_view_count": null,
       "_view_module": "@jupyter-widgets/base",
       "_view_module_version": "1.2.0",
       "_view_name": "StyleView",
       "bar_color": null,
       "description_width": ""
      }
     },
     "576ff1ac7f8e454eaf71c569f531dbd1": {
      "model_module": "@jupyter-widgets/controls",
      "model_module_version": "1.5.0",
      "model_name": "DescriptionStyleModel",
      "state": {
       "_model_module": "@jupyter-widgets/controls",
       "_model_module_version": "1.5.0",
       "_model_name": "DescriptionStyleModel",
       "_view_count": null,
       "_view_module": "@jupyter-widgets/base",
       "_view_module_version": "1.2.0",
       "_view_name": "StyleView",
       "description_width": ""
      }
     },
     "5bc00d1fb7384f0689a4bb54b739d2c8": {
      "model_module": "@jupyter-widgets/base",
      "model_module_version": "1.2.0",
      "model_name": "LayoutModel",
      "state": {
       "_model_module": "@jupyter-widgets/base",
       "_model_module_version": "1.2.0",
       "_model_name": "LayoutModel",
       "_view_count": null,
       "_view_module": "@jupyter-widgets/base",
       "_view_module_version": "1.2.0",
       "_view_name": "LayoutView",
       "align_content": null,
       "align_items": null,
       "align_self": null,
       "border": null,
       "bottom": null,
       "display": null,
       "flex": null,
       "flex_flow": null,
       "grid_area": null,
       "grid_auto_columns": null,
       "grid_auto_flow": null,
       "grid_auto_rows": null,
       "grid_column": null,
       "grid_gap": null,
       "grid_row": null,
       "grid_template_areas": null,
       "grid_template_columns": null,
       "grid_template_rows": null,
       "height": null,
       "justify_content": null,
       "justify_items": null,
       "left": null,
       "margin": null,
       "max_height": null,
       "max_width": null,
       "min_height": null,
       "min_width": null,
       "object_fit": null,
       "object_position": null,
       "order": null,
       "overflow": null,
       "overflow_x": null,
       "overflow_y": null,
       "padding": null,
       "right": null,
       "top": null,
       "visibility": null,
       "width": null
      }
     },
     "5bf2519361da436d9538908be3c5322f": {
      "model_module": "@jupyter-widgets/base",
      "model_module_version": "1.2.0",
      "model_name": "LayoutModel",
      "state": {
       "_model_module": "@jupyter-widgets/base",
       "_model_module_version": "1.2.0",
       "_model_name": "LayoutModel",
       "_view_count": null,
       "_view_module": "@jupyter-widgets/base",
       "_view_module_version": "1.2.0",
       "_view_name": "LayoutView",
       "align_content": null,
       "align_items": null,
       "align_self": null,
       "border": null,
       "bottom": null,
       "display": null,
       "flex": null,
       "flex_flow": null,
       "grid_area": null,
       "grid_auto_columns": null,
       "grid_auto_flow": null,
       "grid_auto_rows": null,
       "grid_column": null,
       "grid_gap": null,
       "grid_row": null,
       "grid_template_areas": null,
       "grid_template_columns": null,
       "grid_template_rows": null,
       "height": null,
       "justify_content": null,
       "justify_items": null,
       "left": null,
       "margin": null,
       "max_height": null,
       "max_width": null,
       "min_height": null,
       "min_width": null,
       "object_fit": null,
       "object_position": null,
       "order": null,
       "overflow": null,
       "overflow_x": null,
       "overflow_y": null,
       "padding": null,
       "right": null,
       "top": null,
       "visibility": null,
       "width": null
      }
     },
     "5d1fac69fcba4f8eb2aafd7782077709": {
      "model_module": "@jupyter-widgets/base",
      "model_module_version": "1.2.0",
      "model_name": "LayoutModel",
      "state": {
       "_model_module": "@jupyter-widgets/base",
       "_model_module_version": "1.2.0",
       "_model_name": "LayoutModel",
       "_view_count": null,
       "_view_module": "@jupyter-widgets/base",
       "_view_module_version": "1.2.0",
       "_view_name": "LayoutView",
       "align_content": null,
       "align_items": null,
       "align_self": null,
       "border": null,
       "bottom": null,
       "display": null,
       "flex": null,
       "flex_flow": null,
       "grid_area": null,
       "grid_auto_columns": null,
       "grid_auto_flow": null,
       "grid_auto_rows": null,
       "grid_column": null,
       "grid_gap": null,
       "grid_row": null,
       "grid_template_areas": null,
       "grid_template_columns": null,
       "grid_template_rows": null,
       "height": null,
       "justify_content": null,
       "justify_items": null,
       "left": null,
       "margin": null,
       "max_height": null,
       "max_width": null,
       "min_height": null,
       "min_width": null,
       "object_fit": null,
       "object_position": null,
       "order": null,
       "overflow": null,
       "overflow_x": null,
       "overflow_y": null,
       "padding": null,
       "right": null,
       "top": null,
       "visibility": null,
       "width": null
      }
     },
     "6220e52ad33b411481852e01c321ef93": {
      "model_module": "@jupyter-widgets/base",
      "model_module_version": "1.2.0",
      "model_name": "LayoutModel",
      "state": {
       "_model_module": "@jupyter-widgets/base",
       "_model_module_version": "1.2.0",
       "_model_name": "LayoutModel",
       "_view_count": null,
       "_view_module": "@jupyter-widgets/base",
       "_view_module_version": "1.2.0",
       "_view_name": "LayoutView",
       "align_content": null,
       "align_items": null,
       "align_self": null,
       "border": null,
       "bottom": null,
       "display": null,
       "flex": null,
       "flex_flow": null,
       "grid_area": null,
       "grid_auto_columns": null,
       "grid_auto_flow": null,
       "grid_auto_rows": null,
       "grid_column": null,
       "grid_gap": null,
       "grid_row": null,
       "grid_template_areas": null,
       "grid_template_columns": null,
       "grid_template_rows": null,
       "height": null,
       "justify_content": null,
       "justify_items": null,
       "left": null,
       "margin": null,
       "max_height": null,
       "max_width": null,
       "min_height": null,
       "min_width": null,
       "object_fit": null,
       "object_position": null,
       "order": null,
       "overflow": null,
       "overflow_x": null,
       "overflow_y": null,
       "padding": null,
       "right": null,
       "top": null,
       "visibility": null,
       "width": null
      }
     },
     "62b5e90d0e5f41278e640c0b2ffed68b": {
      "model_module": "@jupyter-widgets/controls",
      "model_module_version": "1.5.0",
      "model_name": "HTMLModel",
      "state": {
       "_dom_classes": [],
       "_model_module": "@jupyter-widgets/controls",
       "_model_module_version": "1.5.0",
       "_model_name": "HTMLModel",
       "_view_count": null,
       "_view_module": "@jupyter-widgets/controls",
       "_view_module_version": "1.5.0",
       "_view_name": "HTMLView",
       "description": "",
       "description_tooltip": null,
       "layout": "IPY_MODEL_cd3cd3c9a40d433b99967cb9a919b189",
       "placeholder": "​",
       "style": "IPY_MODEL_f64b6185a5cf4a7d8cb5bd542d472dcc",
       "value": "Downloading: 100%"
      }
     },
     "6654924b3dc54acf92d547d9b3ec3d24": {
      "model_module": "@jupyter-widgets/controls",
      "model_module_version": "1.5.0",
      "model_name": "DescriptionStyleModel",
      "state": {
       "_model_module": "@jupyter-widgets/controls",
       "_model_module_version": "1.5.0",
       "_model_name": "DescriptionStyleModel",
       "_view_count": null,
       "_view_module": "@jupyter-widgets/base",
       "_view_module_version": "1.2.0",
       "_view_name": "StyleView",
       "description_width": ""
      }
     },
     "6688078685ef47858de693320c6d8207": {
      "model_module": "@jupyter-widgets/controls",
      "model_module_version": "1.5.0",
      "model_name": "HBoxModel",
      "state": {
       "_dom_classes": [],
       "_model_module": "@jupyter-widgets/controls",
       "_model_module_version": "1.5.0",
       "_model_name": "HBoxModel",
       "_view_count": null,
       "_view_module": "@jupyter-widgets/controls",
       "_view_module_version": "1.5.0",
       "_view_name": "HBoxView",
       "box_style": "",
       "children": [
        "IPY_MODEL_e48ebd0624fe4737b238cb16521716cf",
        "IPY_MODEL_0e1968b93bd340728ddccab47b8e6c09",
        "IPY_MODEL_45158a36aa234f7e8619e8580444972b"
       ],
       "layout": "IPY_MODEL_7985ab8c0f7f4a5fb0f4bc99da7d0ec3"
      }
     },
     "674d9b2fa28448f68c70f4e5d34fc8a5": {
      "model_module": "@jupyter-widgets/controls",
      "model_module_version": "1.5.0",
      "model_name": "HBoxModel",
      "state": {
       "_dom_classes": [],
       "_model_module": "@jupyter-widgets/controls",
       "_model_module_version": "1.5.0",
       "_model_name": "HBoxModel",
       "_view_count": null,
       "_view_module": "@jupyter-widgets/controls",
       "_view_module_version": "1.5.0",
       "_view_name": "HBoxView",
       "box_style": "",
       "children": [
        "IPY_MODEL_74672107c670422cae6ea10f1b824edc",
        "IPY_MODEL_8922e02ea3b94cf883f272af6922171f",
        "IPY_MODEL_3eaa1f6a57904dcea7cad371e26ed1e0"
       ],
       "layout": "IPY_MODEL_2dd065fd6fff46e1a9385168ff67095e"
      }
     },
     "6a31e8c5bd8f4c75850e6db3c3d939fa": {
      "model_module": "@jupyter-widgets/base",
      "model_module_version": "1.2.0",
      "model_name": "LayoutModel",
      "state": {
       "_model_module": "@jupyter-widgets/base",
       "_model_module_version": "1.2.0",
       "_model_name": "LayoutModel",
       "_view_count": null,
       "_view_module": "@jupyter-widgets/base",
       "_view_module_version": "1.2.0",
       "_view_name": "LayoutView",
       "align_content": null,
       "align_items": null,
       "align_self": null,
       "border": null,
       "bottom": null,
       "display": null,
       "flex": null,
       "flex_flow": null,
       "grid_area": null,
       "grid_auto_columns": null,
       "grid_auto_flow": null,
       "grid_auto_rows": null,
       "grid_column": null,
       "grid_gap": null,
       "grid_row": null,
       "grid_template_areas": null,
       "grid_template_columns": null,
       "grid_template_rows": null,
       "height": null,
       "justify_content": null,
       "justify_items": null,
       "left": null,
       "margin": null,
       "max_height": null,
       "max_width": null,
       "min_height": null,
       "min_width": null,
       "object_fit": null,
       "object_position": null,
       "order": null,
       "overflow": null,
       "overflow_x": null,
       "overflow_y": null,
       "padding": null,
       "right": null,
       "top": null,
       "visibility": null,
       "width": null
      }
     },
     "6d31879953ab4d2bb2324766303f5402": {
      "model_module": "@jupyter-widgets/controls",
      "model_module_version": "1.5.0",
      "model_name": "HTMLModel",
      "state": {
       "_dom_classes": [],
       "_model_module": "@jupyter-widgets/controls",
       "_model_module_version": "1.5.0",
       "_model_name": "HTMLModel",
       "_view_count": null,
       "_view_module": "@jupyter-widgets/controls",
       "_view_module_version": "1.5.0",
       "_view_name": "HTMLView",
       "description": "",
       "description_tooltip": null,
       "layout": "IPY_MODEL_f7c2359a80c04045995f13eb84e0272b",
       "placeholder": "​",
       "style": "IPY_MODEL_0e1bf584d47d4b1983e49fe45eeead7b",
       "value": "Running Evaluation: 100%"
      }
     },
     "6e9918ed81a74b2a8cd5482846ce70e8": {
      "model_module": "@jupyter-widgets/controls",
      "model_module_version": "1.5.0",
      "model_name": "HTMLModel",
      "state": {
       "_dom_classes": [],
       "_model_module": "@jupyter-widgets/controls",
       "_model_module_version": "1.5.0",
       "_model_name": "HTMLModel",
       "_view_count": null,
       "_view_module": "@jupyter-widgets/controls",
       "_view_module_version": "1.5.0",
       "_view_name": "HTMLView",
       "description": "",
       "description_tooltip": null,
       "layout": "IPY_MODEL_81a76651769a43e590165ecdec86ea6d",
       "placeholder": "​",
       "style": "IPY_MODEL_576ff1ac7f8e454eaf71c569f531dbd1",
       "value": " 226k/226k [00:00&lt;00:00, 629kB/s]"
      }
     },
     "708cb0f038ff406c9c80b9d1b80b47d2": {
      "model_module": "@jupyter-widgets/controls",
      "model_module_version": "1.5.0",
      "model_name": "FloatProgressModel",
      "state": {
       "_dom_classes": [],
       "_model_module": "@jupyter-widgets/controls",
       "_model_module_version": "1.5.0",
       "_model_name": "FloatProgressModel",
       "_view_count": null,
       "_view_module": "@jupyter-widgets/controls",
       "_view_module_version": "1.5.0",
       "_view_name": "ProgressView",
       "bar_style": "danger",
       "description": "",
       "description_tooltip": null,
       "layout": "IPY_MODEL_9309f88015cf4707805a894a81c82026",
       "max": 800,
       "min": 0,
       "orientation": "horizontal",
       "style": "IPY_MODEL_40a08f39c9b646cd94724726f0839e43",
       "value": 2
      }
     },
     "74672107c670422cae6ea10f1b824edc": {
      "model_module": "@jupyter-widgets/controls",
      "model_module_version": "1.5.0",
      "model_name": "HTMLModel",
      "state": {
       "_dom_classes": [],
       "_model_module": "@jupyter-widgets/controls",
       "_model_module_version": "1.5.0",
       "_model_name": "HTMLModel",
       "_view_count": null,
       "_view_module": "@jupyter-widgets/controls",
       "_view_module_version": "1.5.0",
       "_view_name": "HTMLView",
       "description": "",
       "description_tooltip": null,
       "layout": "IPY_MODEL_e2b500c5ef6c44179f1a5c635e508311",
       "placeholder": "​",
       "style": "IPY_MODEL_8989ae124d92473cba0abd7a52a3172d",
       "value": "Downloading: 100%"
      }
     },
     "79488d85d2e14049ad9f9a17e6188380": {
      "model_module": "@jupyter-widgets/controls",
      "model_module_version": "1.5.0",
      "model_name": "DescriptionStyleModel",
      "state": {
       "_model_module": "@jupyter-widgets/controls",
       "_model_module_version": "1.5.0",
       "_model_name": "DescriptionStyleModel",
       "_view_count": null,
       "_view_module": "@jupyter-widgets/base",
       "_view_module_version": "1.2.0",
       "_view_name": "StyleView",
       "description_width": ""
      }
     },
     "7985ab8c0f7f4a5fb0f4bc99da7d0ec3": {
      "model_module": "@jupyter-widgets/base",
      "model_module_version": "1.2.0",
      "model_name": "LayoutModel",
      "state": {
       "_model_module": "@jupyter-widgets/base",
       "_model_module_version": "1.2.0",
       "_model_name": "LayoutModel",
       "_view_count": null,
       "_view_module": "@jupyter-widgets/base",
       "_view_module_version": "1.2.0",
       "_view_name": "LayoutView",
       "align_content": null,
       "align_items": null,
       "align_self": null,
       "border": null,
       "bottom": null,
       "display": null,
       "flex": null,
       "flex_flow": null,
       "grid_area": null,
       "grid_auto_columns": null,
       "grid_auto_flow": null,
       "grid_auto_rows": null,
       "grid_column": null,
       "grid_gap": null,
       "grid_row": null,
       "grid_template_areas": null,
       "grid_template_columns": null,
       "grid_template_rows": null,
       "height": null,
       "justify_content": null,
       "justify_items": null,
       "left": null,
       "margin": null,
       "max_height": null,
       "max_width": null,
       "min_height": null,
       "min_width": null,
       "object_fit": null,
       "object_position": null,
       "order": null,
       "overflow": null,
       "overflow_x": null,
       "overflow_y": null,
       "padding": null,
       "right": null,
       "top": null,
       "visibility": null,
       "width": null
      }
     },
     "798dacc5e00543c394875c4d02f2bc95": {
      "model_module": "@jupyter-widgets/controls",
      "model_module_version": "1.5.0",
      "model_name": "DescriptionStyleModel",
      "state": {
       "_model_module": "@jupyter-widgets/controls",
       "_model_module_version": "1.5.0",
       "_model_name": "DescriptionStyleModel",
       "_view_count": null,
       "_view_module": "@jupyter-widgets/base",
       "_view_module_version": "1.2.0",
       "_view_name": "StyleView",
       "description_width": ""
      }
     },
     "7c432dd4b224455eba6a8c166575342c": {
      "model_module": "@jupyter-widgets/controls",
      "model_module_version": "1.5.0",
      "model_name": "HTMLModel",
      "state": {
       "_dom_classes": [],
       "_model_module": "@jupyter-widgets/controls",
       "_model_module_version": "1.5.0",
       "_model_name": "HTMLModel",
       "_view_count": null,
       "_view_module": "@jupyter-widgets/controls",
       "_view_module_version": "1.5.0",
       "_view_name": "HTMLView",
       "description": "",
       "description_tooltip": null,
       "layout": "IPY_MODEL_49dd9f8352ba493d85b0e6275634a53f",
       "placeholder": "​",
       "style": "IPY_MODEL_489bb6fe30d04d859da2db546bc9bf44",
       "value": "Epochs 0/1. Running Loss:    0.7348: 100%"
      }
     },
     "7e7eea5618b343d588178522f6a43a40": {
      "model_module": "@jupyter-widgets/base",
      "model_module_version": "1.2.0",
      "model_name": "LayoutModel",
      "state": {
       "_model_module": "@jupyter-widgets/base",
       "_model_module_version": "1.2.0",
       "_model_name": "LayoutModel",
       "_view_count": null,
       "_view_module": "@jupyter-widgets/base",
       "_view_module_version": "1.2.0",
       "_view_name": "LayoutView",
       "align_content": null,
       "align_items": null,
       "align_self": null,
       "border": null,
       "bottom": null,
       "display": null,
       "flex": null,
       "flex_flow": null,
       "grid_area": null,
       "grid_auto_columns": null,
       "grid_auto_flow": null,
       "grid_auto_rows": null,
       "grid_column": null,
       "grid_gap": null,
       "grid_row": null,
       "grid_template_areas": null,
       "grid_template_columns": null,
       "grid_template_rows": null,
       "height": null,
       "justify_content": null,
       "justify_items": null,
       "left": null,
       "margin": null,
       "max_height": null,
       "max_width": null,
       "min_height": null,
       "min_width": null,
       "object_fit": null,
       "object_position": null,
       "order": null,
       "overflow": null,
       "overflow_x": null,
       "overflow_y": null,
       "padding": null,
       "right": null,
       "top": null,
       "visibility": null,
       "width": null
      }
     },
     "81a76651769a43e590165ecdec86ea6d": {
      "model_module": "@jupyter-widgets/base",
      "model_module_version": "1.2.0",
      "model_name": "LayoutModel",
      "state": {
       "_model_module": "@jupyter-widgets/base",
       "_model_module_version": "1.2.0",
       "_model_name": "LayoutModel",
       "_view_count": null,
       "_view_module": "@jupyter-widgets/base",
       "_view_module_version": "1.2.0",
       "_view_name": "LayoutView",
       "align_content": null,
       "align_items": null,
       "align_self": null,
       "border": null,
       "bottom": null,
       "display": null,
       "flex": null,
       "flex_flow": null,
       "grid_area": null,
       "grid_auto_columns": null,
       "grid_auto_flow": null,
       "grid_auto_rows": null,
       "grid_column": null,
       "grid_gap": null,
       "grid_row": null,
       "grid_template_areas": null,
       "grid_template_columns": null,
       "grid_template_rows": null,
       "height": null,
       "justify_content": null,
       "justify_items": null,
       "left": null,
       "margin": null,
       "max_height": null,
       "max_width": null,
       "min_height": null,
       "min_width": null,
       "object_fit": null,
       "object_position": null,
       "order": null,
       "overflow": null,
       "overflow_x": null,
       "overflow_y": null,
       "padding": null,
       "right": null,
       "top": null,
       "visibility": null,
       "width": null
      }
     },
     "8281c47951ea4554b02ba58cb4e5d836": {
      "model_module": "@jupyter-widgets/controls",
      "model_module_version": "1.5.0",
      "model_name": "ProgressStyleModel",
      "state": {
       "_model_module": "@jupyter-widgets/controls",
       "_model_module_version": "1.5.0",
       "_model_name": "ProgressStyleModel",
       "_view_count": null,
       "_view_module": "@jupyter-widgets/base",
       "_view_module_version": "1.2.0",
       "_view_name": "StyleView",
       "bar_color": null,
       "description_width": ""
      }
     },
     "8647fc933cc143ac8732c13db8c7e039": {
      "model_module": "@jupyter-widgets/controls",
      "model_module_version": "1.5.0",
      "model_name": "FloatProgressModel",
      "state": {
       "_dom_classes": [],
       "_model_module": "@jupyter-widgets/controls",
       "_model_module_version": "1.5.0",
       "_model_name": "FloatProgressModel",
       "_view_count": null,
       "_view_module": "@jupyter-widgets/controls",
       "_view_module_version": "1.5.0",
       "_view_name": "ProgressView",
       "bar_style": "danger",
       "description": "",
       "description_tooltip": null,
       "layout": "IPY_MODEL_47aa0853f6b94be4bb1948de95894591",
       "max": 800,
       "min": 0,
       "orientation": "horizontal",
       "style": "IPY_MODEL_ce907383324a439f87272214ac002206",
       "value": 2
      }
     },
     "86877df5ac1047bd8ecb9fc9b1cd9e22": {
      "model_module": "@jupyter-widgets/controls",
      "model_module_version": "1.5.0",
      "model_name": "ProgressStyleModel",
      "state": {
       "_model_module": "@jupyter-widgets/controls",
       "_model_module_version": "1.5.0",
       "_model_name": "ProgressStyleModel",
       "_view_count": null,
       "_view_module": "@jupyter-widgets/base",
       "_view_module_version": "1.2.0",
       "_view_name": "StyleView",
       "bar_color": null,
       "description_width": ""
      }
     },
     "88df3fea457d4df4992a2ba5e7d2b5a5": {
      "model_module": "@jupyter-widgets/base",
      "model_module_version": "1.2.0",
      "model_name": "LayoutModel",
      "state": {
       "_model_module": "@jupyter-widgets/base",
       "_model_module_version": "1.2.0",
       "_model_name": "LayoutModel",
       "_view_count": null,
       "_view_module": "@jupyter-widgets/base",
       "_view_module_version": "1.2.0",
       "_view_name": "LayoutView",
       "align_content": null,
       "align_items": null,
       "align_self": null,
       "border": null,
       "bottom": null,
       "display": null,
       "flex": null,
       "flex_flow": null,
       "grid_area": null,
       "grid_auto_columns": null,
       "grid_auto_flow": null,
       "grid_auto_rows": null,
       "grid_column": null,
       "grid_gap": null,
       "grid_row": null,
       "grid_template_areas": null,
       "grid_template_columns": null,
       "grid_template_rows": null,
       "height": null,
       "justify_content": null,
       "justify_items": null,
       "left": null,
       "margin": null,
       "max_height": null,
       "max_width": null,
       "min_height": null,
       "min_width": null,
       "object_fit": null,
       "object_position": null,
       "order": null,
       "overflow": null,
       "overflow_x": null,
       "overflow_y": null,
       "padding": null,
       "right": null,
       "top": null,
       "visibility": null,
       "width": null
      }
     },
     "8922e02ea3b94cf883f272af6922171f": {
      "model_module": "@jupyter-widgets/controls",
      "model_module_version": "1.5.0",
      "model_name": "FloatProgressModel",
      "state": {
       "_dom_classes": [],
       "_model_module": "@jupyter-widgets/controls",
       "_model_module_version": "1.5.0",
       "_model_name": "FloatProgressModel",
       "_view_count": null,
       "_view_module": "@jupyter-widgets/controls",
       "_view_module_version": "1.5.0",
       "_view_name": "ProgressView",
       "bar_style": "success",
       "description": "",
       "description_tooltip": null,
       "layout": "IPY_MODEL_4cd1ae3855f34c4290adaa70dbcf59d8",
       "max": 570,
       "min": 0,
       "orientation": "horizontal",
       "style": "IPY_MODEL_34d2abfdf0504ae79e7f8b65e8ea398c",
       "value": 570
      }
     },
     "8989ae124d92473cba0abd7a52a3172d": {
      "model_module": "@jupyter-widgets/controls",
      "model_module_version": "1.5.0",
      "model_name": "DescriptionStyleModel",
      "state": {
       "_model_module": "@jupyter-widgets/controls",
       "_model_module_version": "1.5.0",
       "_model_name": "DescriptionStyleModel",
       "_view_count": null,
       "_view_module": "@jupyter-widgets/base",
       "_view_module_version": "1.2.0",
       "_view_name": "StyleView",
       "description_width": ""
      }
     },
     "8f7c118e4987453ea0d2559b6deb51f9": {
      "model_module": "@jupyter-widgets/base",
      "model_module_version": "1.2.0",
      "model_name": "LayoutModel",
      "state": {
       "_model_module": "@jupyter-widgets/base",
       "_model_module_version": "1.2.0",
       "_model_name": "LayoutModel",
       "_view_count": null,
       "_view_module": "@jupyter-widgets/base",
       "_view_module_version": "1.2.0",
       "_view_name": "LayoutView",
       "align_content": null,
       "align_items": null,
       "align_self": null,
       "border": null,
       "bottom": null,
       "display": null,
       "flex": null,
       "flex_flow": null,
       "grid_area": null,
       "grid_auto_columns": null,
       "grid_auto_flow": null,
       "grid_auto_rows": null,
       "grid_column": null,
       "grid_gap": null,
       "grid_row": null,
       "grid_template_areas": null,
       "grid_template_columns": null,
       "grid_template_rows": null,
       "height": null,
       "justify_content": null,
       "justify_items": null,
       "left": null,
       "margin": null,
       "max_height": null,
       "max_width": null,
       "min_height": null,
       "min_width": null,
       "object_fit": null,
       "object_position": null,
       "order": null,
       "overflow": null,
       "overflow_x": null,
       "overflow_y": null,
       "padding": null,
       "right": null,
       "top": null,
       "visibility": null,
       "width": null
      }
     },
     "8f9726ea879c4cc4ac4d4b7d6110dda8": {
      "model_module": "@jupyter-widgets/base",
      "model_module_version": "1.2.0",
      "model_name": "LayoutModel",
      "state": {
       "_model_module": "@jupyter-widgets/base",
       "_model_module_version": "1.2.0",
       "_model_name": "LayoutModel",
       "_view_count": null,
       "_view_module": "@jupyter-widgets/base",
       "_view_module_version": "1.2.0",
       "_view_name": "LayoutView",
       "align_content": null,
       "align_items": null,
       "align_self": null,
       "border": null,
       "bottom": null,
       "display": null,
       "flex": null,
       "flex_flow": null,
       "grid_area": null,
       "grid_auto_columns": null,
       "grid_auto_flow": null,
       "grid_auto_rows": null,
       "grid_column": null,
       "grid_gap": null,
       "grid_row": null,
       "grid_template_areas": null,
       "grid_template_columns": null,
       "grid_template_rows": null,
       "height": null,
       "justify_content": null,
       "justify_items": null,
       "left": null,
       "margin": null,
       "max_height": null,
       "max_width": null,
       "min_height": null,
       "min_width": null,
       "object_fit": null,
       "object_position": null,
       "order": null,
       "overflow": null,
       "overflow_x": null,
       "overflow_y": null,
       "padding": null,
       "right": null,
       "top": null,
       "visibility": null,
       "width": null
      }
     },
     "9309f88015cf4707805a894a81c82026": {
      "model_module": "@jupyter-widgets/base",
      "model_module_version": "1.2.0",
      "model_name": "LayoutModel",
      "state": {
       "_model_module": "@jupyter-widgets/base",
       "_model_module_version": "1.2.0",
       "_model_name": "LayoutModel",
       "_view_count": null,
       "_view_module": "@jupyter-widgets/base",
       "_view_module_version": "1.2.0",
       "_view_name": "LayoutView",
       "align_content": null,
       "align_items": null,
       "align_self": null,
       "border": null,
       "bottom": null,
       "display": null,
       "flex": null,
       "flex_flow": null,
       "grid_area": null,
       "grid_auto_columns": null,
       "grid_auto_flow": null,
       "grid_auto_rows": null,
       "grid_column": null,
       "grid_gap": null,
       "grid_row": null,
       "grid_template_areas": null,
       "grid_template_columns": null,
       "grid_template_rows": null,
       "height": null,
       "justify_content": null,
       "justify_items": null,
       "left": null,
       "margin": null,
       "max_height": null,
       "max_width": null,
       "min_height": null,
       "min_width": null,
       "object_fit": null,
       "object_position": null,
       "order": null,
       "overflow": null,
       "overflow_x": null,
       "overflow_y": null,
       "padding": null,
       "right": null,
       "top": null,
       "visibility": null,
       "width": null
      }
     },
     "935351dedf5e4ed8abcc79b8baad3bd4": {
      "model_module": "@jupyter-widgets/controls",
      "model_module_version": "1.5.0",
      "model_name": "HTMLModel",
      "state": {
       "_dom_classes": [],
       "_model_module": "@jupyter-widgets/controls",
       "_model_module_version": "1.5.0",
       "_model_name": "HTMLModel",
       "_view_count": null,
       "_view_module": "@jupyter-widgets/controls",
       "_view_module_version": "1.5.0",
       "_view_name": "HTMLView",
       "description": "",
       "description_tooltip": null,
       "layout": "IPY_MODEL_314195c4df1c450d9edb9a6efcdba29f",
       "placeholder": "​",
       "style": "IPY_MODEL_26c7569ebcb8443db12b11a7d007ce87",
       "value": "Epoch 1 of 1: 100%"
      }
     },
     "9562137727b740608d6a028073439c51": {
      "model_module": "@jupyter-widgets/base",
      "model_module_version": "1.2.0",
      "model_name": "LayoutModel",
      "state": {
       "_model_module": "@jupyter-widgets/base",
       "_model_module_version": "1.2.0",
       "_model_name": "LayoutModel",
       "_view_count": null,
       "_view_module": "@jupyter-widgets/base",
       "_view_module_version": "1.2.0",
       "_view_name": "LayoutView",
       "align_content": null,
       "align_items": null,
       "align_self": null,
       "border": null,
       "bottom": null,
       "display": null,
       "flex": null,
       "flex_flow": null,
       "grid_area": null,
       "grid_auto_columns": null,
       "grid_auto_flow": null,
       "grid_auto_rows": null,
       "grid_column": null,
       "grid_gap": null,
       "grid_row": null,
       "grid_template_areas": null,
       "grid_template_columns": null,
       "grid_template_rows": null,
       "height": null,
       "justify_content": null,
       "justify_items": null,
       "left": null,
       "margin": null,
       "max_height": null,
       "max_width": null,
       "min_height": null,
       "min_width": null,
       "object_fit": null,
       "object_position": null,
       "order": null,
       "overflow": null,
       "overflow_x": null,
       "overflow_y": null,
       "padding": null,
       "right": null,
       "top": null,
       "visibility": null,
       "width": null
      }
     },
     "9a1bb15049d24d52b84e2089df79fa6e": {
      "model_module": "@jupyter-widgets/controls",
      "model_module_version": "1.5.0",
      "model_name": "FloatProgressModel",
      "state": {
       "_dom_classes": [],
       "_model_module": "@jupyter-widgets/controls",
       "_model_module_version": "1.5.0",
       "_model_name": "FloatProgressModel",
       "_view_count": null,
       "_view_module": "@jupyter-widgets/controls",
       "_view_module_version": "1.5.0",
       "_view_name": "ProgressView",
       "bar_style": "success",
       "description": "",
       "description_tooltip": null,
       "layout": "IPY_MODEL_7e7eea5618b343d588178522f6a43a40",
       "max": 28,
       "min": 0,
       "orientation": "horizontal",
       "style": "IPY_MODEL_48446d00407f4e7a8599566b594b1f55",
       "value": 28
      }
     },
     "9b38277fb093469081c3d3dbcfca5ebf": {
      "model_module": "@jupyter-widgets/controls",
      "model_module_version": "1.5.0",
      "model_name": "HTMLModel",
      "state": {
       "_dom_classes": [],
       "_model_module": "@jupyter-widgets/controls",
       "_model_module_version": "1.5.0",
       "_model_name": "HTMLModel",
       "_view_count": null,
       "_view_module": "@jupyter-widgets/controls",
       "_view_module_version": "1.5.0",
       "_view_name": "HTMLView",
       "description": "",
       "description_tooltip": null,
       "layout": "IPY_MODEL_5bf2519361da436d9538908be3c5322f",
       "placeholder": "​",
       "style": "IPY_MODEL_d2be7022b9c34ed38fc559f30e7586c5",
       "value": "Downloading: 100%"
      }
     },
     "9b6df2f254974bdf91a9c4d0525ff2a7": {
      "model_module": "@jupyter-widgets/controls",
      "model_module_version": "1.5.0",
      "model_name": "HBoxModel",
      "state": {
       "_dom_classes": [],
       "_model_module": "@jupyter-widgets/controls",
       "_model_module_version": "1.5.0",
       "_model_name": "HBoxModel",
       "_view_count": null,
       "_view_module": "@jupyter-widgets/controls",
       "_view_module_version": "1.5.0",
       "_view_name": "HBoxView",
       "box_style": "",
       "children": [
        "IPY_MODEL_af6c4e6ff75d49f389029ff4fc1ab3d1",
        "IPY_MODEL_d2934499f13649f6b4d7333649e6504d",
        "IPY_MODEL_a10b7c406cd64661906ebd4861b20fef"
       ],
       "layout": "IPY_MODEL_486c7950d5ae4405ba38c4ff1cdb15d0"
      }
     },
     "9c1f548d73624450804909a84a457ecd": {
      "model_module": "@jupyter-widgets/controls",
      "model_module_version": "1.5.0",
      "model_name": "HBoxModel",
      "state": {
       "_dom_classes": [],
       "_model_module": "@jupyter-widgets/controls",
       "_model_module_version": "1.5.0",
       "_model_name": "HBoxModel",
       "_view_count": null,
       "_view_module": "@jupyter-widgets/controls",
       "_view_module_version": "1.5.0",
       "_view_name": "HBoxView",
       "box_style": "",
       "children": [
        "IPY_MODEL_9b38277fb093469081c3d3dbcfca5ebf",
        "IPY_MODEL_9a1bb15049d24d52b84e2089df79fa6e",
        "IPY_MODEL_35e8511274cf4236b9b4497b2052dc60"
       ],
       "layout": "IPY_MODEL_3b4c56a032304fdd87676f18be450790"
      }
     },
     "a10b7c406cd64661906ebd4861b20fef": {
      "model_module": "@jupyter-widgets/controls",
      "model_module_version": "1.5.0",
      "model_name": "HTMLModel",
      "state": {
       "_dom_classes": [],
       "_model_module": "@jupyter-widgets/controls",
       "_model_module_version": "1.5.0",
       "_model_name": "HTMLModel",
       "_view_count": null,
       "_view_module": "@jupyter-widgets/controls",
       "_view_module_version": "1.5.0",
       "_view_name": "HTMLView",
       "description": "",
       "description_tooltip": null,
       "layout": "IPY_MODEL_5d1fac69fcba4f8eb2aafd7782077709",
       "placeholder": "​",
       "style": "IPY_MODEL_254cdafe3d474d9a9ba723265100aa67",
       "value": " 420M/420M [00:38&lt;00:00, 12.3MB/s]"
      }
     },
     "a3faf9aedcc3483e9f24535ad378b131": {
      "model_module": "@jupyter-widgets/controls",
      "model_module_version": "1.5.0",
      "model_name": "HTMLModel",
      "state": {
       "_dom_classes": [],
       "_model_module": "@jupyter-widgets/controls",
       "_model_module_version": "1.5.0",
       "_model_name": "HTMLModel",
       "_view_count": null,
       "_view_module": "@jupyter-widgets/controls",
       "_view_module_version": "1.5.0",
       "_view_name": "HTMLView",
       "description": "",
       "description_tooltip": null,
       "layout": "IPY_MODEL_cfcafc8ad24141b7b5b9bdcfdd115bf6",
       "placeholder": "​",
       "style": "IPY_MODEL_6654924b3dc54acf92d547d9b3ec3d24",
       "value": " 100/100 [00:13&lt;00:00,  6.85it/s]"
      }
     },
     "a9f7fbb29d974a479feb2aff4e82f57f": {
      "model_module": "@jupyter-widgets/controls",
      "model_module_version": "1.5.0",
      "model_name": "HBoxModel",
      "state": {
       "_dom_classes": [],
       "_model_module": "@jupyter-widgets/controls",
       "_model_module_version": "1.5.0",
       "_model_name": "HBoxModel",
       "_view_count": null,
       "_view_module": "@jupyter-widgets/controls",
       "_view_module_version": "1.5.0",
       "_view_name": "HBoxView",
       "box_style": "",
       "children": [
        "IPY_MODEL_fb7dd4fd6f9f4db782e63d8b7757c2d7",
        "IPY_MODEL_708cb0f038ff406c9c80b9d1b80b47d2",
        "IPY_MODEL_c00898aee4b04319bad806f8109051d8"
       ],
       "layout": "IPY_MODEL_e361761cd7024d42a7ce51408b329576"
      }
     },
     "aa561cab468c4eeba3b45996e606c16f": {
      "model_module": "@jupyter-widgets/base",
      "model_module_version": "1.2.0",
      "model_name": "LayoutModel",
      "state": {
       "_model_module": "@jupyter-widgets/base",
       "_model_module_version": "1.2.0",
       "_model_name": "LayoutModel",
       "_view_count": null,
       "_view_module": "@jupyter-widgets/base",
       "_view_module_version": "1.2.0",
       "_view_name": "LayoutView",
       "align_content": null,
       "align_items": null,
       "align_self": null,
       "border": null,
       "bottom": null,
       "display": null,
       "flex": null,
       "flex_flow": null,
       "grid_area": null,
       "grid_auto_columns": null,
       "grid_auto_flow": null,
       "grid_auto_rows": null,
       "grid_column": null,
       "grid_gap": null,
       "grid_row": null,
       "grid_template_areas": null,
       "grid_template_columns": null,
       "grid_template_rows": null,
       "height": null,
       "justify_content": null,
       "justify_items": null,
       "left": null,
       "margin": null,
       "max_height": null,
       "max_width": null,
       "min_height": null,
       "min_width": null,
       "object_fit": null,
       "object_position": null,
       "order": null,
       "overflow": null,
       "overflow_x": null,
       "overflow_y": null,
       "padding": null,
       "right": null,
       "top": null,
       "visibility": null,
       "width": null
      }
     },
     "aa6723754150433f88aef4077b0aecca": {
      "model_module": "@jupyter-widgets/controls",
      "model_module_version": "1.5.0",
      "model_name": "FloatProgressModel",
      "state": {
       "_dom_classes": [],
       "_model_module": "@jupyter-widgets/controls",
       "_model_module_version": "1.5.0",
       "_model_name": "FloatProgressModel",
       "_view_count": null,
       "_view_module": "@jupyter-widgets/controls",
       "_view_module_version": "1.5.0",
       "_view_name": "ProgressView",
       "bar_style": "success",
       "description": "",
       "description_tooltip": null,
       "layout": "IPY_MODEL_0448a776a48e4b76b24c1b4d58b78bef",
       "max": 100,
       "min": 0,
       "orientation": "horizontal",
       "style": "IPY_MODEL_ddbb83c8f21f4213913da5a6bba278e8",
       "value": 100
      }
     },
     "af6c4e6ff75d49f389029ff4fc1ab3d1": {
      "model_module": "@jupyter-widgets/controls",
      "model_module_version": "1.5.0",
      "model_name": "HTMLModel",
      "state": {
       "_dom_classes": [],
       "_model_module": "@jupyter-widgets/controls",
       "_model_module_version": "1.5.0",
       "_model_name": "HTMLModel",
       "_view_count": null,
       "_view_module": "@jupyter-widgets/controls",
       "_view_module_version": "1.5.0",
       "_view_name": "HTMLView",
       "description": "",
       "description_tooltip": null,
       "layout": "IPY_MODEL_40236cf01ddf48908de2c592e11b3544",
       "placeholder": "​",
       "style": "IPY_MODEL_3a85f2f0f39f4595bb0a2bdb0676a8c7",
       "value": "Downloading: 100%"
      }
     },
     "b4d16a0c70c4443a80c63848da6fc827": {
      "model_module": "@jupyter-widgets/controls",
      "model_module_version": "1.5.0",
      "model_name": "HBoxModel",
      "state": {
       "_dom_classes": [],
       "_model_module": "@jupyter-widgets/controls",
       "_model_module_version": "1.5.0",
       "_model_name": "HBoxModel",
       "_view_count": null,
       "_view_module": "@jupyter-widgets/controls",
       "_view_module_version": "1.5.0",
       "_view_name": "HBoxView",
       "box_style": "",
       "children": [
        "IPY_MODEL_6d31879953ab4d2bb2324766303f5402",
        "IPY_MODEL_f063496fa31e4b83a804baacf9fe98fd",
        "IPY_MODEL_07ce0e6b97584eae975f828b5eec4466"
       ],
       "layout": "IPY_MODEL_fb58ccf4dc324bc58c0a8c38031335f8"
      }
     },
     "b54e962296ee4fb49cc7fe6258e49bec": {
      "model_module": "@jupyter-widgets/controls",
      "model_module_version": "1.5.0",
      "model_name": "DescriptionStyleModel",
      "state": {
       "_model_module": "@jupyter-widgets/controls",
       "_model_module_version": "1.5.0",
       "_model_name": "DescriptionStyleModel",
       "_view_count": null,
       "_view_module": "@jupyter-widgets/base",
       "_view_module_version": "1.2.0",
       "_view_name": "StyleView",
       "description_width": ""
      }
     },
     "b8d054e4133244d8ab2d71c20d786456": {
      "model_module": "@jupyter-widgets/controls",
      "model_module_version": "1.5.0",
      "model_name": "ProgressStyleModel",
      "state": {
       "_model_module": "@jupyter-widgets/controls",
       "_model_module_version": "1.5.0",
       "_model_name": "ProgressStyleModel",
       "_view_count": null,
       "_view_module": "@jupyter-widgets/base",
       "_view_module_version": "1.2.0",
       "_view_name": "StyleView",
       "bar_color": null,
       "description_width": ""
      }
     },
     "b979fd909b604dada589a771374b4550": {
      "model_module": "@jupyter-widgets/controls",
      "model_module_version": "1.5.0",
      "model_name": "DescriptionStyleModel",
      "state": {
       "_model_module": "@jupyter-widgets/controls",
       "_model_module_version": "1.5.0",
       "_model_name": "DescriptionStyleModel",
       "_view_count": null,
       "_view_module": "@jupyter-widgets/base",
       "_view_module_version": "1.2.0",
       "_view_name": "StyleView",
       "description_width": ""
      }
     },
     "ba814b1ad9aa4d18a4d348a6f3b6b5da": {
      "model_module": "@jupyter-widgets/base",
      "model_module_version": "1.2.0",
      "model_name": "LayoutModel",
      "state": {
       "_model_module": "@jupyter-widgets/base",
       "_model_module_version": "1.2.0",
       "_model_name": "LayoutModel",
       "_view_count": null,
       "_view_module": "@jupyter-widgets/base",
       "_view_module_version": "1.2.0",
       "_view_name": "LayoutView",
       "align_content": null,
       "align_items": null,
       "align_self": null,
       "border": null,
       "bottom": null,
       "display": null,
       "flex": null,
       "flex_flow": null,
       "grid_area": null,
       "grid_auto_columns": null,
       "grid_auto_flow": null,
       "grid_auto_rows": null,
       "grid_column": null,
       "grid_gap": null,
       "grid_row": null,
       "grid_template_areas": null,
       "grid_template_columns": null,
       "grid_template_rows": null,
       "height": null,
       "justify_content": null,
       "justify_items": null,
       "left": null,
       "margin": null,
       "max_height": null,
       "max_width": null,
       "min_height": null,
       "min_width": null,
       "object_fit": null,
       "object_position": null,
       "order": null,
       "overflow": null,
       "overflow_x": null,
       "overflow_y": null,
       "padding": null,
       "right": null,
       "top": null,
       "visibility": null,
       "width": null
      }
     },
     "bc682d55995a4793a8b8d25c68d28fca": {
      "model_module": "@jupyter-widgets/controls",
      "model_module_version": "1.5.0",
      "model_name": "HTMLModel",
      "state": {
       "_dom_classes": [],
       "_model_module": "@jupyter-widgets/controls",
       "_model_module_version": "1.5.0",
       "_model_name": "HTMLModel",
       "_view_count": null,
       "_view_module": "@jupyter-widgets/controls",
       "_view_module_version": "1.5.0",
       "_view_name": "HTMLView",
       "description": "",
       "description_tooltip": null,
       "layout": "IPY_MODEL_ceb65656ca89418e8522cf43a2c0f048",
       "placeholder": "​",
       "style": "IPY_MODEL_4ae6755c4b6348fdbf3aede21853188a",
       "value": " 2/800 [00:00&lt;04:55,  2.70it/s]"
      }
     },
     "be3c9954e8274509b2dc043d05cfd2a1": {
      "model_module": "@jupyter-widgets/controls",
      "model_module_version": "1.5.0",
      "model_name": "FloatProgressModel",
      "state": {
       "_dom_classes": [],
       "_model_module": "@jupyter-widgets/controls",
       "_model_module_version": "1.5.0",
       "_model_name": "FloatProgressModel",
       "_view_count": null,
       "_view_module": "@jupyter-widgets/controls",
       "_view_module_version": "1.5.0",
       "_view_name": "ProgressView",
       "bar_style": "success",
       "description": "",
       "description_tooltip": null,
       "layout": "IPY_MODEL_6220e52ad33b411481852e01c321ef93",
       "max": 1,
       "min": 0,
       "orientation": "horizontal",
       "style": "IPY_MODEL_d68ac435d1894efdbb93994b559eee86",
       "value": 1
      }
     },
     "c00898aee4b04319bad806f8109051d8": {
      "model_module": "@jupyter-widgets/controls",
      "model_module_version": "1.5.0",
      "model_name": "HTMLModel",
      "state": {
       "_dom_classes": [],
       "_model_module": "@jupyter-widgets/controls",
       "_model_module_version": "1.5.0",
       "_model_name": "HTMLModel",
       "_view_count": null,
       "_view_module": "@jupyter-widgets/controls",
       "_view_module_version": "1.5.0",
       "_view_name": "HTMLView",
       "description": "",
       "description_tooltip": null,
       "layout": "IPY_MODEL_8f7c118e4987453ea0d2559b6deb51f9",
       "placeholder": "​",
       "style": "IPY_MODEL_d7f383ebdccf41d182dfd7fa6452471e",
       "value": " 2/800 [00:00&lt;05:08,  2.59it/s]"
      }
     },
     "c1347b87fc6c4ebab868d36fa6a77eb2": {
      "model_module": "@jupyter-widgets/base",
      "model_module_version": "1.2.0",
      "model_name": "LayoutModel",
      "state": {
       "_model_module": "@jupyter-widgets/base",
       "_model_module_version": "1.2.0",
       "_model_name": "LayoutModel",
       "_view_count": null,
       "_view_module": "@jupyter-widgets/base",
       "_view_module_version": "1.2.0",
       "_view_name": "LayoutView",
       "align_content": null,
       "align_items": null,
       "align_self": null,
       "border": null,
       "bottom": null,
       "display": null,
       "flex": null,
       "flex_flow": null,
       "grid_area": null,
       "grid_auto_columns": null,
       "grid_auto_flow": null,
       "grid_auto_rows": null,
       "grid_column": null,
       "grid_gap": null,
       "grid_row": null,
       "grid_template_areas": null,
       "grid_template_columns": null,
       "grid_template_rows": null,
       "height": null,
       "justify_content": null,
       "justify_items": null,
       "left": null,
       "margin": null,
       "max_height": null,
       "max_width": null,
       "min_height": null,
       "min_width": null,
       "object_fit": null,
       "object_position": null,
       "order": null,
       "overflow": null,
       "overflow_x": null,
       "overflow_y": null,
       "padding": null,
       "right": null,
       "top": null,
       "visibility": null,
       "width": null
      }
     },
     "c7058d95594a46c0a012ae1d462b1039": {
      "model_module": "@jupyter-widgets/base",
      "model_module_version": "1.2.0",
      "model_name": "LayoutModel",
      "state": {
       "_model_module": "@jupyter-widgets/base",
       "_model_module_version": "1.2.0",
       "_model_name": "LayoutModel",
       "_view_count": null,
       "_view_module": "@jupyter-widgets/base",
       "_view_module_version": "1.2.0",
       "_view_name": "LayoutView",
       "align_content": null,
       "align_items": null,
       "align_self": null,
       "border": null,
       "bottom": null,
       "display": null,
       "flex": null,
       "flex_flow": null,
       "grid_area": null,
       "grid_auto_columns": null,
       "grid_auto_flow": null,
       "grid_auto_rows": null,
       "grid_column": null,
       "grid_gap": null,
       "grid_row": null,
       "grid_template_areas": null,
       "grid_template_columns": null,
       "grid_template_rows": null,
       "height": null,
       "justify_content": null,
       "justify_items": null,
       "left": null,
       "margin": null,
       "max_height": null,
       "max_width": null,
       "min_height": null,
       "min_width": null,
       "object_fit": null,
       "object_position": null,
       "order": null,
       "overflow": null,
       "overflow_x": null,
       "overflow_y": null,
       "padding": null,
       "right": null,
       "top": null,
       "visibility": null,
       "width": null
      }
     },
     "cc7cc7c48a5742cda4bebf09cdddfb37": {
      "model_module": "@jupyter-widgets/controls",
      "model_module_version": "1.5.0",
      "model_name": "DescriptionStyleModel",
      "state": {
       "_model_module": "@jupyter-widgets/controls",
       "_model_module_version": "1.5.0",
       "_model_name": "DescriptionStyleModel",
       "_view_count": null,
       "_view_module": "@jupyter-widgets/base",
       "_view_module_version": "1.2.0",
       "_view_name": "StyleView",
       "description_width": ""
      }
     },
     "cd3cd3c9a40d433b99967cb9a919b189": {
      "model_module": "@jupyter-widgets/base",
      "model_module_version": "1.2.0",
      "model_name": "LayoutModel",
      "state": {
       "_model_module": "@jupyter-widgets/base",
       "_model_module_version": "1.2.0",
       "_model_name": "LayoutModel",
       "_view_count": null,
       "_view_module": "@jupyter-widgets/base",
       "_view_module_version": "1.2.0",
       "_view_name": "LayoutView",
       "align_content": null,
       "align_items": null,
       "align_self": null,
       "border": null,
       "bottom": null,
       "display": null,
       "flex": null,
       "flex_flow": null,
       "grid_area": null,
       "grid_auto_columns": null,
       "grid_auto_flow": null,
       "grid_auto_rows": null,
       "grid_column": null,
       "grid_gap": null,
       "grid_row": null,
       "grid_template_areas": null,
       "grid_template_columns": null,
       "grid_template_rows": null,
       "height": null,
       "justify_content": null,
       "justify_items": null,
       "left": null,
       "margin": null,
       "max_height": null,
       "max_width": null,
       "min_height": null,
       "min_width": null,
       "object_fit": null,
       "object_position": null,
       "order": null,
       "overflow": null,
       "overflow_x": null,
       "overflow_y": null,
       "padding": null,
       "right": null,
       "top": null,
       "visibility": null,
       "width": null
      }
     },
     "ce907383324a439f87272214ac002206": {
      "model_module": "@jupyter-widgets/controls",
      "model_module_version": "1.5.0",
      "model_name": "ProgressStyleModel",
      "state": {
       "_model_module": "@jupyter-widgets/controls",
       "_model_module_version": "1.5.0",
       "_model_name": "ProgressStyleModel",
       "_view_count": null,
       "_view_module": "@jupyter-widgets/base",
       "_view_module_version": "1.2.0",
       "_view_name": "StyleView",
       "bar_color": null,
       "description_width": ""
      }
     },
     "ceb65656ca89418e8522cf43a2c0f048": {
      "model_module": "@jupyter-widgets/base",
      "model_module_version": "1.2.0",
      "model_name": "LayoutModel",
      "state": {
       "_model_module": "@jupyter-widgets/base",
       "_model_module_version": "1.2.0",
       "_model_name": "LayoutModel",
       "_view_count": null,
       "_view_module": "@jupyter-widgets/base",
       "_view_module_version": "1.2.0",
       "_view_name": "LayoutView",
       "align_content": null,
       "align_items": null,
       "align_self": null,
       "border": null,
       "bottom": null,
       "display": null,
       "flex": null,
       "flex_flow": null,
       "grid_area": null,
       "grid_auto_columns": null,
       "grid_auto_flow": null,
       "grid_auto_rows": null,
       "grid_column": null,
       "grid_gap": null,
       "grid_row": null,
       "grid_template_areas": null,
       "grid_template_columns": null,
       "grid_template_rows": null,
       "height": null,
       "justify_content": null,
       "justify_items": null,
       "left": null,
       "margin": null,
       "max_height": null,
       "max_width": null,
       "min_height": null,
       "min_width": null,
       "object_fit": null,
       "object_position": null,
       "order": null,
       "overflow": null,
       "overflow_x": null,
       "overflow_y": null,
       "padding": null,
       "right": null,
       "top": null,
       "visibility": null,
       "width": null
      }
     },
     "cfcafc8ad24141b7b5b9bdcfdd115bf6": {
      "model_module": "@jupyter-widgets/base",
      "model_module_version": "1.2.0",
      "model_name": "LayoutModel",
      "state": {
       "_model_module": "@jupyter-widgets/base",
       "_model_module_version": "1.2.0",
       "_model_name": "LayoutModel",
       "_view_count": null,
       "_view_module": "@jupyter-widgets/base",
       "_view_module_version": "1.2.0",
       "_view_name": "LayoutView",
       "align_content": null,
       "align_items": null,
       "align_self": null,
       "border": null,
       "bottom": null,
       "display": null,
       "flex": null,
       "flex_flow": null,
       "grid_area": null,
       "grid_auto_columns": null,
       "grid_auto_flow": null,
       "grid_auto_rows": null,
       "grid_column": null,
       "grid_gap": null,
       "grid_row": null,
       "grid_template_areas": null,
       "grid_template_columns": null,
       "grid_template_rows": null,
       "height": null,
       "justify_content": null,
       "justify_items": null,
       "left": null,
       "margin": null,
       "max_height": null,
       "max_width": null,
       "min_height": null,
       "min_width": null,
       "object_fit": null,
       "object_position": null,
       "order": null,
       "overflow": null,
       "overflow_x": null,
       "overflow_y": null,
       "padding": null,
       "right": null,
       "top": null,
       "visibility": null,
       "width": null
      }
     },
     "d2934499f13649f6b4d7333649e6504d": {
      "model_module": "@jupyter-widgets/controls",
      "model_module_version": "1.5.0",
      "model_name": "FloatProgressModel",
      "state": {
       "_dom_classes": [],
       "_model_module": "@jupyter-widgets/controls",
       "_model_module_version": "1.5.0",
       "_model_name": "FloatProgressModel",
       "_view_count": null,
       "_view_module": "@jupyter-widgets/controls",
       "_view_module_version": "1.5.0",
       "_view_name": "ProgressView",
       "bar_style": "success",
       "description": "",
       "description_tooltip": null,
       "layout": "IPY_MODEL_ffebe6db720f4eeabec970f60736789f",
       "max": 440473133,
       "min": 0,
       "orientation": "horizontal",
       "style": "IPY_MODEL_d6d4470ea1154a9db6ec57c049800094",
       "value": 440473133
      }
     },
     "d2be7022b9c34ed38fc559f30e7586c5": {
      "model_module": "@jupyter-widgets/controls",
      "model_module_version": "1.5.0",
      "model_name": "DescriptionStyleModel",
      "state": {
       "_model_module": "@jupyter-widgets/controls",
       "_model_module_version": "1.5.0",
       "_model_name": "DescriptionStyleModel",
       "_view_count": null,
       "_view_module": "@jupyter-widgets/base",
       "_view_module_version": "1.2.0",
       "_view_name": "StyleView",
       "description_width": ""
      }
     },
     "d5bd8fd105cc426a9f30ae4c38196708": {
      "model_module": "@jupyter-widgets/controls",
      "model_module_version": "1.5.0",
      "model_name": "HBoxModel",
      "state": {
       "_dom_classes": [],
       "_model_module": "@jupyter-widgets/controls",
       "_model_module_version": "1.5.0",
       "_model_name": "HBoxModel",
       "_view_count": null,
       "_view_module": "@jupyter-widgets/controls",
       "_view_module_version": "1.5.0",
       "_view_name": "HBoxView",
       "box_style": "",
       "children": [
        "IPY_MODEL_3a9502913b0c4f2786c1b527cfd82432",
        "IPY_MODEL_8647fc933cc143ac8732c13db8c7e039",
        "IPY_MODEL_bc682d55995a4793a8b8d25c68d28fca"
       ],
       "layout": "IPY_MODEL_062dbf4090f445c1a2ca55f0a0a2e0fe"
      }
     },
     "d68ac435d1894efdbb93994b559eee86": {
      "model_module": "@jupyter-widgets/controls",
      "model_module_version": "1.5.0",
      "model_name": "ProgressStyleModel",
      "state": {
       "_model_module": "@jupyter-widgets/controls",
       "_model_module_version": "1.5.0",
       "_model_name": "ProgressStyleModel",
       "_view_count": null,
       "_view_module": "@jupyter-widgets/base",
       "_view_module_version": "1.2.0",
       "_view_name": "StyleView",
       "bar_color": null,
       "description_width": ""
      }
     },
     "d6d4470ea1154a9db6ec57c049800094": {
      "model_module": "@jupyter-widgets/controls",
      "model_module_version": "1.5.0",
      "model_name": "ProgressStyleModel",
      "state": {
       "_model_module": "@jupyter-widgets/controls",
       "_model_module_version": "1.5.0",
       "_model_name": "ProgressStyleModel",
       "_view_count": null,
       "_view_module": "@jupyter-widgets/base",
       "_view_module_version": "1.2.0",
       "_view_name": "StyleView",
       "bar_color": null,
       "description_width": ""
      }
     },
     "d7f383ebdccf41d182dfd7fa6452471e": {
      "model_module": "@jupyter-widgets/controls",
      "model_module_version": "1.5.0",
      "model_name": "DescriptionStyleModel",
      "state": {
       "_model_module": "@jupyter-widgets/controls",
       "_model_module_version": "1.5.0",
       "_model_name": "DescriptionStyleModel",
       "_view_count": null,
       "_view_module": "@jupyter-widgets/base",
       "_view_module_version": "1.2.0",
       "_view_name": "StyleView",
       "description_width": ""
      }
     },
     "d9132d24212e484baf31d75df32d0a73": {
      "model_module": "@jupyter-widgets/controls",
      "model_module_version": "1.5.0",
      "model_name": "HTMLModel",
      "state": {
       "_dom_classes": [],
       "_model_module": "@jupyter-widgets/controls",
       "_model_module_version": "1.5.0",
       "_model_name": "HTMLModel",
       "_view_count": null,
       "_view_module": "@jupyter-widgets/controls",
       "_view_module_version": "1.5.0",
       "_view_name": "HTMLView",
       "description": "",
       "description_tooltip": null,
       "layout": "IPY_MODEL_0f7de0bae5294f7cae06b44097b12a32",
       "placeholder": "​",
       "style": "IPY_MODEL_366d83adca0d428e8c7dfce06322f215",
       "value": " 1/1 [00:17&lt;00:00, 17.06s/it]"
      }
     },
     "da3fa61b71944f32968ee76bcf4a0fb8": {
      "model_module": "@jupyter-widgets/base",
      "model_module_version": "1.2.0",
      "model_name": "LayoutModel",
      "state": {
       "_model_module": "@jupyter-widgets/base",
       "_model_module_version": "1.2.0",
       "_model_name": "LayoutModel",
       "_view_count": null,
       "_view_module": "@jupyter-widgets/base",
       "_view_module_version": "1.2.0",
       "_view_name": "LayoutView",
       "align_content": null,
       "align_items": null,
       "align_self": null,
       "border": null,
       "bottom": null,
       "display": null,
       "flex": null,
       "flex_flow": null,
       "grid_area": null,
       "grid_auto_columns": null,
       "grid_auto_flow": null,
       "grid_auto_rows": null,
       "grid_column": null,
       "grid_gap": null,
       "grid_row": null,
       "grid_template_areas": null,
       "grid_template_columns": null,
       "grid_template_rows": null,
       "height": null,
       "justify_content": null,
       "justify_items": null,
       "left": null,
       "margin": null,
       "max_height": null,
       "max_width": null,
       "min_height": null,
       "min_width": null,
       "object_fit": null,
       "object_position": null,
       "order": null,
       "overflow": null,
       "overflow_x": null,
       "overflow_y": null,
       "padding": null,
       "right": null,
       "top": null,
       "visibility": null,
       "width": null
      }
     },
     "db32980c0cf4404e9632c8edd8b1713b": {
      "model_module": "@jupyter-widgets/controls",
      "model_module_version": "1.5.0",
      "model_name": "HBoxModel",
      "state": {
       "_dom_classes": [],
       "_model_module": "@jupyter-widgets/controls",
       "_model_module_version": "1.5.0",
       "_model_name": "HBoxModel",
       "_view_count": null,
       "_view_module": "@jupyter-widgets/controls",
       "_view_module_version": "1.5.0",
       "_view_name": "HBoxView",
       "box_style": "",
       "children": [
        "IPY_MODEL_041c53921e1843aba0d057bf547ed04a",
        "IPY_MODEL_3a5c823a94f942f6adfd990e9effab55",
        "IPY_MODEL_38ac1fd2612d4fc48dcd11b0a6e103a0"
       ],
       "layout": "IPY_MODEL_eb33acbe2bc84a05a9888c6df4f50f47"
      }
     },
     "dd13e12e06bb402fad41639d9d873d8e": {
      "model_module": "@jupyter-widgets/base",
      "model_module_version": "1.2.0",
      "model_name": "LayoutModel",
      "state": {
       "_model_module": "@jupyter-widgets/base",
       "_model_module_version": "1.2.0",
       "_model_name": "LayoutModel",
       "_view_count": null,
       "_view_module": "@jupyter-widgets/base",
       "_view_module_version": "1.2.0",
       "_view_name": "LayoutView",
       "align_content": null,
       "align_items": null,
       "align_self": null,
       "border": null,
       "bottom": null,
       "display": null,
       "flex": null,
       "flex_flow": null,
       "grid_area": null,
       "grid_auto_columns": null,
       "grid_auto_flow": null,
       "grid_auto_rows": null,
       "grid_column": null,
       "grid_gap": null,
       "grid_row": null,
       "grid_template_areas": null,
       "grid_template_columns": null,
       "grid_template_rows": null,
       "height": null,
       "justify_content": null,
       "justify_items": null,
       "left": null,
       "margin": null,
       "max_height": null,
       "max_width": null,
       "min_height": null,
       "min_width": null,
       "object_fit": null,
       "object_position": null,
       "order": null,
       "overflow": null,
       "overflow_x": null,
       "overflow_y": null,
       "padding": null,
       "right": null,
       "top": null,
       "visibility": null,
       "width": null
      }
     },
     "ddbb83c8f21f4213913da5a6bba278e8": {
      "model_module": "@jupyter-widgets/controls",
      "model_module_version": "1.5.0",
      "model_name": "ProgressStyleModel",
      "state": {
       "_model_module": "@jupyter-widgets/controls",
       "_model_module_version": "1.5.0",
       "_model_name": "ProgressStyleModel",
       "_view_count": null,
       "_view_module": "@jupyter-widgets/base",
       "_view_module_version": "1.2.0",
       "_view_name": "StyleView",
       "bar_color": null,
       "description_width": ""
      }
     },
     "e28648258d114b529d8843ba068e9dae": {
      "model_module": "@jupyter-widgets/base",
      "model_module_version": "1.2.0",
      "model_name": "LayoutModel",
      "state": {
       "_model_module": "@jupyter-widgets/base",
       "_model_module_version": "1.2.0",
       "_model_name": "LayoutModel",
       "_view_count": null,
       "_view_module": "@jupyter-widgets/base",
       "_view_module_version": "1.2.0",
       "_view_name": "LayoutView",
       "align_content": null,
       "align_items": null,
       "align_self": null,
       "border": null,
       "bottom": null,
       "display": null,
       "flex": null,
       "flex_flow": null,
       "grid_area": null,
       "grid_auto_columns": null,
       "grid_auto_flow": null,
       "grid_auto_rows": null,
       "grid_column": null,
       "grid_gap": null,
       "grid_row": null,
       "grid_template_areas": null,
       "grid_template_columns": null,
       "grid_template_rows": null,
       "height": null,
       "justify_content": null,
       "justify_items": null,
       "left": null,
       "margin": null,
       "max_height": null,
       "max_width": null,
       "min_height": null,
       "min_width": null,
       "object_fit": null,
       "object_position": null,
       "order": null,
       "overflow": null,
       "overflow_x": null,
       "overflow_y": null,
       "padding": null,
       "right": null,
       "top": null,
       "visibility": null,
       "width": null
      }
     },
     "e2b500c5ef6c44179f1a5c635e508311": {
      "model_module": "@jupyter-widgets/base",
      "model_module_version": "1.2.0",
      "model_name": "LayoutModel",
      "state": {
       "_model_module": "@jupyter-widgets/base",
       "_model_module_version": "1.2.0",
       "_model_name": "LayoutModel",
       "_view_count": null,
       "_view_module": "@jupyter-widgets/base",
       "_view_module_version": "1.2.0",
       "_view_name": "LayoutView",
       "align_content": null,
       "align_items": null,
       "align_self": null,
       "border": null,
       "bottom": null,
       "display": null,
       "flex": null,
       "flex_flow": null,
       "grid_area": null,
       "grid_auto_columns": null,
       "grid_auto_flow": null,
       "grid_auto_rows": null,
       "grid_column": null,
       "grid_gap": null,
       "grid_row": null,
       "grid_template_areas": null,
       "grid_template_columns": null,
       "grid_template_rows": null,
       "height": null,
       "justify_content": null,
       "justify_items": null,
       "left": null,
       "margin": null,
       "max_height": null,
       "max_width": null,
       "min_height": null,
       "min_width": null,
       "object_fit": null,
       "object_position": null,
       "order": null,
       "overflow": null,
       "overflow_x": null,
       "overflow_y": null,
       "padding": null,
       "right": null,
       "top": null,
       "visibility": null,
       "width": null
      }
     },
     "e361761cd7024d42a7ce51408b329576": {
      "model_module": "@jupyter-widgets/base",
      "model_module_version": "1.2.0",
      "model_name": "LayoutModel",
      "state": {
       "_model_module": "@jupyter-widgets/base",
       "_model_module_version": "1.2.0",
       "_model_name": "LayoutModel",
       "_view_count": null,
       "_view_module": "@jupyter-widgets/base",
       "_view_module_version": "1.2.0",
       "_view_name": "LayoutView",
       "align_content": null,
       "align_items": null,
       "align_self": null,
       "border": null,
       "bottom": null,
       "display": null,
       "flex": null,
       "flex_flow": null,
       "grid_area": null,
       "grid_auto_columns": null,
       "grid_auto_flow": null,
       "grid_auto_rows": null,
       "grid_column": null,
       "grid_gap": null,
       "grid_row": null,
       "grid_template_areas": null,
       "grid_template_columns": null,
       "grid_template_rows": null,
       "height": null,
       "justify_content": null,
       "justify_items": null,
       "left": null,
       "margin": null,
       "max_height": null,
       "max_width": null,
       "min_height": null,
       "min_width": null,
       "object_fit": null,
       "object_position": null,
       "order": null,
       "overflow": null,
       "overflow_x": null,
       "overflow_y": null,
       "padding": null,
       "right": null,
       "top": null,
       "visibility": null,
       "width": null
      }
     },
     "e41e20adb42c4d6683be57d6a12ebcd9": {
      "model_module": "@jupyter-widgets/base",
      "model_module_version": "1.2.0",
      "model_name": "LayoutModel",
      "state": {
       "_model_module": "@jupyter-widgets/base",
       "_model_module_version": "1.2.0",
       "_model_name": "LayoutModel",
       "_view_count": null,
       "_view_module": "@jupyter-widgets/base",
       "_view_module_version": "1.2.0",
       "_view_name": "LayoutView",
       "align_content": null,
       "align_items": null,
       "align_self": null,
       "border": null,
       "bottom": null,
       "display": null,
       "flex": null,
       "flex_flow": null,
       "grid_area": null,
       "grid_auto_columns": null,
       "grid_auto_flow": null,
       "grid_auto_rows": null,
       "grid_column": null,
       "grid_gap": null,
       "grid_row": null,
       "grid_template_areas": null,
       "grid_template_columns": null,
       "grid_template_rows": null,
       "height": null,
       "justify_content": null,
       "justify_items": null,
       "left": null,
       "margin": null,
       "max_height": null,
       "max_width": null,
       "min_height": null,
       "min_width": null,
       "object_fit": null,
       "object_position": null,
       "order": null,
       "overflow": null,
       "overflow_x": null,
       "overflow_y": null,
       "padding": null,
       "right": null,
       "top": null,
       "visibility": null,
       "width": null
      }
     },
     "e48ebd0624fe4737b238cb16521716cf": {
      "model_module": "@jupyter-widgets/controls",
      "model_module_version": "1.5.0",
      "model_name": "HTMLModel",
      "state": {
       "_dom_classes": [],
       "_model_module": "@jupyter-widgets/controls",
       "_model_module_version": "1.5.0",
       "_model_name": "HTMLModel",
       "_view_count": null,
       "_view_module": "@jupyter-widgets/controls",
       "_view_module_version": "1.5.0",
       "_view_name": "HTMLView",
       "description": "",
       "description_tooltip": null,
       "layout": "IPY_MODEL_024a56683a194c0e9c0ada3574ec83e7",
       "placeholder": "​",
       "style": "IPY_MODEL_b54e962296ee4fb49cc7fe6258e49bec",
       "value": "  0%"
      }
     },
     "eb33acbe2bc84a05a9888c6df4f50f47": {
      "model_module": "@jupyter-widgets/base",
      "model_module_version": "1.2.0",
      "model_name": "LayoutModel",
      "state": {
       "_model_module": "@jupyter-widgets/base",
       "_model_module_version": "1.2.0",
       "_model_name": "LayoutModel",
       "_view_count": null,
       "_view_module": "@jupyter-widgets/base",
       "_view_module_version": "1.2.0",
       "_view_name": "LayoutView",
       "align_content": null,
       "align_items": null,
       "align_self": null,
       "border": null,
       "bottom": null,
       "display": null,
       "flex": null,
       "flex_flow": null,
       "grid_area": null,
       "grid_auto_columns": null,
       "grid_auto_flow": null,
       "grid_auto_rows": null,
       "grid_column": null,
       "grid_gap": null,
       "grid_row": null,
       "grid_template_areas": null,
       "grid_template_columns": null,
       "grid_template_rows": null,
       "height": null,
       "justify_content": null,
       "justify_items": null,
       "left": null,
       "margin": null,
       "max_height": null,
       "max_width": null,
       "min_height": null,
       "min_width": null,
       "object_fit": null,
       "object_position": null,
       "order": null,
       "overflow": null,
       "overflow_x": null,
       "overflow_y": null,
       "padding": null,
       "right": null,
       "top": null,
       "visibility": null,
       "width": null
      }
     },
     "f063496fa31e4b83a804baacf9fe98fd": {
      "model_module": "@jupyter-widgets/controls",
      "model_module_version": "1.5.0",
      "model_name": "FloatProgressModel",
      "state": {
       "_dom_classes": [],
       "_model_module": "@jupyter-widgets/controls",
       "_model_module_version": "1.5.0",
       "_model_name": "FloatProgressModel",
       "_view_count": null,
       "_view_module": "@jupyter-widgets/controls",
       "_view_module_version": "1.5.0",
       "_view_name": "ProgressView",
       "bar_style": "success",
       "description": "",
       "description_tooltip": null,
       "layout": "IPY_MODEL_f74f92f419654153ae5d0013a325a44f",
       "max": 25,
       "min": 0,
       "orientation": "horizontal",
       "style": "IPY_MODEL_86877df5ac1047bd8ecb9fc9b1cd9e22",
       "value": 25
      }
     },
     "f1303946341541d798d8f5a6075dfe7a": {
      "model_module": "@jupyter-widgets/controls",
      "model_module_version": "1.5.0",
      "model_name": "HBoxModel",
      "state": {
       "_dom_classes": [],
       "_model_module": "@jupyter-widgets/controls",
       "_model_module_version": "1.5.0",
       "_model_name": "HBoxModel",
       "_view_count": null,
       "_view_module": "@jupyter-widgets/controls",
       "_view_module_version": "1.5.0",
       "_view_name": "HBoxView",
       "box_style": "",
       "children": [
        "IPY_MODEL_62b5e90d0e5f41278e640c0b2ffed68b",
        "IPY_MODEL_f132740c8c5147dca7a9ec6eb115d2b1",
        "IPY_MODEL_6e9918ed81a74b2a8cd5482846ce70e8"
       ],
       "layout": "IPY_MODEL_ba814b1ad9aa4d18a4d348a6f3b6b5da"
      }
     },
     "f132740c8c5147dca7a9ec6eb115d2b1": {
      "model_module": "@jupyter-widgets/controls",
      "model_module_version": "1.5.0",
      "model_name": "FloatProgressModel",
      "state": {
       "_dom_classes": [],
       "_model_module": "@jupyter-widgets/controls",
       "_model_module_version": "1.5.0",
       "_model_name": "FloatProgressModel",
       "_view_count": null,
       "_view_module": "@jupyter-widgets/controls",
       "_view_module_version": "1.5.0",
       "_view_name": "ProgressView",
       "bar_style": "success",
       "description": "",
       "description_tooltip": null,
       "layout": "IPY_MODEL_c1347b87fc6c4ebab868d36fa6a77eb2",
       "max": 231508,
       "min": 0,
       "orientation": "horizontal",
       "style": "IPY_MODEL_b8d054e4133244d8ab2d71c20d786456",
       "value": 231508
      }
     },
     "f639e76bc81d4632b4758b2e8dd750d2": {
      "model_module": "@jupyter-widgets/controls",
      "model_module_version": "1.5.0",
      "model_name": "HTMLModel",
      "state": {
       "_dom_classes": [],
       "_model_module": "@jupyter-widgets/controls",
       "_model_module_version": "1.5.0",
       "_model_name": "HTMLModel",
       "_view_count": null,
       "_view_module": "@jupyter-widgets/controls",
       "_view_module_version": "1.5.0",
       "_view_name": "HTMLView",
       "description": "",
       "description_tooltip": null,
       "layout": "IPY_MODEL_8f9726ea879c4cc4ac4d4b7d6110dda8",
       "placeholder": "​",
       "style": "IPY_MODEL_231af731e94846ce8bf10bba58440b02",
       "value": " 455k/455k [00:00&lt;00:00, 669kB/s]"
      }
     },
     "f64b6185a5cf4a7d8cb5bd542d472dcc": {
      "model_module": "@jupyter-widgets/controls",
      "model_module_version": "1.5.0",
      "model_name": "DescriptionStyleModel",
      "state": {
       "_model_module": "@jupyter-widgets/controls",
       "_model_module_version": "1.5.0",
       "_model_name": "DescriptionStyleModel",
       "_view_count": null,
       "_view_module": "@jupyter-widgets/base",
       "_view_module_version": "1.2.0",
       "_view_name": "StyleView",
       "description_width": ""
      }
     },
     "f6c88363ab9b4fac96faa93158c354c4": {
      "model_module": "@jupyter-widgets/controls",
      "model_module_version": "1.5.0",
      "model_name": "DescriptionStyleModel",
      "state": {
       "_model_module": "@jupyter-widgets/controls",
       "_model_module_version": "1.5.0",
       "_model_name": "DescriptionStyleModel",
       "_view_count": null,
       "_view_module": "@jupyter-widgets/base",
       "_view_module_version": "1.2.0",
       "_view_name": "StyleView",
       "description_width": ""
      }
     },
     "f74f92f419654153ae5d0013a325a44f": {
      "model_module": "@jupyter-widgets/base",
      "model_module_version": "1.2.0",
      "model_name": "LayoutModel",
      "state": {
       "_model_module": "@jupyter-widgets/base",
       "_model_module_version": "1.2.0",
       "_model_name": "LayoutModel",
       "_view_count": null,
       "_view_module": "@jupyter-widgets/base",
       "_view_module_version": "1.2.0",
       "_view_name": "LayoutView",
       "align_content": null,
       "align_items": null,
       "align_self": null,
       "border": null,
       "bottom": null,
       "display": null,
       "flex": null,
       "flex_flow": null,
       "grid_area": null,
       "grid_auto_columns": null,
       "grid_auto_flow": null,
       "grid_auto_rows": null,
       "grid_column": null,
       "grid_gap": null,
       "grid_row": null,
       "grid_template_areas": null,
       "grid_template_columns": null,
       "grid_template_rows": null,
       "height": null,
       "justify_content": null,
       "justify_items": null,
       "left": null,
       "margin": null,
       "max_height": null,
       "max_width": null,
       "min_height": null,
       "min_width": null,
       "object_fit": null,
       "object_position": null,
       "order": null,
       "overflow": null,
       "overflow_x": null,
       "overflow_y": null,
       "padding": null,
       "right": null,
       "top": null,
       "visibility": null,
       "width": null
      }
     },
     "f78bdc9322dc46f79623912e7560783a": {
      "model_module": "@jupyter-widgets/controls",
      "model_module_version": "1.5.0",
      "model_name": "FloatProgressModel",
      "state": {
       "_dom_classes": [],
       "_model_module": "@jupyter-widgets/controls",
       "_model_module_version": "1.5.0",
       "_model_name": "FloatProgressModel",
       "_view_count": null,
       "_view_module": "@jupyter-widgets/controls",
       "_view_module_version": "1.5.0",
       "_view_name": "ProgressView",
       "bar_style": "success",
       "description": "",
       "description_tooltip": null,
       "layout": "IPY_MODEL_c7058d95594a46c0a012ae1d462b1039",
       "max": 466062,
       "min": 0,
       "orientation": "horizontal",
       "style": "IPY_MODEL_8281c47951ea4554b02ba58cb4e5d836",
       "value": 466062
      }
     },
     "f7c2359a80c04045995f13eb84e0272b": {
      "model_module": "@jupyter-widgets/base",
      "model_module_version": "1.2.0",
      "model_name": "LayoutModel",
      "state": {
       "_model_module": "@jupyter-widgets/base",
       "_model_module_version": "1.2.0",
       "_model_name": "LayoutModel",
       "_view_count": null,
       "_view_module": "@jupyter-widgets/base",
       "_view_module_version": "1.2.0",
       "_view_name": "LayoutView",
       "align_content": null,
       "align_items": null,
       "align_self": null,
       "border": null,
       "bottom": null,
       "display": null,
       "flex": null,
       "flex_flow": null,
       "grid_area": null,
       "grid_auto_columns": null,
       "grid_auto_flow": null,
       "grid_auto_rows": null,
       "grid_column": null,
       "grid_gap": null,
       "grid_row": null,
       "grid_template_areas": null,
       "grid_template_columns": null,
       "grid_template_rows": null,
       "height": null,
       "justify_content": null,
       "justify_items": null,
       "left": null,
       "margin": null,
       "max_height": null,
       "max_width": null,
       "min_height": null,
       "min_width": null,
       "object_fit": null,
       "object_position": null,
       "order": null,
       "overflow": null,
       "overflow_x": null,
       "overflow_y": null,
       "padding": null,
       "right": null,
       "top": null,
       "visibility": null,
       "width": null
      }
     },
     "f7f4cd410049483eaba3b95bd76ff50c": {
      "model_module": "@jupyter-widgets/base",
      "model_module_version": "1.2.0",
      "model_name": "LayoutModel",
      "state": {
       "_model_module": "@jupyter-widgets/base",
       "_model_module_version": "1.2.0",
       "_model_name": "LayoutModel",
       "_view_count": null,
       "_view_module": "@jupyter-widgets/base",
       "_view_module_version": "1.2.0",
       "_view_name": "LayoutView",
       "align_content": null,
       "align_items": null,
       "align_self": null,
       "border": null,
       "bottom": null,
       "display": null,
       "flex": null,
       "flex_flow": null,
       "grid_area": null,
       "grid_auto_columns": null,
       "grid_auto_flow": null,
       "grid_auto_rows": null,
       "grid_column": null,
       "grid_gap": null,
       "grid_row": null,
       "grid_template_areas": null,
       "grid_template_columns": null,
       "grid_template_rows": null,
       "height": null,
       "justify_content": null,
       "justify_items": null,
       "left": null,
       "margin": null,
       "max_height": null,
       "max_width": null,
       "min_height": null,
       "min_width": null,
       "object_fit": null,
       "object_position": null,
       "order": null,
       "overflow": null,
       "overflow_x": null,
       "overflow_y": null,
       "padding": null,
       "right": null,
       "top": null,
       "visibility": null,
       "width": null
      }
     },
     "fb58ccf4dc324bc58c0a8c38031335f8": {
      "model_module": "@jupyter-widgets/base",
      "model_module_version": "1.2.0",
      "model_name": "LayoutModel",
      "state": {
       "_model_module": "@jupyter-widgets/base",
       "_model_module_version": "1.2.0",
       "_model_name": "LayoutModel",
       "_view_count": null,
       "_view_module": "@jupyter-widgets/base",
       "_view_module_version": "1.2.0",
       "_view_name": "LayoutView",
       "align_content": null,
       "align_items": null,
       "align_self": null,
       "border": null,
       "bottom": null,
       "display": null,
       "flex": null,
       "flex_flow": null,
       "grid_area": null,
       "grid_auto_columns": null,
       "grid_auto_flow": null,
       "grid_auto_rows": null,
       "grid_column": null,
       "grid_gap": null,
       "grid_row": null,
       "grid_template_areas": null,
       "grid_template_columns": null,
       "grid_template_rows": null,
       "height": null,
       "justify_content": null,
       "justify_items": null,
       "left": null,
       "margin": null,
       "max_height": null,
       "max_width": null,
       "min_height": null,
       "min_width": null,
       "object_fit": null,
       "object_position": null,
       "order": null,
       "overflow": null,
       "overflow_x": null,
       "overflow_y": null,
       "padding": null,
       "right": null,
       "top": null,
       "visibility": null,
       "width": null
      }
     },
     "fb7dd4fd6f9f4db782e63d8b7757c2d7": {
      "model_module": "@jupyter-widgets/controls",
      "model_module_version": "1.5.0",
      "model_name": "HTMLModel",
      "state": {
       "_dom_classes": [],
       "_model_module": "@jupyter-widgets/controls",
       "_model_module_version": "1.5.0",
       "_model_name": "HTMLModel",
       "_view_count": null,
       "_view_module": "@jupyter-widgets/controls",
       "_view_module_version": "1.5.0",
       "_view_name": "HTMLView",
       "description": "",
       "description_tooltip": null,
       "layout": "IPY_MODEL_dd13e12e06bb402fad41639d9d873d8e",
       "placeholder": "​",
       "style": "IPY_MODEL_cc7cc7c48a5742cda4bebf09cdddfb37",
       "value": "  0%"
      }
     },
     "ffebe6db720f4eeabec970f60736789f": {
      "model_module": "@jupyter-widgets/base",
      "model_module_version": "1.2.0",
      "model_name": "LayoutModel",
      "state": {
       "_model_module": "@jupyter-widgets/base",
       "_model_module_version": "1.2.0",
       "_model_name": "LayoutModel",
       "_view_count": null,
       "_view_module": "@jupyter-widgets/base",
       "_view_module_version": "1.2.0",
       "_view_name": "LayoutView",
       "align_content": null,
       "align_items": null,
       "align_self": null,
       "border": null,
       "bottom": null,
       "display": null,
       "flex": null,
       "flex_flow": null,
       "grid_area": null,
       "grid_auto_columns": null,
       "grid_auto_flow": null,
       "grid_auto_rows": null,
       "grid_column": null,
       "grid_gap": null,
       "grid_row": null,
       "grid_template_areas": null,
       "grid_template_columns": null,
       "grid_template_rows": null,
       "height": null,
       "justify_content": null,
       "justify_items": null,
       "left": null,
       "margin": null,
       "max_height": null,
       "max_width": null,
       "min_height": null,
       "min_width": null,
       "object_fit": null,
       "object_position": null,
       "order": null,
       "overflow": null,
       "overflow_x": null,
       "overflow_y": null,
       "padding": null,
       "right": null,
       "top": null,
       "visibility": null,
       "width": null
      }
     }
    },
    "version_major": 2,
    "version_minor": 0
   }
  }
 },
 "nbformat": 4,
 "nbformat_minor": 5
}
